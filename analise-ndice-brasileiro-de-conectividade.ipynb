{
 "cells": [
  {
   "cell_type": "code",
   "execution_count": 12,
   "metadata": {
    "_cell_guid": "b1076dfc-b9ad-4769-8c92-a6c4dae69d19",
    "_uuid": "8f2839f25d086af736a60e9eeb907d3b93b6e0e5",
    "execution": {
     "iopub.execute_input": "2025-10-04T18:23:37.717950Z",
     "iopub.status.busy": "2025-10-04T18:23:37.717512Z",
     "iopub.status.idle": "2025-10-04T18:23:37.729769Z",
     "shell.execute_reply": "2025-10-04T18:23:37.728373Z",
     "shell.execute_reply.started": "2025-10-04T18:23:37.717916Z"
    },
    "jupyter": {
     "source_hidden": true
    },
    "trusted": true
   },
   "outputs": [],
   "source": [
    "# This Python 3 environment comes with many helpful analytics libraries installed\n",
    "# It is defined by the kaggle/python Docker image: https://github.com/kaggle/docker-python\n",
    "# For example, here's several helpful packages to load\n",
    "\n",
    "import numpy as np # linear algebra\n",
    "import pandas as pd # data processing, CSV file I/O (e.g. pd.read_csv)\n",
    "\n",
    "# Input data files are available in the read-only \"../input/\" directory\n",
    "# For example, running this (by clicking run or pressing Shift+Enter) will list all files under the input directory\n",
    "\n",
    "import os\n",
    "for dirname, _, filenames in os.walk('/kaggle/input'):\n",
    "    for filename in filenames:\n",
    "        print(os.path.join(dirname, filename))\n",
    "\n",
    "# You can write up to 20GB to the current directory (/kaggle/working/) that gets preserved as output when you create a version using \"Save & Run All\" \n",
    "# You can also write temporary files to /kaggle/temp/, but they won't be saved outside of the current session"
   ]
  },
  {
   "cell_type": "markdown",
   "metadata": {},
   "source": [
    "# **Objetivos do Estudo de Caso**\n",
    "* A presente análise tem como base o seguinte banco de dados: Índice Brasileiro de Conectividade.\n",
    "* Disponível no seguinte link: https://basedosdados.org/dataset/ad45c5dc-ecc6-43db-ae2c-45d71939e7c5?table=c7166975-1f44-4c54-852a-80a3d22004a4\n",
    "* Foi consultado também o relatório metodológico disponível no seguinte link: https://sei.anatel.gov.br/sei/modulos/pesquisa/md_pesq_documento_consulta_externa.php?eEP-wqk1skrd8hSlk5Z3rN4EVg9uLJqrLYJw_9INcO4Yxr9JzBx7a7a-byGQcbkUEkzeU9BmRq4_-adGjI7QmqTMASmADG4JO_jAaJDUwJTUMoFW4XiMvcquOtvF6Jqw\n",
    "* A proposta é fazer uma análise exploratória usando SQL em um primeiro bloco e Python em outro, a escolha por usar o SQL é justamente para praticar alguns conceitos da linguagem em um projeto de estudo, além disso, será feita algumas análises envolvendo correlação e regressões para ver se determinados componentes afetam mais ou menos o respectivo Índice, podendo se utilizar de outros dados para definirmos isso.\n",
    "* Analises do IBC - O Índice nos revela já a visão considerando todos os fatores em conjunto, assim quanto maior for a pontuação no mesmo maior será a conectividade do agregado que estamos analisando\n",
    "  1. Maiores e Menores médias do IBC por Cidade\n",
    "  2. Média do IBC por Estado e Região\n",
    "  3. As cidades que são capitais quais possuem os maiores e menores IBC\n",
    "* Analises de Cobertura 4G/5G na Móvel e Cobertura de Fibra - Componente do índice, ele pode nos fornecer uma análise acerca desse indicador isoladamente para vermos se cidades ou estados possuem uma alta cobertura nesses indicadores e ver se no período analisado eles aumentaram ou diminuíram\n",
    "  1. Analisar a porcentagem média das coberturas de Móvel por Estado e Região\n",
    "  2. Analisar a quantidade de cidades com nenhuma cobertura de fibra, cobertura parcial e cobertura completa.\n",
    "  3. Analisar da quantidade de cidades com tipo de cobertura de fibras quantas dessas pertencem aos respectivos estados e regiões\n",
    "* Analises do Índice de Herfindahl–Hirschman (HHI) de Móvel e Fibra - Este índice importante na economia industrial nos mostra uma metodologia para calcular a competitividade de um mercado, índices maiores indicam um mercado mais concentrado como Monopólios ou Oligopólios, um HHI mais baixo indica um mercado mais competitivo,contudo este índice normalmente expresso em intervalos entre 0 a 10000 foi normalizado para 0 a 100. Sabemos já de antemão que na móvel temos um mercado concentrado com poucas operadoras se destacando Vivo, Claro e TIM, contudo na fibra ainda temos um mercado com mais opções de pequenos provedores.\n",
    "  1. Analisar os maiores e menores HHI por Cidade\n",
    "  2. Analisar a evolução média do HHI por Estado e Região\n",
    "  3. Analisar a evolução do HHI por cidades que são capitais"
   ]
  },
  {
   "cell_type": "markdown",
   "metadata": {},
   "source": [
    "# **Limpeza e Tratamento dos Dados**\n",
    "* Carregamento das bibliotecas necessárias, bem como o rearranjo das tabelas de Municípios e UF"
   ]
  },
  {
   "cell_type": "code",
   "execution_count": 13,
   "metadata": {
    "execution": {
     "iopub.execute_input": "2025-10-04T18:23:37.732269Z",
     "iopub.status.busy": "2025-10-04T18:23:37.731848Z",
     "iopub.status.idle": "2025-10-04T18:23:37.762155Z",
     "shell.execute_reply": "2025-10-04T18:23:37.760394Z",
     "shell.execute_reply.started": "2025-10-04T18:23:37.732173Z"
    },
    "trusted": true
   },
   "outputs": [],
   "source": [
    "#Importando os pacotes\n",
    "import pandas as pd\n",
    "from pandasql import sqldf\n",
    "import plotly.express as px\n",
    "import seaborn as sns\n",
    "import matplotlib.pyplot as plt"
   ]
  },
  {
   "cell_type": "code",
   "execution_count": 14,
   "metadata": {
    "execution": {
     "iopub.execute_input": "2025-10-04T18:23:37.764371Z",
     "iopub.status.busy": "2025-10-04T18:23:37.763636Z",
     "iopub.status.idle": "2025-10-04T18:23:37.870885Z",
     "shell.execute_reply": "2025-10-04T18:23:37.869499Z",
     "shell.execute_reply.started": "2025-10-04T18:23:37.764343Z"
    },
    "trusted": true
   },
   "outputs": [],
   "source": [
    "# Importando os DataFrames por Pandas\n",
    "df = pd.read_csv('br_anatel_indice_brasileiro_conectividade_municipio.csv')\n",
    "Municipios = pd.read_csv('br_bd_diretorios_brasil_municipio.csv')\n",
    "UF = pd.read_csv('br_bd_diretorios_brasil_uf.csv')"
   ]
  },
  {
   "cell_type": "code",
   "execution_count": 15,
   "metadata": {
    "execution": {
     "iopub.execute_input": "2025-10-04T18:23:37.872431Z",
     "iopub.status.busy": "2025-10-04T18:23:37.871996Z",
     "iopub.status.idle": "2025-10-04T18:23:37.887567Z",
     "shell.execute_reply": "2025-10-04T18:23:37.886294Z",
     "shell.execute_reply.started": "2025-10-04T18:23:37.872397Z"
    },
    "trusted": true
   },
   "outputs": [
    {
     "data": {
      "text/html": [
       "<div>\n",
       "<style scoped>\n",
       "    .dataframe tbody tr th:only-of-type {\n",
       "        vertical-align: middle;\n",
       "    }\n",
       "\n",
       "    .dataframe tbody tr th {\n",
       "        vertical-align: top;\n",
       "    }\n",
       "\n",
       "    .dataframe thead th {\n",
       "        text-align: right;\n",
       "    }\n",
       "</style>\n",
       "<table border=\"1\" class=\"dataframe\">\n",
       "  <thead>\n",
       "    <tr style=\"text-align: right;\">\n",
       "      <th></th>\n",
       "      <th>id_municipio</th>\n",
       "      <th>capital_uf</th>\n",
       "      <th>nome</th>\n",
       "      <th>ddd</th>\n",
       "    </tr>\n",
       "  </thead>\n",
       "  <tbody>\n",
       "    <tr>\n",
       "      <th>0</th>\n",
       "      <td>1100809</td>\n",
       "      <td>0</td>\n",
       "      <td>Candeias do Jamari</td>\n",
       "      <td>69</td>\n",
       "    </tr>\n",
       "    <tr>\n",
       "      <th>1</th>\n",
       "      <td>1100338</td>\n",
       "      <td>0</td>\n",
       "      <td>Nova Mamoré</td>\n",
       "      <td>69</td>\n",
       "    </tr>\n",
       "    <tr>\n",
       "      <th>2</th>\n",
       "      <td>1100205</td>\n",
       "      <td>1</td>\n",
       "      <td>Porto Velho</td>\n",
       "      <td>69</td>\n",
       "    </tr>\n",
       "    <tr>\n",
       "      <th>3</th>\n",
       "      <td>1101104</td>\n",
       "      <td>0</td>\n",
       "      <td>Itapuã do Oeste</td>\n",
       "      <td>69</td>\n",
       "    </tr>\n",
       "    <tr>\n",
       "      <th>4</th>\n",
       "      <td>1100940</td>\n",
       "      <td>0</td>\n",
       "      <td>Cujubim</td>\n",
       "      <td>69</td>\n",
       "    </tr>\n",
       "    <tr>\n",
       "      <th>...</th>\n",
       "      <td>...</td>\n",
       "      <td>...</td>\n",
       "      <td>...</td>\n",
       "      <td>...</td>\n",
       "    </tr>\n",
       "    <tr>\n",
       "      <th>5565</th>\n",
       "      <td>5218508</td>\n",
       "      <td>0</td>\n",
       "      <td>Quirinópolis</td>\n",
       "      <td>64</td>\n",
       "    </tr>\n",
       "    <tr>\n",
       "      <th>5566</th>\n",
       "      <td>5220405</td>\n",
       "      <td>0</td>\n",
       "      <td>São Simão</td>\n",
       "      <td>64</td>\n",
       "    </tr>\n",
       "    <tr>\n",
       "      <th>5567</th>\n",
       "      <td>5209150</td>\n",
       "      <td>0</td>\n",
       "      <td>Gouvelândia</td>\n",
       "      <td>64</td>\n",
       "    </tr>\n",
       "    <tr>\n",
       "      <th>5568</th>\n",
       "      <td>5216304</td>\n",
       "      <td>0</td>\n",
       "      <td>Paranaiguara</td>\n",
       "      <td>64</td>\n",
       "    </tr>\n",
       "    <tr>\n",
       "      <th>5569</th>\n",
       "      <td>5300108</td>\n",
       "      <td>1</td>\n",
       "      <td>Brasília</td>\n",
       "      <td>61</td>\n",
       "    </tr>\n",
       "  </tbody>\n",
       "</table>\n",
       "<p>5570 rows × 4 columns</p>\n",
       "</div>"
      ],
      "text/plain": [
       "      id_municipio  capital_uf                nome  ddd\n",
       "0          1100809           0  Candeias do Jamari   69\n",
       "1          1100338           0         Nova Mamoré   69\n",
       "2          1100205           1         Porto Velho   69\n",
       "3          1101104           0     Itapuã do Oeste   69\n",
       "4          1100940           0             Cujubim   69\n",
       "...            ...         ...                 ...  ...\n",
       "5565       5218508           0        Quirinópolis   64\n",
       "5566       5220405           0           São Simão   64\n",
       "5567       5209150           0         Gouvelândia   64\n",
       "5568       5216304           0        Paranaiguara   64\n",
       "5569       5300108           1            Brasília   61\n",
       "\n",
       "[5570 rows x 4 columns]"
      ]
     },
     "metadata": {},
     "output_type": "display_data"
    }
   ],
   "source": [
    "# Selecionando as colunas da tabela de Municipios de nosso interresse\n",
    "Municipios=Municipios[['id_municipio','capital_uf','nome','ddd']]\n",
    "display(Municipios)"
   ]
  },
  {
   "cell_type": "code",
   "execution_count": 16,
   "metadata": {
    "execution": {
     "iopub.execute_input": "2025-10-04T18:23:37.889095Z",
     "iopub.status.busy": "2025-10-04T18:23:37.888747Z",
     "iopub.status.idle": "2025-10-04T18:23:37.924013Z",
     "shell.execute_reply": "2025-10-04T18:23:37.923109Z",
     "shell.execute_reply.started": "2025-10-04T18:23:37.889066Z"
    },
    "trusted": true
   },
   "outputs": [],
   "source": [
    "# Juntando os dataframes em um para analises futuras\n",
    "\n",
    "df_agrupado_1=df.merge(Municipios,how='left',on='id_municipio')\n",
    "df_agrupado=df_agrupado_1.merge(UF,how='left',left_on='sigla_uf',right_on='sigla')\n",
    "df = df_agrupado"
   ]
  },
  {
   "cell_type": "code",
   "execution_count": 17,
   "metadata": {
    "execution": {
     "iopub.execute_input": "2025-10-04T18:23:37.925288Z",
     "iopub.status.busy": "2025-10-04T18:23:37.925018Z",
     "iopub.status.idle": "2025-10-04T18:23:37.940980Z",
     "shell.execute_reply": "2025-10-04T18:23:37.939720Z",
     "shell.execute_reply.started": "2025-10-04T18:23:37.925268Z"
    },
    "trusted": true
   },
   "outputs": [
    {
     "name": "stdout",
     "output_type": "stream",
     "text": [
      "        ano sigla_uf  id_municipio    ibc  cobertura_pop_4g5g  fibra  \\\n",
      "0      2024       RO       1100296  49.92             62.9831    100   \n",
      "1      2024       AC       1200351  16.28             30.3470      0   \n",
      "2      2024       AM       1300839  29.17             50.9133     50   \n",
      "3      2024       AM       1302207  20.06             53.3310      0   \n",
      "4      2024       PA       1501204  34.08             52.8200    100   \n",
      "...     ...      ...           ...    ...                 ...    ...   \n",
      "22275  2021       GO       5200175  25.93             49.7511      0   \n",
      "22276  2021       GO       5203609  51.96             75.9803    100   \n",
      "22277  2021       GO       5210901  58.97             92.1169    100   \n",
      "22278  2021       GO       5212956  22.04             63.3863      0   \n",
      "22279  2021       GO       5219605  53.46             86.2609    100   \n",
      "\n",
      "       densidade_smp  hhi_smp  densidade_scm  hhi_scm  adensamento_estacoes  \\\n",
      "0              44.00       51          23.87       47                 25.39   \n",
      "1              36.72       16           8.04       33                  8.36   \n",
      "2              26.62        7           0.65       71                 17.47   \n",
      "3              36.33       36           5.85       19                 13.45   \n",
      "4              20.46       15           2.85       52                  6.26   \n",
      "...              ...      ...            ...      ...                   ...   \n",
      "22275          59.10        8           3.31       66                  8.80   \n",
      "22276          59.46       21           4.13       80                  6.74   \n",
      "22277          62.27       80           5.49       82                  5.39   \n",
      "22278          28.28       23           0.95       60                  5.95   \n",
      "22279          76.82       21           3.85       19                  8.01   \n",
      "\n",
      "       capital_uf         nome_municipio  ddd  id_uf sigla nome_estado  \\\n",
      "0               0    Santa Luzia D'Oeste   69     11    RO    Rondônia   \n",
      "1               0   Marechal Thaumaturgo   68     12    AC        Acre   \n",
      "2               0             Caapiranga   92     13    AM    Amazonas   \n",
      "3               0                  Juruá   97     13    AM    Amazonas   \n",
      "4               0                  Baião   91     15    PA        Pará   \n",
      "...           ...                    ...  ...    ...   ...         ...   \n",
      "22275           0     Água Fria de Goiás   62     52    GO       Goiás   \n",
      "22276           0           Brazabrantes   62     52    GO       Goiás   \n",
      "22277           0                Itapaci   62     52    GO       Goiás   \n",
      "22278           0              Matrinchã   62     52    GO       Goiás   \n",
      "22279           0  Santa Tereza de Goiás   62     52    GO       Goiás   \n",
      "\n",
      "             regiao  \n",
      "0             Norte  \n",
      "1             Norte  \n",
      "2             Norte  \n",
      "3             Norte  \n",
      "4             Norte  \n",
      "...             ...  \n",
      "22275  Centro-Oeste  \n",
      "22276  Centro-Oeste  \n",
      "22277  Centro-Oeste  \n",
      "22278  Centro-Oeste  \n",
      "22279  Centro-Oeste  \n",
      "\n",
      "[22280 rows x 18 columns]\n"
     ]
    }
   ],
   "source": [
    "# Renomeando algumas colunas da tabela para melhor leitura\n",
    "df.rename(columns = {'nome_x':'nome_municipio'},inplace=True)\n",
    "df.rename(columns = {'nome_y':'nome_estado'},inplace=True)\n",
    "pd.set_option('display.max_columns', None)\n",
    "print(df)"
   ]
  },
  {
   "cell_type": "code",
   "execution_count": 18,
   "metadata": {
    "execution": {
     "iopub.execute_input": "2025-10-04T18:23:37.941967Z",
     "iopub.status.busy": "2025-10-04T18:23:37.941662Z",
     "iopub.status.idle": "2025-10-04T18:23:37.961220Z",
     "shell.execute_reply": "2025-10-04T18:23:37.960106Z",
     "shell.execute_reply.started": "2025-10-04T18:23:37.941946Z"
    },
    "trusted": true
   },
   "outputs": [],
   "source": [
    "#Como temos duas tabelas com siglas de estados iremos excluir uma delas\n",
    "df.drop('sigla',axis=1,inplace=True)"
   ]
  },
  {
   "cell_type": "code",
   "execution_count": 19,
   "metadata": {
    "execution": {
     "iopub.execute_input": "2025-10-04T18:23:37.962719Z",
     "iopub.status.busy": "2025-10-04T18:23:37.962433Z",
     "iopub.status.idle": "2025-10-04T18:23:37.992775Z",
     "shell.execute_reply": "2025-10-04T18:23:37.991300Z",
     "shell.execute_reply.started": "2025-10-04T18:23:37.962692Z"
    },
    "trusted": true
   },
   "outputs": [
    {
     "data": {
      "text/html": [
       "<div>\n",
       "<style scoped>\n",
       "    .dataframe tbody tr th:only-of-type {\n",
       "        vertical-align: middle;\n",
       "    }\n",
       "\n",
       "    .dataframe tbody tr th {\n",
       "        vertical-align: top;\n",
       "    }\n",
       "\n",
       "    .dataframe thead th {\n",
       "        text-align: right;\n",
       "    }\n",
       "</style>\n",
       "<table border=\"1\" class=\"dataframe\">\n",
       "  <thead>\n",
       "    <tr style=\"text-align: right;\">\n",
       "      <th></th>\n",
       "      <th>ano</th>\n",
       "      <th>sigla_uf</th>\n",
       "      <th>id_municipio</th>\n",
       "      <th>ibc</th>\n",
       "      <th>cobertura_pop_4g5g</th>\n",
       "      <th>fibra</th>\n",
       "      <th>densidade_smp</th>\n",
       "      <th>hhi_smp</th>\n",
       "      <th>densidade_scm</th>\n",
       "      <th>hhi_scm</th>\n",
       "      <th>adensamento_estacoes</th>\n",
       "      <th>capital_uf</th>\n",
       "      <th>nome_municipio</th>\n",
       "      <th>ddd</th>\n",
       "      <th>id_uf</th>\n",
       "      <th>nome_estado</th>\n",
       "      <th>regiao</th>\n",
       "    </tr>\n",
       "  </thead>\n",
       "  <tbody>\n",
       "    <tr>\n",
       "      <th>0</th>\n",
       "      <td>2024</td>\n",
       "      <td>RO</td>\n",
       "      <td>1100296</td>\n",
       "      <td>49.92</td>\n",
       "      <td>62.9831</td>\n",
       "      <td>100</td>\n",
       "      <td>44.00</td>\n",
       "      <td>51</td>\n",
       "      <td>23.87</td>\n",
       "      <td>47</td>\n",
       "      <td>25.39</td>\n",
       "      <td>0</td>\n",
       "      <td>Santa Luzia D'Oeste</td>\n",
       "      <td>69</td>\n",
       "      <td>11</td>\n",
       "      <td>Rondônia</td>\n",
       "      <td>Norte</td>\n",
       "    </tr>\n",
       "    <tr>\n",
       "      <th>1</th>\n",
       "      <td>2024</td>\n",
       "      <td>AC</td>\n",
       "      <td>1200351</td>\n",
       "      <td>16.28</td>\n",
       "      <td>30.3470</td>\n",
       "      <td>0</td>\n",
       "      <td>36.72</td>\n",
       "      <td>16</td>\n",
       "      <td>8.04</td>\n",
       "      <td>33</td>\n",
       "      <td>8.36</td>\n",
       "      <td>0</td>\n",
       "      <td>Marechal Thaumaturgo</td>\n",
       "      <td>68</td>\n",
       "      <td>12</td>\n",
       "      <td>Acre</td>\n",
       "      <td>Norte</td>\n",
       "    </tr>\n",
       "    <tr>\n",
       "      <th>2</th>\n",
       "      <td>2024</td>\n",
       "      <td>AM</td>\n",
       "      <td>1300839</td>\n",
       "      <td>29.17</td>\n",
       "      <td>50.9133</td>\n",
       "      <td>50</td>\n",
       "      <td>26.62</td>\n",
       "      <td>7</td>\n",
       "      <td>0.65</td>\n",
       "      <td>71</td>\n",
       "      <td>17.47</td>\n",
       "      <td>0</td>\n",
       "      <td>Caapiranga</td>\n",
       "      <td>92</td>\n",
       "      <td>13</td>\n",
       "      <td>Amazonas</td>\n",
       "      <td>Norte</td>\n",
       "    </tr>\n",
       "    <tr>\n",
       "      <th>3</th>\n",
       "      <td>2024</td>\n",
       "      <td>AM</td>\n",
       "      <td>1302207</td>\n",
       "      <td>20.06</td>\n",
       "      <td>53.3310</td>\n",
       "      <td>0</td>\n",
       "      <td>36.33</td>\n",
       "      <td>36</td>\n",
       "      <td>5.85</td>\n",
       "      <td>19</td>\n",
       "      <td>13.45</td>\n",
       "      <td>0</td>\n",
       "      <td>Juruá</td>\n",
       "      <td>97</td>\n",
       "      <td>13</td>\n",
       "      <td>Amazonas</td>\n",
       "      <td>Norte</td>\n",
       "    </tr>\n",
       "    <tr>\n",
       "      <th>4</th>\n",
       "      <td>2024</td>\n",
       "      <td>PA</td>\n",
       "      <td>1501204</td>\n",
       "      <td>34.08</td>\n",
       "      <td>52.8200</td>\n",
       "      <td>100</td>\n",
       "      <td>20.46</td>\n",
       "      <td>15</td>\n",
       "      <td>2.85</td>\n",
       "      <td>52</td>\n",
       "      <td>6.26</td>\n",
       "      <td>0</td>\n",
       "      <td>Baião</td>\n",
       "      <td>91</td>\n",
       "      <td>15</td>\n",
       "      <td>Pará</td>\n",
       "      <td>Norte</td>\n",
       "    </tr>\n",
       "    <tr>\n",
       "      <th>...</th>\n",
       "      <td>...</td>\n",
       "      <td>...</td>\n",
       "      <td>...</td>\n",
       "      <td>...</td>\n",
       "      <td>...</td>\n",
       "      <td>...</td>\n",
       "      <td>...</td>\n",
       "      <td>...</td>\n",
       "      <td>...</td>\n",
       "      <td>...</td>\n",
       "      <td>...</td>\n",
       "      <td>...</td>\n",
       "      <td>...</td>\n",
       "      <td>...</td>\n",
       "      <td>...</td>\n",
       "      <td>...</td>\n",
       "      <td>...</td>\n",
       "    </tr>\n",
       "    <tr>\n",
       "      <th>22275</th>\n",
       "      <td>2021</td>\n",
       "      <td>GO</td>\n",
       "      <td>5200175</td>\n",
       "      <td>25.93</td>\n",
       "      <td>49.7511</td>\n",
       "      <td>0</td>\n",
       "      <td>59.10</td>\n",
       "      <td>8</td>\n",
       "      <td>3.31</td>\n",
       "      <td>66</td>\n",
       "      <td>8.80</td>\n",
       "      <td>0</td>\n",
       "      <td>Água Fria de Goiás</td>\n",
       "      <td>62</td>\n",
       "      <td>52</td>\n",
       "      <td>Goiás</td>\n",
       "      <td>Centro-Oeste</td>\n",
       "    </tr>\n",
       "    <tr>\n",
       "      <th>22276</th>\n",
       "      <td>2021</td>\n",
       "      <td>GO</td>\n",
       "      <td>5203609</td>\n",
       "      <td>51.96</td>\n",
       "      <td>75.9803</td>\n",
       "      <td>100</td>\n",
       "      <td>59.46</td>\n",
       "      <td>21</td>\n",
       "      <td>4.13</td>\n",
       "      <td>80</td>\n",
       "      <td>6.74</td>\n",
       "      <td>0</td>\n",
       "      <td>Brazabrantes</td>\n",
       "      <td>62</td>\n",
       "      <td>52</td>\n",
       "      <td>Goiás</td>\n",
       "      <td>Centro-Oeste</td>\n",
       "    </tr>\n",
       "    <tr>\n",
       "      <th>22277</th>\n",
       "      <td>2021</td>\n",
       "      <td>GO</td>\n",
       "      <td>5210901</td>\n",
       "      <td>58.97</td>\n",
       "      <td>92.1169</td>\n",
       "      <td>100</td>\n",
       "      <td>62.27</td>\n",
       "      <td>80</td>\n",
       "      <td>5.49</td>\n",
       "      <td>82</td>\n",
       "      <td>5.39</td>\n",
       "      <td>0</td>\n",
       "      <td>Itapaci</td>\n",
       "      <td>62</td>\n",
       "      <td>52</td>\n",
       "      <td>Goiás</td>\n",
       "      <td>Centro-Oeste</td>\n",
       "    </tr>\n",
       "    <tr>\n",
       "      <th>22278</th>\n",
       "      <td>2021</td>\n",
       "      <td>GO</td>\n",
       "      <td>5212956</td>\n",
       "      <td>22.04</td>\n",
       "      <td>63.3863</td>\n",
       "      <td>0</td>\n",
       "      <td>28.28</td>\n",
       "      <td>23</td>\n",
       "      <td>0.95</td>\n",
       "      <td>60</td>\n",
       "      <td>5.95</td>\n",
       "      <td>0</td>\n",
       "      <td>Matrinchã</td>\n",
       "      <td>62</td>\n",
       "      <td>52</td>\n",
       "      <td>Goiás</td>\n",
       "      <td>Centro-Oeste</td>\n",
       "    </tr>\n",
       "    <tr>\n",
       "      <th>22279</th>\n",
       "      <td>2021</td>\n",
       "      <td>GO</td>\n",
       "      <td>5219605</td>\n",
       "      <td>53.46</td>\n",
       "      <td>86.2609</td>\n",
       "      <td>100</td>\n",
       "      <td>76.82</td>\n",
       "      <td>21</td>\n",
       "      <td>3.85</td>\n",
       "      <td>19</td>\n",
       "      <td>8.01</td>\n",
       "      <td>0</td>\n",
       "      <td>Santa Tereza de Goiás</td>\n",
       "      <td>62</td>\n",
       "      <td>52</td>\n",
       "      <td>Goiás</td>\n",
       "      <td>Centro-Oeste</td>\n",
       "    </tr>\n",
       "  </tbody>\n",
       "</table>\n",
       "<p>22280 rows × 17 columns</p>\n",
       "</div>"
      ],
      "text/plain": [
       "        ano sigla_uf  id_municipio    ibc  cobertura_pop_4g5g  fibra  \\\n",
       "0      2024       RO       1100296  49.92             62.9831    100   \n",
       "1      2024       AC       1200351  16.28             30.3470      0   \n",
       "2      2024       AM       1300839  29.17             50.9133     50   \n",
       "3      2024       AM       1302207  20.06             53.3310      0   \n",
       "4      2024       PA       1501204  34.08             52.8200    100   \n",
       "...     ...      ...           ...    ...                 ...    ...   \n",
       "22275  2021       GO       5200175  25.93             49.7511      0   \n",
       "22276  2021       GO       5203609  51.96             75.9803    100   \n",
       "22277  2021       GO       5210901  58.97             92.1169    100   \n",
       "22278  2021       GO       5212956  22.04             63.3863      0   \n",
       "22279  2021       GO       5219605  53.46             86.2609    100   \n",
       "\n",
       "       densidade_smp  hhi_smp  densidade_scm  hhi_scm  adensamento_estacoes  \\\n",
       "0              44.00       51          23.87       47                 25.39   \n",
       "1              36.72       16           8.04       33                  8.36   \n",
       "2              26.62        7           0.65       71                 17.47   \n",
       "3              36.33       36           5.85       19                 13.45   \n",
       "4              20.46       15           2.85       52                  6.26   \n",
       "...              ...      ...            ...      ...                   ...   \n",
       "22275          59.10        8           3.31       66                  8.80   \n",
       "22276          59.46       21           4.13       80                  6.74   \n",
       "22277          62.27       80           5.49       82                  5.39   \n",
       "22278          28.28       23           0.95       60                  5.95   \n",
       "22279          76.82       21           3.85       19                  8.01   \n",
       "\n",
       "       capital_uf         nome_municipio  ddd  id_uf nome_estado        regiao  \n",
       "0               0    Santa Luzia D'Oeste   69     11    Rondônia         Norte  \n",
       "1               0   Marechal Thaumaturgo   68     12        Acre         Norte  \n",
       "2               0             Caapiranga   92     13    Amazonas         Norte  \n",
       "3               0                  Juruá   97     13    Amazonas         Norte  \n",
       "4               0                  Baião   91     15        Pará         Norte  \n",
       "...           ...                    ...  ...    ...         ...           ...  \n",
       "22275           0     Água Fria de Goiás   62     52       Goiás  Centro-Oeste  \n",
       "22276           0           Brazabrantes   62     52       Goiás  Centro-Oeste  \n",
       "22277           0                Itapaci   62     52       Goiás  Centro-Oeste  \n",
       "22278           0              Matrinchã   62     52       Goiás  Centro-Oeste  \n",
       "22279           0  Santa Tereza de Goiás   62     52       Goiás  Centro-Oeste  \n",
       "\n",
       "[22280 rows x 17 columns]"
      ]
     },
     "metadata": {},
     "output_type": "display_data"
    }
   ],
   "source": [
    "display(df)"
   ]
  },
  {
   "cell_type": "markdown",
   "metadata": {},
   "source": [
    "# **Análise dos IBC's**"
   ]
  },
  {
   "cell_type": "markdown",
   "metadata": {},
   "source": [
    "## Maiores e Menores Médias por Cidade"
   ]
  },
  {
   "cell_type": "code",
   "execution_count": 20,
   "metadata": {
    "execution": {
     "iopub.execute_input": "2025-10-04T18:23:37.994521Z",
     "iopub.status.busy": "2025-10-04T18:23:37.994149Z",
     "iopub.status.idle": "2025-10-04T18:23:38.482391Z",
     "shell.execute_reply": "2025-10-04T18:23:38.480784Z",
     "shell.execute_reply.started": "2025-10-04T18:23:37.994490Z"
    },
    "trusted": true
   },
   "outputs": [
    {
     "name": "stdout",
     "output_type": "stream",
     "text": [
      "       nome_municipio        nome_estado   regiao  media_ibc\n",
      "0  Armação dos Búzios     Rio de Janeiro  Sudeste    84.7625\n",
      "1           Xangri-lá  Rio Grande do Sul      Sul    80.5675\n",
      "2           Bombinhas     Santa Catarina      Sul    80.5500\n",
      "3  Balneário Camboriú     Santa Catarina      Sul    79.7800\n",
      "4            Bertioga          São Paulo  Sudeste    79.5575\n",
      "5             Gramado  Rio Grande do Sul      Sul    79.5200\n",
      "6                Imbé  Rio Grande do Sul      Sul    79.0375\n",
      "7       São Sebastião          São Paulo  Sudeste    79.0275\n",
      "8       Florianópolis     Santa Catarina      Sul    78.2925\n",
      "9             Confins       Minas Gerais  Sudeste    78.2625\n"
     ]
    }
   ],
   "source": [
    "# Selecionando os 10 Municipios com MELHORES IBC's\n",
    "query = \"\"\"\n",
    "SELECT \n",
    "    nome_municipio,nome_estado,regiao,AVG(ibc) AS media_ibc\n",
    "FROM \n",
    "    df\n",
    "GROUP BY \n",
    "    nome_municipio,nome_estado,regiao\n",
    "ORDER BY \n",
    "    media_ibc DESC\n",
    "LIMIT 10\n",
    ";\n",
    "\"\"\"\n",
    "resultado = sqldf(query)\n",
    "print(resultado)"
   ]
  },
  {
   "cell_type": "markdown",
   "metadata": {},
   "source": [
    "* Com base nesta consulta já podemos notar algo importante que das 10 cidades com maiores IBC's **100% pertencem ao Sul e Sudeste**.\n",
    "* A Região Sul lidera com 60% das cidades com maiores IBC's para o periodo observado\n",
    "* **O Estado do Rio Grande do Sul e Santa Catarina lideram com 30% das cidades com maiores IBC's**, com São Paulo ficando em segundo lugar\n",
    "* Contudo, nota-se que todas essas cidades são cidades pequenas, aonde cobrir as mesmas com conectividade não denotam grandes desafios, além disso algumas delas são **cidades turisticas ou litoraneas**, como por exemplo Gramado e Bertioga, sendo turisticas e Balneario Camboriú e São Sebastião sendo tanto litoraneas quanto atraindo turismo de outros estados."
   ]
  },
  {
   "cell_type": "code",
   "execution_count": 21,
   "metadata": {
    "execution": {
     "iopub.execute_input": "2025-10-04T18:23:38.483887Z",
     "iopub.status.busy": "2025-10-04T18:23:38.483493Z",
     "iopub.status.idle": "2025-10-04T18:23:39.050303Z",
     "shell.execute_reply": "2025-10-04T18:23:39.049062Z",
     "shell.execute_reply.started": "2025-10-04T18:23:38.483847Z"
    },
    "trusted": true
   },
   "outputs": [
    {
     "name": "stdout",
     "output_type": "stream",
     "text": [
      "      nome_municipio nome_estado    regiao  media_ibc\n",
      "0           Uiramutã     Roraima     Norte    10.8525\n",
      "1    Fernando Falcão    Maranhão  Nordeste    11.8750\n",
      "2             Chaves        Pará     Norte    11.9925\n",
      "3            Currais       Piauí  Nordeste    14.0625\n",
      "4     Marajá do Sena    Maranhão  Nordeste    14.5175\n",
      "5         Belo Monte     Alagoas  Nordeste    15.3050\n",
      "6  Itaguaçu da Bahia       Bahia  Nordeste    16.3300\n",
      "7          Normandia     Roraima     Norte    16.7175\n",
      "8         Buritirama       Bahia  Nordeste    16.8800\n",
      "9     Milton Brandão       Piauí  Nordeste    16.9250\n"
     ]
    }
   ],
   "source": [
    "# Selecionando os 10 Municipios com PIORES IBC's\n",
    "query = \"\"\"\n",
    "SELECT \n",
    "    nome_municipio,nome_estado,regiao,AVG(ibc) AS media_ibc\n",
    "FROM \n",
    "    df\n",
    "GROUP BY \n",
    "    nome_municipio,nome_estado,regiao\n",
    "ORDER BY \n",
    "    media_ibc ASC\n",
    "LIMIT 10\n",
    ";\n",
    "\"\"\"\n",
    "resultado = sqldf(query)\n",
    "print(resultado)"
   ]
  },
  {
   "cell_type": "markdown",
   "metadata": {},
   "source": [
    "* Das piores médias observadas no periodo vemos que **70% correspondem a região Nordeste, e 30% a região Norte**, isso pode ser um indicativo futuro para que ambas as regiões concentrem os IBC's mais baixos quando analisarmos a região e os estados\n",
    "* Os Estados que tiveram cidades com as piores médias foram: **Roraima,Maranhão,Piauí e Bahia**, todos com 2 cidades cada."
   ]
  },
  {
   "cell_type": "markdown",
   "metadata": {},
   "source": [
    "## Gráfico com as 20 Melhores e Piores Cidades\n",
    "* A ideia do gráfico é trazer mais municípios, bem como ter uma visão mais gráfico do IBC"
   ]
  },
  {
   "cell_type": "code",
   "execution_count": 22,
   "metadata": {
    "execution": {
     "iopub.execute_input": "2025-10-04T18:23:39.051451Z",
     "iopub.status.busy": "2025-10-04T18:23:39.051175Z",
     "iopub.status.idle": "2025-10-04T18:23:40.015694Z",
     "shell.execute_reply": "2025-10-04T18:23:40.014421Z",
     "shell.execute_reply.started": "2025-10-04T18:23:39.051430Z"
    },
    "trusted": true
   },
   "outputs": [
    {
     "data": {
      "application/vnd.plotly.v1+json": {
       "config": {
        "plotlyServerURL": "https://plot.ly"
       },
       "data": [
        {
         "alignmentgroup": "True",
         "hovertemplate": "Região=Sudeste<br>IBC Médio da Cidade=%{x}<br>Nome da Cidade=%{y}<extra></extra>",
         "legendgroup": "Sudeste",
         "marker": {
          "color": "#230491",
          "pattern": {
           "shape": ""
          }
         },
         "name": "Sudeste",
         "offsetgroup": "Sudeste",
         "orientation": "h",
         "showlegend": true,
         "textposition": "auto",
         "type": "bar",
         "x": [
          84.7625,
          79.5575,
          79.0275,
          78.2625,
          77.5425,
          76.625,
          76.42750000000001,
          76.125,
          76.02250000000001,
          76.0225,
          76.0025
         ],
         "xaxis": "x",
         "y": [
          "Armação dos Búzios",
          "Bertioga",
          "São Sebastião",
          "Confins",
          "Ubatuba",
          "Mangaratiba",
          "Tiradentes",
          "Santa Cruz da Conceição",
          "Mongaguá",
          "Caraguatatuba",
          "Nova Lima"
         ],
         "yaxis": "y"
        },
        {
         "alignmentgroup": "True",
         "hovertemplate": "Região=Sul<br>IBC Médio da Cidade=%{x}<br>Nome da Cidade=%{y}<extra></extra>",
         "legendgroup": "Sul",
         "marker": {
          "color": "#860491",
          "pattern": {
           "shape": ""
          }
         },
         "name": "Sul",
         "offsetgroup": "Sul",
         "orientation": "h",
         "showlegend": true,
         "textposition": "auto",
         "type": "bar",
         "x": [
          80.5675,
          80.55,
          79.78,
          79.52,
          79.0375,
          78.29249999999999,
          77.47749999999999,
          76.78
         ],
         "xaxis": "x",
         "y": [
          "Xangri-lá",
          "Bombinhas",
          "Balneário Camboriú",
          "Gramado",
          "Imbé",
          "Florianópolis",
          "Capão da Canoa",
          "Curitiba"
         ],
         "yaxis": "y"
        },
        {
         "alignmentgroup": "True",
         "hovertemplate": "Região=Nordeste<br>IBC Médio da Cidade=%{x}<br>Nome da Cidade=%{y}<extra></extra>",
         "legendgroup": "Nordeste",
         "marker": {
          "color": "#910404",
          "pattern": {
           "shape": ""
          }
         },
         "name": "Nordeste",
         "offsetgroup": "Nordeste",
         "orientation": "h",
         "showlegend": true,
         "textposition": "auto",
         "type": "bar",
         "x": [
          75.845
         ],
         "xaxis": "x",
         "y": [
          "Barra de São Miguel"
         ],
         "yaxis": "y"
        }
       ],
       "layout": {
        "barmode": "relative",
        "legend": {
         "title": {
          "text": "Região"
         },
         "tracegroupgap": 0
        },
        "template": {
         "data": {
          "bar": [
           {
            "error_x": {
             "color": "#2a3f5f"
            },
            "error_y": {
             "color": "#2a3f5f"
            },
            "marker": {
             "line": {
              "color": "#E5ECF6",
              "width": 0.5
             },
             "pattern": {
              "fillmode": "overlay",
              "size": 10,
              "solidity": 0.2
             }
            },
            "type": "bar"
           }
          ],
          "barpolar": [
           {
            "marker": {
             "line": {
              "color": "#E5ECF6",
              "width": 0.5
             },
             "pattern": {
              "fillmode": "overlay",
              "size": 10,
              "solidity": 0.2
             }
            },
            "type": "barpolar"
           }
          ],
          "carpet": [
           {
            "aaxis": {
             "endlinecolor": "#2a3f5f",
             "gridcolor": "white",
             "linecolor": "white",
             "minorgridcolor": "white",
             "startlinecolor": "#2a3f5f"
            },
            "baxis": {
             "endlinecolor": "#2a3f5f",
             "gridcolor": "white",
             "linecolor": "white",
             "minorgridcolor": "white",
             "startlinecolor": "#2a3f5f"
            },
            "type": "carpet"
           }
          ],
          "choropleth": [
           {
            "colorbar": {
             "outlinewidth": 0,
             "ticks": ""
            },
            "type": "choropleth"
           }
          ],
          "contour": [
           {
            "colorbar": {
             "outlinewidth": 0,
             "ticks": ""
            },
            "colorscale": [
             [
              0,
              "#0d0887"
             ],
             [
              0.1111111111111111,
              "#46039f"
             ],
             [
              0.2222222222222222,
              "#7201a8"
             ],
             [
              0.3333333333333333,
              "#9c179e"
             ],
             [
              0.4444444444444444,
              "#bd3786"
             ],
             [
              0.5555555555555556,
              "#d8576b"
             ],
             [
              0.6666666666666666,
              "#ed7953"
             ],
             [
              0.7777777777777778,
              "#fb9f3a"
             ],
             [
              0.8888888888888888,
              "#fdca26"
             ],
             [
              1,
              "#f0f921"
             ]
            ],
            "type": "contour"
           }
          ],
          "contourcarpet": [
           {
            "colorbar": {
             "outlinewidth": 0,
             "ticks": ""
            },
            "type": "contourcarpet"
           }
          ],
          "heatmap": [
           {
            "colorbar": {
             "outlinewidth": 0,
             "ticks": ""
            },
            "colorscale": [
             [
              0,
              "#0d0887"
             ],
             [
              0.1111111111111111,
              "#46039f"
             ],
             [
              0.2222222222222222,
              "#7201a8"
             ],
             [
              0.3333333333333333,
              "#9c179e"
             ],
             [
              0.4444444444444444,
              "#bd3786"
             ],
             [
              0.5555555555555556,
              "#d8576b"
             ],
             [
              0.6666666666666666,
              "#ed7953"
             ],
             [
              0.7777777777777778,
              "#fb9f3a"
             ],
             [
              0.8888888888888888,
              "#fdca26"
             ],
             [
              1,
              "#f0f921"
             ]
            ],
            "type": "heatmap"
           }
          ],
          "heatmapgl": [
           {
            "colorbar": {
             "outlinewidth": 0,
             "ticks": ""
            },
            "colorscale": [
             [
              0,
              "#0d0887"
             ],
             [
              0.1111111111111111,
              "#46039f"
             ],
             [
              0.2222222222222222,
              "#7201a8"
             ],
             [
              0.3333333333333333,
              "#9c179e"
             ],
             [
              0.4444444444444444,
              "#bd3786"
             ],
             [
              0.5555555555555556,
              "#d8576b"
             ],
             [
              0.6666666666666666,
              "#ed7953"
             ],
             [
              0.7777777777777778,
              "#fb9f3a"
             ],
             [
              0.8888888888888888,
              "#fdca26"
             ],
             [
              1,
              "#f0f921"
             ]
            ],
            "type": "heatmapgl"
           }
          ],
          "histogram": [
           {
            "marker": {
             "pattern": {
              "fillmode": "overlay",
              "size": 10,
              "solidity": 0.2
             }
            },
            "type": "histogram"
           }
          ],
          "histogram2d": [
           {
            "colorbar": {
             "outlinewidth": 0,
             "ticks": ""
            },
            "colorscale": [
             [
              0,
              "#0d0887"
             ],
             [
              0.1111111111111111,
              "#46039f"
             ],
             [
              0.2222222222222222,
              "#7201a8"
             ],
             [
              0.3333333333333333,
              "#9c179e"
             ],
             [
              0.4444444444444444,
              "#bd3786"
             ],
             [
              0.5555555555555556,
              "#d8576b"
             ],
             [
              0.6666666666666666,
              "#ed7953"
             ],
             [
              0.7777777777777778,
              "#fb9f3a"
             ],
             [
              0.8888888888888888,
              "#fdca26"
             ],
             [
              1,
              "#f0f921"
             ]
            ],
            "type": "histogram2d"
           }
          ],
          "histogram2dcontour": [
           {
            "colorbar": {
             "outlinewidth": 0,
             "ticks": ""
            },
            "colorscale": [
             [
              0,
              "#0d0887"
             ],
             [
              0.1111111111111111,
              "#46039f"
             ],
             [
              0.2222222222222222,
              "#7201a8"
             ],
             [
              0.3333333333333333,
              "#9c179e"
             ],
             [
              0.4444444444444444,
              "#bd3786"
             ],
             [
              0.5555555555555556,
              "#d8576b"
             ],
             [
              0.6666666666666666,
              "#ed7953"
             ],
             [
              0.7777777777777778,
              "#fb9f3a"
             ],
             [
              0.8888888888888888,
              "#fdca26"
             ],
             [
              1,
              "#f0f921"
             ]
            ],
            "type": "histogram2dcontour"
           }
          ],
          "mesh3d": [
           {
            "colorbar": {
             "outlinewidth": 0,
             "ticks": ""
            },
            "type": "mesh3d"
           }
          ],
          "parcoords": [
           {
            "line": {
             "colorbar": {
              "outlinewidth": 0,
              "ticks": ""
             }
            },
            "type": "parcoords"
           }
          ],
          "pie": [
           {
            "automargin": true,
            "type": "pie"
           }
          ],
          "scatter": [
           {
            "fillpattern": {
             "fillmode": "overlay",
             "size": 10,
             "solidity": 0.2
            },
            "type": "scatter"
           }
          ],
          "scatter3d": [
           {
            "line": {
             "colorbar": {
              "outlinewidth": 0,
              "ticks": ""
             }
            },
            "marker": {
             "colorbar": {
              "outlinewidth": 0,
              "ticks": ""
             }
            },
            "type": "scatter3d"
           }
          ],
          "scattercarpet": [
           {
            "marker": {
             "colorbar": {
              "outlinewidth": 0,
              "ticks": ""
             }
            },
            "type": "scattercarpet"
           }
          ],
          "scattergeo": [
           {
            "marker": {
             "colorbar": {
              "outlinewidth": 0,
              "ticks": ""
             }
            },
            "type": "scattergeo"
           }
          ],
          "scattergl": [
           {
            "marker": {
             "colorbar": {
              "outlinewidth": 0,
              "ticks": ""
             }
            },
            "type": "scattergl"
           }
          ],
          "scattermapbox": [
           {
            "marker": {
             "colorbar": {
              "outlinewidth": 0,
              "ticks": ""
             }
            },
            "type": "scattermapbox"
           }
          ],
          "scatterpolar": [
           {
            "marker": {
             "colorbar": {
              "outlinewidth": 0,
              "ticks": ""
             }
            },
            "type": "scatterpolar"
           }
          ],
          "scatterpolargl": [
           {
            "marker": {
             "colorbar": {
              "outlinewidth": 0,
              "ticks": ""
             }
            },
            "type": "scatterpolargl"
           }
          ],
          "scatterternary": [
           {
            "marker": {
             "colorbar": {
              "outlinewidth": 0,
              "ticks": ""
             }
            },
            "type": "scatterternary"
           }
          ],
          "surface": [
           {
            "colorbar": {
             "outlinewidth": 0,
             "ticks": ""
            },
            "colorscale": [
             [
              0,
              "#0d0887"
             ],
             [
              0.1111111111111111,
              "#46039f"
             ],
             [
              0.2222222222222222,
              "#7201a8"
             ],
             [
              0.3333333333333333,
              "#9c179e"
             ],
             [
              0.4444444444444444,
              "#bd3786"
             ],
             [
              0.5555555555555556,
              "#d8576b"
             ],
             [
              0.6666666666666666,
              "#ed7953"
             ],
             [
              0.7777777777777778,
              "#fb9f3a"
             ],
             [
              0.8888888888888888,
              "#fdca26"
             ],
             [
              1,
              "#f0f921"
             ]
            ],
            "type": "surface"
           }
          ],
          "table": [
           {
            "cells": {
             "fill": {
              "color": "#EBF0F8"
             },
             "line": {
              "color": "white"
             }
            },
            "header": {
             "fill": {
              "color": "#C8D4E3"
             },
             "line": {
              "color": "white"
             }
            },
            "type": "table"
           }
          ]
         },
         "layout": {
          "annotationdefaults": {
           "arrowcolor": "#2a3f5f",
           "arrowhead": 0,
           "arrowwidth": 1
          },
          "autotypenumbers": "strict",
          "coloraxis": {
           "colorbar": {
            "outlinewidth": 0,
            "ticks": ""
           }
          },
          "colorscale": {
           "diverging": [
            [
             0,
             "#8e0152"
            ],
            [
             0.1,
             "#c51b7d"
            ],
            [
             0.2,
             "#de77ae"
            ],
            [
             0.3,
             "#f1b6da"
            ],
            [
             0.4,
             "#fde0ef"
            ],
            [
             0.5,
             "#f7f7f7"
            ],
            [
             0.6,
             "#e6f5d0"
            ],
            [
             0.7,
             "#b8e186"
            ],
            [
             0.8,
             "#7fbc41"
            ],
            [
             0.9,
             "#4d9221"
            ],
            [
             1,
             "#276419"
            ]
           ],
           "sequential": [
            [
             0,
             "#0d0887"
            ],
            [
             0.1111111111111111,
             "#46039f"
            ],
            [
             0.2222222222222222,
             "#7201a8"
            ],
            [
             0.3333333333333333,
             "#9c179e"
            ],
            [
             0.4444444444444444,
             "#bd3786"
            ],
            [
             0.5555555555555556,
             "#d8576b"
            ],
            [
             0.6666666666666666,
             "#ed7953"
            ],
            [
             0.7777777777777778,
             "#fb9f3a"
            ],
            [
             0.8888888888888888,
             "#fdca26"
            ],
            [
             1,
             "#f0f921"
            ]
           ],
           "sequentialminus": [
            [
             0,
             "#0d0887"
            ],
            [
             0.1111111111111111,
             "#46039f"
            ],
            [
             0.2222222222222222,
             "#7201a8"
            ],
            [
             0.3333333333333333,
             "#9c179e"
            ],
            [
             0.4444444444444444,
             "#bd3786"
            ],
            [
             0.5555555555555556,
             "#d8576b"
            ],
            [
             0.6666666666666666,
             "#ed7953"
            ],
            [
             0.7777777777777778,
             "#fb9f3a"
            ],
            [
             0.8888888888888888,
             "#fdca26"
            ],
            [
             1,
             "#f0f921"
            ]
           ]
          },
          "colorway": [
           "#636efa",
           "#EF553B",
           "#00cc96",
           "#ab63fa",
           "#FFA15A",
           "#19d3f3",
           "#FF6692",
           "#B6E880",
           "#FF97FF",
           "#FECB52"
          ],
          "font": {
           "color": "#2a3f5f"
          },
          "geo": {
           "bgcolor": "white",
           "lakecolor": "white",
           "landcolor": "#E5ECF6",
           "showlakes": true,
           "showland": true,
           "subunitcolor": "white"
          },
          "hoverlabel": {
           "align": "left"
          },
          "hovermode": "closest",
          "mapbox": {
           "style": "light"
          },
          "paper_bgcolor": "white",
          "plot_bgcolor": "#E5ECF6",
          "polar": {
           "angularaxis": {
            "gridcolor": "white",
            "linecolor": "white",
            "ticks": ""
           },
           "bgcolor": "#E5ECF6",
           "radialaxis": {
            "gridcolor": "white",
            "linecolor": "white",
            "ticks": ""
           }
          },
          "scene": {
           "xaxis": {
            "backgroundcolor": "#E5ECF6",
            "gridcolor": "white",
            "gridwidth": 2,
            "linecolor": "white",
            "showbackground": true,
            "ticks": "",
            "zerolinecolor": "white"
           },
           "yaxis": {
            "backgroundcolor": "#E5ECF6",
            "gridcolor": "white",
            "gridwidth": 2,
            "linecolor": "white",
            "showbackground": true,
            "ticks": "",
            "zerolinecolor": "white"
           },
           "zaxis": {
            "backgroundcolor": "#E5ECF6",
            "gridcolor": "white",
            "gridwidth": 2,
            "linecolor": "white",
            "showbackground": true,
            "ticks": "",
            "zerolinecolor": "white"
           }
          },
          "shapedefaults": {
           "line": {
            "color": "#2a3f5f"
           }
          },
          "ternary": {
           "aaxis": {
            "gridcolor": "white",
            "linecolor": "white",
            "ticks": ""
           },
           "baxis": {
            "gridcolor": "white",
            "linecolor": "white",
            "ticks": ""
           },
           "bgcolor": "#E5ECF6",
           "caxis": {
            "gridcolor": "white",
            "linecolor": "white",
            "ticks": ""
           }
          },
          "title": {
           "x": 0.05
          },
          "xaxis": {
           "automargin": true,
           "gridcolor": "white",
           "linecolor": "white",
           "ticks": "",
           "title": {
            "standoff": 15
           },
           "zerolinecolor": "white",
           "zerolinewidth": 2
          },
          "yaxis": {
           "automargin": true,
           "gridcolor": "white",
           "linecolor": "white",
           "ticks": "",
           "title": {
            "standoff": 15
           },
           "zerolinecolor": "white",
           "zerolinewidth": 2
          }
         }
        },
        "title": {
         "text": "Municipios com os melhores IBCs"
        },
        "xaxis": {
         "anchor": "y",
         "domain": [
          0,
          1
         ],
         "title": {
          "text": "IBC Médio da Cidade"
         }
        },
        "yaxis": {
         "anchor": "x",
         "categoryorder": "total ascending",
         "domain": [
          0,
          1
         ],
         "title": {
          "text": "Nome da Cidade"
         }
        }
       }
      }
     },
     "metadata": {},
     "output_type": "display_data"
    },
    {
     "data": {
      "application/vnd.plotly.v1+json": {
       "config": {
        "plotlyServerURL": "https://plot.ly"
       },
       "data": [
        {
         "alignmentgroup": "True",
         "hovertemplate": "Região=Norte<br>IBC Médio da Cidade=%{x}<br>Nome da Cidade=%{y}<extra></extra>",
         "legendgroup": "Norte",
         "marker": {
          "color": "#04911a",
          "pattern": {
           "shape": ""
          }
         },
         "name": "Norte",
         "offsetgroup": "Norte",
         "orientation": "h",
         "showlegend": true,
         "textposition": "auto",
         "type": "bar",
         "x": [
          10.8525,
          11.9925,
          16.7175,
          17.18,
          17.47,
          17.92,
          17.94,
          18.045,
          18.2375,
          18.44
         ],
         "xaxis": "x",
         "y": [
          "Uiramutã",
          "Chaves",
          "Normandia",
          "Limoeiro do Ajuru",
          "Ipixuna",
          "Melgaço",
          "Amajari",
          "Bagre",
          "Jordão",
          "Prainha"
         ],
         "yaxis": "y"
        },
        {
         "alignmentgroup": "True",
         "hovertemplate": "Região=Nordeste<br>IBC Médio da Cidade=%{x}<br>Nome da Cidade=%{y}<extra></extra>",
         "legendgroup": "Nordeste",
         "marker": {
          "color": "#910404",
          "pattern": {
           "shape": ""
          }
         },
         "name": "Nordeste",
         "offsetgroup": "Nordeste",
         "orientation": "h",
         "showlegend": true,
         "textposition": "auto",
         "type": "bar",
         "x": [
          11.875,
          14.0625,
          14.5175,
          15.305,
          16.33,
          16.88,
          16.925,
          17.97,
          18.4675
         ],
         "xaxis": "x",
         "y": [
          "Fernando Falcão",
          "Currais",
          "Marajá do Sena",
          "Belo Monte",
          "Itaguaçu da Bahia",
          "Buritirama",
          "Milton Brandão",
          "Jucuruçu",
          "Baianópolis"
         ],
         "yaxis": "y"
        },
        {
         "alignmentgroup": "True",
         "hovertemplate": "Região=Sudeste<br>IBC Médio da Cidade=%{x}<br>Nome da Cidade=%{y}<extra></extra>",
         "legendgroup": "Sudeste",
         "marker": {
          "color": "#230491",
          "pattern": {
           "shape": ""
          }
         },
         "name": "Sudeste",
         "offsetgroup": "Sudeste",
         "orientation": "h",
         "showlegend": true,
         "textposition": "auto",
         "type": "bar",
         "x": [
          17.45
         ],
         "xaxis": "x",
         "y": [
          "Bonito de Minas"
         ],
         "yaxis": "y"
        }
       ],
       "layout": {
        "barmode": "relative",
        "legend": {
         "title": {
          "text": "Região"
         },
         "tracegroupgap": 0
        },
        "template": {
         "data": {
          "bar": [
           {
            "error_x": {
             "color": "#2a3f5f"
            },
            "error_y": {
             "color": "#2a3f5f"
            },
            "marker": {
             "line": {
              "color": "#E5ECF6",
              "width": 0.5
             },
             "pattern": {
              "fillmode": "overlay",
              "size": 10,
              "solidity": 0.2
             }
            },
            "type": "bar"
           }
          ],
          "barpolar": [
           {
            "marker": {
             "line": {
              "color": "#E5ECF6",
              "width": 0.5
             },
             "pattern": {
              "fillmode": "overlay",
              "size": 10,
              "solidity": 0.2
             }
            },
            "type": "barpolar"
           }
          ],
          "carpet": [
           {
            "aaxis": {
             "endlinecolor": "#2a3f5f",
             "gridcolor": "white",
             "linecolor": "white",
             "minorgridcolor": "white",
             "startlinecolor": "#2a3f5f"
            },
            "baxis": {
             "endlinecolor": "#2a3f5f",
             "gridcolor": "white",
             "linecolor": "white",
             "minorgridcolor": "white",
             "startlinecolor": "#2a3f5f"
            },
            "type": "carpet"
           }
          ],
          "choropleth": [
           {
            "colorbar": {
             "outlinewidth": 0,
             "ticks": ""
            },
            "type": "choropleth"
           }
          ],
          "contour": [
           {
            "colorbar": {
             "outlinewidth": 0,
             "ticks": ""
            },
            "colorscale": [
             [
              0,
              "#0d0887"
             ],
             [
              0.1111111111111111,
              "#46039f"
             ],
             [
              0.2222222222222222,
              "#7201a8"
             ],
             [
              0.3333333333333333,
              "#9c179e"
             ],
             [
              0.4444444444444444,
              "#bd3786"
             ],
             [
              0.5555555555555556,
              "#d8576b"
             ],
             [
              0.6666666666666666,
              "#ed7953"
             ],
             [
              0.7777777777777778,
              "#fb9f3a"
             ],
             [
              0.8888888888888888,
              "#fdca26"
             ],
             [
              1,
              "#f0f921"
             ]
            ],
            "type": "contour"
           }
          ],
          "contourcarpet": [
           {
            "colorbar": {
             "outlinewidth": 0,
             "ticks": ""
            },
            "type": "contourcarpet"
           }
          ],
          "heatmap": [
           {
            "colorbar": {
             "outlinewidth": 0,
             "ticks": ""
            },
            "colorscale": [
             [
              0,
              "#0d0887"
             ],
             [
              0.1111111111111111,
              "#46039f"
             ],
             [
              0.2222222222222222,
              "#7201a8"
             ],
             [
              0.3333333333333333,
              "#9c179e"
             ],
             [
              0.4444444444444444,
              "#bd3786"
             ],
             [
              0.5555555555555556,
              "#d8576b"
             ],
             [
              0.6666666666666666,
              "#ed7953"
             ],
             [
              0.7777777777777778,
              "#fb9f3a"
             ],
             [
              0.8888888888888888,
              "#fdca26"
             ],
             [
              1,
              "#f0f921"
             ]
            ],
            "type": "heatmap"
           }
          ],
          "heatmapgl": [
           {
            "colorbar": {
             "outlinewidth": 0,
             "ticks": ""
            },
            "colorscale": [
             [
              0,
              "#0d0887"
             ],
             [
              0.1111111111111111,
              "#46039f"
             ],
             [
              0.2222222222222222,
              "#7201a8"
             ],
             [
              0.3333333333333333,
              "#9c179e"
             ],
             [
              0.4444444444444444,
              "#bd3786"
             ],
             [
              0.5555555555555556,
              "#d8576b"
             ],
             [
              0.6666666666666666,
              "#ed7953"
             ],
             [
              0.7777777777777778,
              "#fb9f3a"
             ],
             [
              0.8888888888888888,
              "#fdca26"
             ],
             [
              1,
              "#f0f921"
             ]
            ],
            "type": "heatmapgl"
           }
          ],
          "histogram": [
           {
            "marker": {
             "pattern": {
              "fillmode": "overlay",
              "size": 10,
              "solidity": 0.2
             }
            },
            "type": "histogram"
           }
          ],
          "histogram2d": [
           {
            "colorbar": {
             "outlinewidth": 0,
             "ticks": ""
            },
            "colorscale": [
             [
              0,
              "#0d0887"
             ],
             [
              0.1111111111111111,
              "#46039f"
             ],
             [
              0.2222222222222222,
              "#7201a8"
             ],
             [
              0.3333333333333333,
              "#9c179e"
             ],
             [
              0.4444444444444444,
              "#bd3786"
             ],
             [
              0.5555555555555556,
              "#d8576b"
             ],
             [
              0.6666666666666666,
              "#ed7953"
             ],
             [
              0.7777777777777778,
              "#fb9f3a"
             ],
             [
              0.8888888888888888,
              "#fdca26"
             ],
             [
              1,
              "#f0f921"
             ]
            ],
            "type": "histogram2d"
           }
          ],
          "histogram2dcontour": [
           {
            "colorbar": {
             "outlinewidth": 0,
             "ticks": ""
            },
            "colorscale": [
             [
              0,
              "#0d0887"
             ],
             [
              0.1111111111111111,
              "#46039f"
             ],
             [
              0.2222222222222222,
              "#7201a8"
             ],
             [
              0.3333333333333333,
              "#9c179e"
             ],
             [
              0.4444444444444444,
              "#bd3786"
             ],
             [
              0.5555555555555556,
              "#d8576b"
             ],
             [
              0.6666666666666666,
              "#ed7953"
             ],
             [
              0.7777777777777778,
              "#fb9f3a"
             ],
             [
              0.8888888888888888,
              "#fdca26"
             ],
             [
              1,
              "#f0f921"
             ]
            ],
            "type": "histogram2dcontour"
           }
          ],
          "mesh3d": [
           {
            "colorbar": {
             "outlinewidth": 0,
             "ticks": ""
            },
            "type": "mesh3d"
           }
          ],
          "parcoords": [
           {
            "line": {
             "colorbar": {
              "outlinewidth": 0,
              "ticks": ""
             }
            },
            "type": "parcoords"
           }
          ],
          "pie": [
           {
            "automargin": true,
            "type": "pie"
           }
          ],
          "scatter": [
           {
            "fillpattern": {
             "fillmode": "overlay",
             "size": 10,
             "solidity": 0.2
            },
            "type": "scatter"
           }
          ],
          "scatter3d": [
           {
            "line": {
             "colorbar": {
              "outlinewidth": 0,
              "ticks": ""
             }
            },
            "marker": {
             "colorbar": {
              "outlinewidth": 0,
              "ticks": ""
             }
            },
            "type": "scatter3d"
           }
          ],
          "scattercarpet": [
           {
            "marker": {
             "colorbar": {
              "outlinewidth": 0,
              "ticks": ""
             }
            },
            "type": "scattercarpet"
           }
          ],
          "scattergeo": [
           {
            "marker": {
             "colorbar": {
              "outlinewidth": 0,
              "ticks": ""
             }
            },
            "type": "scattergeo"
           }
          ],
          "scattergl": [
           {
            "marker": {
             "colorbar": {
              "outlinewidth": 0,
              "ticks": ""
             }
            },
            "type": "scattergl"
           }
          ],
          "scattermapbox": [
           {
            "marker": {
             "colorbar": {
              "outlinewidth": 0,
              "ticks": ""
             }
            },
            "type": "scattermapbox"
           }
          ],
          "scatterpolar": [
           {
            "marker": {
             "colorbar": {
              "outlinewidth": 0,
              "ticks": ""
             }
            },
            "type": "scatterpolar"
           }
          ],
          "scatterpolargl": [
           {
            "marker": {
             "colorbar": {
              "outlinewidth": 0,
              "ticks": ""
             }
            },
            "type": "scatterpolargl"
           }
          ],
          "scatterternary": [
           {
            "marker": {
             "colorbar": {
              "outlinewidth": 0,
              "ticks": ""
             }
            },
            "type": "scatterternary"
           }
          ],
          "surface": [
           {
            "colorbar": {
             "outlinewidth": 0,
             "ticks": ""
            },
            "colorscale": [
             [
              0,
              "#0d0887"
             ],
             [
              0.1111111111111111,
              "#46039f"
             ],
             [
              0.2222222222222222,
              "#7201a8"
             ],
             [
              0.3333333333333333,
              "#9c179e"
             ],
             [
              0.4444444444444444,
              "#bd3786"
             ],
             [
              0.5555555555555556,
              "#d8576b"
             ],
             [
              0.6666666666666666,
              "#ed7953"
             ],
             [
              0.7777777777777778,
              "#fb9f3a"
             ],
             [
              0.8888888888888888,
              "#fdca26"
             ],
             [
              1,
              "#f0f921"
             ]
            ],
            "type": "surface"
           }
          ],
          "table": [
           {
            "cells": {
             "fill": {
              "color": "#EBF0F8"
             },
             "line": {
              "color": "white"
             }
            },
            "header": {
             "fill": {
              "color": "#C8D4E3"
             },
             "line": {
              "color": "white"
             }
            },
            "type": "table"
           }
          ]
         },
         "layout": {
          "annotationdefaults": {
           "arrowcolor": "#2a3f5f",
           "arrowhead": 0,
           "arrowwidth": 1
          },
          "autotypenumbers": "strict",
          "coloraxis": {
           "colorbar": {
            "outlinewidth": 0,
            "ticks": ""
           }
          },
          "colorscale": {
           "diverging": [
            [
             0,
             "#8e0152"
            ],
            [
             0.1,
             "#c51b7d"
            ],
            [
             0.2,
             "#de77ae"
            ],
            [
             0.3,
             "#f1b6da"
            ],
            [
             0.4,
             "#fde0ef"
            ],
            [
             0.5,
             "#f7f7f7"
            ],
            [
             0.6,
             "#e6f5d0"
            ],
            [
             0.7,
             "#b8e186"
            ],
            [
             0.8,
             "#7fbc41"
            ],
            [
             0.9,
             "#4d9221"
            ],
            [
             1,
             "#276419"
            ]
           ],
           "sequential": [
            [
             0,
             "#0d0887"
            ],
            [
             0.1111111111111111,
             "#46039f"
            ],
            [
             0.2222222222222222,
             "#7201a8"
            ],
            [
             0.3333333333333333,
             "#9c179e"
            ],
            [
             0.4444444444444444,
             "#bd3786"
            ],
            [
             0.5555555555555556,
             "#d8576b"
            ],
            [
             0.6666666666666666,
             "#ed7953"
            ],
            [
             0.7777777777777778,
             "#fb9f3a"
            ],
            [
             0.8888888888888888,
             "#fdca26"
            ],
            [
             1,
             "#f0f921"
            ]
           ],
           "sequentialminus": [
            [
             0,
             "#0d0887"
            ],
            [
             0.1111111111111111,
             "#46039f"
            ],
            [
             0.2222222222222222,
             "#7201a8"
            ],
            [
             0.3333333333333333,
             "#9c179e"
            ],
            [
             0.4444444444444444,
             "#bd3786"
            ],
            [
             0.5555555555555556,
             "#d8576b"
            ],
            [
             0.6666666666666666,
             "#ed7953"
            ],
            [
             0.7777777777777778,
             "#fb9f3a"
            ],
            [
             0.8888888888888888,
             "#fdca26"
            ],
            [
             1,
             "#f0f921"
            ]
           ]
          },
          "colorway": [
           "#636efa",
           "#EF553B",
           "#00cc96",
           "#ab63fa",
           "#FFA15A",
           "#19d3f3",
           "#FF6692",
           "#B6E880",
           "#FF97FF",
           "#FECB52"
          ],
          "font": {
           "color": "#2a3f5f"
          },
          "geo": {
           "bgcolor": "white",
           "lakecolor": "white",
           "landcolor": "#E5ECF6",
           "showlakes": true,
           "showland": true,
           "subunitcolor": "white"
          },
          "hoverlabel": {
           "align": "left"
          },
          "hovermode": "closest",
          "mapbox": {
           "style": "light"
          },
          "paper_bgcolor": "white",
          "plot_bgcolor": "#E5ECF6",
          "polar": {
           "angularaxis": {
            "gridcolor": "white",
            "linecolor": "white",
            "ticks": ""
           },
           "bgcolor": "#E5ECF6",
           "radialaxis": {
            "gridcolor": "white",
            "linecolor": "white",
            "ticks": ""
           }
          },
          "scene": {
           "xaxis": {
            "backgroundcolor": "#E5ECF6",
            "gridcolor": "white",
            "gridwidth": 2,
            "linecolor": "white",
            "showbackground": true,
            "ticks": "",
            "zerolinecolor": "white"
           },
           "yaxis": {
            "backgroundcolor": "#E5ECF6",
            "gridcolor": "white",
            "gridwidth": 2,
            "linecolor": "white",
            "showbackground": true,
            "ticks": "",
            "zerolinecolor": "white"
           },
           "zaxis": {
            "backgroundcolor": "#E5ECF6",
            "gridcolor": "white",
            "gridwidth": 2,
            "linecolor": "white",
            "showbackground": true,
            "ticks": "",
            "zerolinecolor": "white"
           }
          },
          "shapedefaults": {
           "line": {
            "color": "#2a3f5f"
           }
          },
          "ternary": {
           "aaxis": {
            "gridcolor": "white",
            "linecolor": "white",
            "ticks": ""
           },
           "baxis": {
            "gridcolor": "white",
            "linecolor": "white",
            "ticks": ""
           },
           "bgcolor": "#E5ECF6",
           "caxis": {
            "gridcolor": "white",
            "linecolor": "white",
            "ticks": ""
           }
          },
          "title": {
           "x": 0.05
          },
          "xaxis": {
           "automargin": true,
           "gridcolor": "white",
           "linecolor": "white",
           "ticks": "",
           "title": {
            "standoff": 15
           },
           "zerolinecolor": "white",
           "zerolinewidth": 2
          },
          "yaxis": {
           "automargin": true,
           "gridcolor": "white",
           "linecolor": "white",
           "ticks": "",
           "title": {
            "standoff": 15
           },
           "zerolinecolor": "white",
           "zerolinewidth": 2
          }
         }
        },
        "title": {
         "text": "Municipios com os piores IBCs"
        },
        "xaxis": {
         "anchor": "y",
         "domain": [
          0,
          1
         ],
         "title": {
          "text": "IBC Médio da Cidade"
         }
        },
        "yaxis": {
         "anchor": "x",
         "domain": [
          0,
          1
         ],
         "title": {
          "text": "Nome da Cidade"
         }
        }
       }
      }
     },
     "metadata": {},
     "output_type": "display_data"
    }
   ],
   "source": [
    "# Primeira query com os 20 melhores IBC's\n",
    "query = \"\"\"\n",
    "SELECT\n",
    "    nome_municipio,\n",
    "    nome_estado,\n",
    "    regiao,\n",
    "    AVG(ibc) AS Media_IBC\n",
    "FROM\n",
    "    df\n",
    "GROUP BY\n",
    "    nome_municipio,nome_estado,regiao\n",
    "ORDER BY Media_IBC DESC\n",
    "LIMIT 20;\n",
    "\"\"\"\n",
    "resultado = sqldf(query)\n",
    "mapa_de_cores = {\n",
    "    'Sudeste': '#230491',  \n",
    "    'Sul': '#860491',      \n",
    "    'Nordeste': '#910404',\n",
    "    'Centro-Oeste': '#04918a',\n",
    "    'Norte': '#04911a' \n",
    "}\n",
    "## Gráfico\n",
    "fig = px.bar(\n",
    "    resultado,\n",
    "    x = 'Media_IBC',\n",
    "    y = 'nome_municipio',\n",
    "    color = 'regiao',\n",
    "    orientation='h',\n",
    "    color_discrete_map = mapa_de_cores,\n",
    "    labels={'Media_IBC':\"IBC Médio da Cidade\",'nome_municipio':\"Nome da Cidade\",'regiao':\"Região\"},\n",
    "    title = 'Municipios com os melhores IBCs'\n",
    ")\n",
    "fig.update_layout(\n",
    "    yaxis={'categoryorder': 'total ascending'}\n",
    ")\n",
    "fig.show()\n",
    "# Segunda query com os 20 piores IBC's\n",
    "query2 = \"\"\"\n",
    "SELECT\n",
    "    nome_municipio,\n",
    "    nome_estado,\n",
    "    regiao,\n",
    "    AVG(ibc) AS Media_IBC\n",
    "FROM\n",
    "    df\n",
    "GROUP BY\n",
    "    nome_municipio,nome_estado,regiao\n",
    "ORDER BY Media_IBC ASC\n",
    "LIMIT 20;\n",
    "\"\"\"\n",
    "resultado2 = sqldf(query2)\n",
    "# Gráfico\n",
    "fig2 = px.bar(\n",
    "    resultado2,\n",
    "    x = 'Media_IBC',\n",
    "    y = 'nome_municipio',\n",
    "    color = 'regiao',\n",
    "    orientation='h',\n",
    "    color_discrete_map = mapa_de_cores,\n",
    "    labels={'Media_IBC':\"IBC Médio da Cidade\",'nome_municipio':\"Nome da Cidade\",'regiao':\"Região\"},\n",
    "    title = 'Municipios com os piores IBCs'\n",
    ")\n",
    "fig.update_layout(\n",
    "    yaxis={'categoryorder': 'total descending'}\n",
    ")\n",
    "fig2.show()"
   ]
  },
  {
   "cell_type": "markdown",
   "metadata": {},
   "source": [
    "## Maiores e Menores Médias por Estado"
   ]
  },
  {
   "cell_type": "code",
   "execution_count": 23,
   "metadata": {
    "execution": {
     "iopub.execute_input": "2025-10-04T18:23:40.017297Z",
     "iopub.status.busy": "2025-10-04T18:23:40.016928Z",
     "iopub.status.idle": "2025-10-04T18:23:40.420862Z",
     "shell.execute_reply": "2025-10-04T18:23:40.419223Z",
     "shell.execute_reply.started": "2025-10-04T18:23:40.017265Z"
    },
    "trusted": true
   },
   "outputs": [
    {
     "name": "stdout",
     "output_type": "stream",
     "text": [
      "            nome_estado  media_ibc\n",
      "0      Distrito Federal  73.265000\n",
      "1        Rio de Janeiro  65.182527\n",
      "2             São Paulo  63.953140\n",
      "3        Santa Catarina  61.166975\n",
      "4                Paraná  59.045996\n",
      "5        Espírito Santo  57.665481\n",
      "6     Rio Grande do Sul  55.619864\n",
      "7                 Ceará  52.997323\n",
      "8    Mato Grosso do Sul  52.130285\n",
      "9          Minas Gerais  51.884191\n",
      "10                Goiás  51.698364\n",
      "11              Sergipe  51.610200\n",
      "12           Pernambuco  49.712514\n",
      "13          Mato Grosso  48.689131\n",
      "14              Alagoas  47.305588\n",
      "15             Rondônia  45.829663\n",
      "16              Paraíba  45.359215\n",
      "17  Rio Grande do Norte  45.173024\n",
      "18                 Acre  44.323295\n",
      "19                Bahia  43.987062\n",
      "20                 Pará  42.905382\n",
      "21            Tocantins  42.757752\n",
      "22                Amapá  42.338906\n",
      "23             Maranhão  41.810392\n",
      "24                Piauí  38.628393\n",
      "25              Roraima  34.654667\n",
      "26             Amazonas  33.012460\n"
     ]
    }
   ],
   "source": [
    "# O índice do IBC por Estado\n",
    "query = \"\"\"\n",
    "SELECT \n",
    "    nome_estado, AVG(IBC) as media_ibc\n",
    "FROM \n",
    "    df\n",
    "GROUP BY \n",
    "    nome_estado\n",
    "ORDER BY \n",
    "    media_ibc DESC;\n",
    "\"\"\"\n",
    "resultado = sqldf(query)\n",
    "print(resultado)"
   ]
  },
  {
   "cell_type": "markdown",
   "metadata": {},
   "source": [
    "* Como o esperado, **Rio de Janeiro e São Paulo estão ao menos no TOP 5 com melhores IBC's** ocupando o Segundo e Terceiro lugar respectivamente, atrás somente do Distrito Federal\n",
    "* **Nos 10 maiores IBC's 7 são compostos por Estados do Sudeste ou do Sul**, o que nos induzira a esperar uma média maior dessas regiões nas análises abaixo\n",
    "* Além disso, vemos que os Estados do Norte e Nordeste obtiveram os piores IBC's evidenciando a falta de conectividade dos mesmos, isso nos fazem levantar algumas ponderações como, por exemplo, a região pode ser atrativa para operadoras de telefonia móvel e fixa que queiram adentrar  na região mesmo ainda pouco conectado ou explorado, vale darmos uma atenção maior ao índice HHI dessa região futuramente uma vez que pode haver cidades com monopólios de empresas o que mais o índice ser mais baixo. A outra pondereção consiste em que essa região pode ter uma baixa conectividade não por motivos de desinteresse de empresas de adentrarem no mercado, mas por haver custos de investimento altos poucas empresas conseguem arcar com esses investimentos, assim as mesmas não sentem que o custo de oportunidade valha a pena, com isso podemos fazer uma análise da quantidade de cidades, por exemplo, que tem cobertura de fibra e comparar com regiões mais desenvolvidas economicamente como o Sul, Sudeste e Centro-Oeste"
   ]
  },
  {
   "cell_type": "markdown",
   "metadata": {},
   "source": [
    "## Média IBC por Região"
   ]
  },
  {
   "cell_type": "code",
   "execution_count": 24,
   "metadata": {
    "execution": {
     "iopub.execute_input": "2025-10-04T18:23:40.422833Z",
     "iopub.status.busy": "2025-10-04T18:23:40.422434Z",
     "iopub.status.idle": "2025-10-04T18:23:40.981555Z",
     "shell.execute_reply": "2025-10-04T18:23:40.980612Z",
     "shell.execute_reply.started": "2025-10-04T18:23:40.422780Z"
    },
    "trusted": true
   },
   "outputs": [
    {
     "name": "stdout",
     "output_type": "stream",
     "text": [
      "Média por região:\n",
      "         regiao  media_ibc\n",
      "0           Sul  58.141631\n",
      "1       Sudeste  57.554970\n",
      "2  Centro-Oeste  50.909042\n",
      "3      Nordeste  45.357568\n",
      "4         Norte  41.608828\n",
      "\n",
      "------------------------------------\n",
      "Média geral: 50.71\n"
     ]
    }
   ],
   "source": [
    "# O ìndice por Região\n",
    "query = \"\"\"\n",
    "SELECT \n",
    "    regiao,\n",
    "    AVG(IBC) as media_ibc\n",
    "FROM \n",
    "    df\n",
    "GROUP BY \n",
    "    regiao\n",
    "ORDER BY \n",
    "    media_ibc DESC;\n",
    "\"\"\"\n",
    "resultado = sqldf(query)\n",
    "print('Média por região:')\n",
    "print(resultado)\n",
    "# Calculo da Média Geral por Pandas\n",
    "media_geral = resultado['media_ibc'].mean().round(2)\n",
    "print(\"\\n------------------------------------\")\n",
    "print(f\"Média geral: {media_geral}\")"
   ]
  },
  {
   "cell_type": "markdown",
   "metadata": {},
   "source": [
    "* Como esperado, **as regiões com maiores IBC's são a sul e a sudeste respectivamente**, com baixa diferença entre os IBC's de cada região\n",
    "* Além disso, elas se destoam das outras regiões, uma vez que o Centro-Oeste está com 7 pontos a menos se comparado com o segundo melhor IBC, o do sudeste\n",
    "* As regiões **Nordeste e Norte apresentam os piores IBC's** se distanciando do resto do Brasil\n",
    "* Vemos que o **IBC das regiões no Brasil também está em 50,71** o que podemos dizer que o Brasil tem um índice de conectividade aceitável no geral, dado também a extensão territorial do país, contudo para analisarmos se isso frente a outros países é muito ou baixo devemos fazer analises mais aprofundadas, algo que este projeto de estudo não cobrira. "
   ]
  },
  {
   "cell_type": "markdown",
   "metadata": {},
   "source": [
    "## Gráfico IBC das regiões por ano"
   ]
  },
  {
   "cell_type": "code",
   "execution_count": 25,
   "metadata": {
    "execution": {
     "iopub.execute_input": "2025-10-04T18:23:40.982711Z",
     "iopub.status.busy": "2025-10-04T18:23:40.982433Z",
     "iopub.status.idle": "2025-10-04T18:23:41.447920Z",
     "shell.execute_reply": "2025-10-04T18:23:41.447000Z",
     "shell.execute_reply.started": "2025-10-04T18:23:40.982685Z"
    },
    "trusted": true
   },
   "outputs": [
    {
     "data": {
      "application/vnd.plotly.v1+json": {
       "config": {
        "plotlyServerURL": "https://plot.ly"
       },
       "data": [
        {
         "alignmentgroup": "True",
         "hovertemplate": "ano=2021<br>Região=%{x}<br>Anos=%{y}<extra></extra>",
         "legendgroup": "2021",
         "marker": {
          "color": "#230491",
          "pattern": {
           "shape": ""
          }
         },
         "name": "2021",
         "offsetgroup": "2021",
         "orientation": "v",
         "showlegend": true,
         "textposition": "auto",
         "type": "bar",
         "x": [
          "Sul",
          "Sudeste",
          "Norte",
          "Nordeste",
          "Centro-Oeste"
         ],
         "xaxis": "x",
         "y": [
          55.58645675902603,
          55.23043165467626,
          41.93122222222222,
          45.13146042363434,
          50.04612419700214
         ],
         "yaxis": "y"
        },
        {
         "alignmentgroup": "True",
         "hovertemplate": "ano=2022<br>Região=%{x}<br>Anos=%{y}<extra></extra>",
         "legendgroup": "2022",
         "marker": {
          "color": "#860491",
          "pattern": {
           "shape": ""
          }
         },
         "name": "2022",
         "offsetgroup": "2022",
         "orientation": "v",
         "showlegend": true,
         "textposition": "auto",
         "type": "bar",
         "x": [
          "Sul",
          "Sudeste",
          "Norte",
          "Nordeste",
          "Centro-Oeste"
         ],
         "xaxis": "x",
         "y": [
          58.074223341729635,
          57.366175059952035,
          42.75122222222222,
          45.44903567447046,
          52.121970021413276
         ],
         "yaxis": "y"
        },
        {
         "alignmentgroup": "True",
         "hovertemplate": "ano=2023<br>Região=%{x}<br>Anos=%{y}<extra></extra>",
         "legendgroup": "2023",
         "marker": {
          "color": "#910404",
          "pattern": {
           "shape": ""
          }
         },
         "name": "2023",
         "offsetgroup": "2023",
         "orientation": "v",
         "showlegend": true,
         "textposition": "auto",
         "type": "bar",
         "x": [
          "Sul",
          "Sudeste",
          "Norte",
          "Nordeste",
          "Centro-Oeste"
         ],
         "xaxis": "x",
         "y": [
          58.58517212426533,
          57.91793165467626,
          43.23088888888889,
          46.01574136008919,
          52.930406852248396
         ],
         "yaxis": "y"
        },
        {
         "alignmentgroup": "True",
         "hovertemplate": "ano=2024<br>Região=%{x}<br>Anos=%{y}<extra></extra>",
         "legendgroup": "2024",
         "marker": {
          "color": "#04918a",
          "pattern": {
           "shape": ""
          }
         },
         "name": "2024",
         "offsetgroup": "2024",
         "orientation": "v",
         "showlegend": true,
         "textposition": "auto",
         "type": "bar",
         "x": [
          "Sul",
          "Sudeste",
          "Norte",
          "Nordeste",
          "Centro-Oeste"
         ],
         "xaxis": "x",
         "y": [
          60.32067170445004,
          59.705341726618705,
          38.52197777777778,
          44.83403567447046,
          48.53766595289079
         ],
         "yaxis": "y"
        }
       ],
       "layout": {
        "barmode": "group",
        "legend": {
         "title": {
          "text": "ano"
         },
         "tracegroupgap": 0
        },
        "template": {
         "data": {
          "bar": [
           {
            "error_x": {
             "color": "#2a3f5f"
            },
            "error_y": {
             "color": "#2a3f5f"
            },
            "marker": {
             "line": {
              "color": "#E5ECF6",
              "width": 0.5
             },
             "pattern": {
              "fillmode": "overlay",
              "size": 10,
              "solidity": 0.2
             }
            },
            "type": "bar"
           }
          ],
          "barpolar": [
           {
            "marker": {
             "line": {
              "color": "#E5ECF6",
              "width": 0.5
             },
             "pattern": {
              "fillmode": "overlay",
              "size": 10,
              "solidity": 0.2
             }
            },
            "type": "barpolar"
           }
          ],
          "carpet": [
           {
            "aaxis": {
             "endlinecolor": "#2a3f5f",
             "gridcolor": "white",
             "linecolor": "white",
             "minorgridcolor": "white",
             "startlinecolor": "#2a3f5f"
            },
            "baxis": {
             "endlinecolor": "#2a3f5f",
             "gridcolor": "white",
             "linecolor": "white",
             "minorgridcolor": "white",
             "startlinecolor": "#2a3f5f"
            },
            "type": "carpet"
           }
          ],
          "choropleth": [
           {
            "colorbar": {
             "outlinewidth": 0,
             "ticks": ""
            },
            "type": "choropleth"
           }
          ],
          "contour": [
           {
            "colorbar": {
             "outlinewidth": 0,
             "ticks": ""
            },
            "colorscale": [
             [
              0,
              "#0d0887"
             ],
             [
              0.1111111111111111,
              "#46039f"
             ],
             [
              0.2222222222222222,
              "#7201a8"
             ],
             [
              0.3333333333333333,
              "#9c179e"
             ],
             [
              0.4444444444444444,
              "#bd3786"
             ],
             [
              0.5555555555555556,
              "#d8576b"
             ],
             [
              0.6666666666666666,
              "#ed7953"
             ],
             [
              0.7777777777777778,
              "#fb9f3a"
             ],
             [
              0.8888888888888888,
              "#fdca26"
             ],
             [
              1,
              "#f0f921"
             ]
            ],
            "type": "contour"
           }
          ],
          "contourcarpet": [
           {
            "colorbar": {
             "outlinewidth": 0,
             "ticks": ""
            },
            "type": "contourcarpet"
           }
          ],
          "heatmap": [
           {
            "colorbar": {
             "outlinewidth": 0,
             "ticks": ""
            },
            "colorscale": [
             [
              0,
              "#0d0887"
             ],
             [
              0.1111111111111111,
              "#46039f"
             ],
             [
              0.2222222222222222,
              "#7201a8"
             ],
             [
              0.3333333333333333,
              "#9c179e"
             ],
             [
              0.4444444444444444,
              "#bd3786"
             ],
             [
              0.5555555555555556,
              "#d8576b"
             ],
             [
              0.6666666666666666,
              "#ed7953"
             ],
             [
              0.7777777777777778,
              "#fb9f3a"
             ],
             [
              0.8888888888888888,
              "#fdca26"
             ],
             [
              1,
              "#f0f921"
             ]
            ],
            "type": "heatmap"
           }
          ],
          "heatmapgl": [
           {
            "colorbar": {
             "outlinewidth": 0,
             "ticks": ""
            },
            "colorscale": [
             [
              0,
              "#0d0887"
             ],
             [
              0.1111111111111111,
              "#46039f"
             ],
             [
              0.2222222222222222,
              "#7201a8"
             ],
             [
              0.3333333333333333,
              "#9c179e"
             ],
             [
              0.4444444444444444,
              "#bd3786"
             ],
             [
              0.5555555555555556,
              "#d8576b"
             ],
             [
              0.6666666666666666,
              "#ed7953"
             ],
             [
              0.7777777777777778,
              "#fb9f3a"
             ],
             [
              0.8888888888888888,
              "#fdca26"
             ],
             [
              1,
              "#f0f921"
             ]
            ],
            "type": "heatmapgl"
           }
          ],
          "histogram": [
           {
            "marker": {
             "pattern": {
              "fillmode": "overlay",
              "size": 10,
              "solidity": 0.2
             }
            },
            "type": "histogram"
           }
          ],
          "histogram2d": [
           {
            "colorbar": {
             "outlinewidth": 0,
             "ticks": ""
            },
            "colorscale": [
             [
              0,
              "#0d0887"
             ],
             [
              0.1111111111111111,
              "#46039f"
             ],
             [
              0.2222222222222222,
              "#7201a8"
             ],
             [
              0.3333333333333333,
              "#9c179e"
             ],
             [
              0.4444444444444444,
              "#bd3786"
             ],
             [
              0.5555555555555556,
              "#d8576b"
             ],
             [
              0.6666666666666666,
              "#ed7953"
             ],
             [
              0.7777777777777778,
              "#fb9f3a"
             ],
             [
              0.8888888888888888,
              "#fdca26"
             ],
             [
              1,
              "#f0f921"
             ]
            ],
            "type": "histogram2d"
           }
          ],
          "histogram2dcontour": [
           {
            "colorbar": {
             "outlinewidth": 0,
             "ticks": ""
            },
            "colorscale": [
             [
              0,
              "#0d0887"
             ],
             [
              0.1111111111111111,
              "#46039f"
             ],
             [
              0.2222222222222222,
              "#7201a8"
             ],
             [
              0.3333333333333333,
              "#9c179e"
             ],
             [
              0.4444444444444444,
              "#bd3786"
             ],
             [
              0.5555555555555556,
              "#d8576b"
             ],
             [
              0.6666666666666666,
              "#ed7953"
             ],
             [
              0.7777777777777778,
              "#fb9f3a"
             ],
             [
              0.8888888888888888,
              "#fdca26"
             ],
             [
              1,
              "#f0f921"
             ]
            ],
            "type": "histogram2dcontour"
           }
          ],
          "mesh3d": [
           {
            "colorbar": {
             "outlinewidth": 0,
             "ticks": ""
            },
            "type": "mesh3d"
           }
          ],
          "parcoords": [
           {
            "line": {
             "colorbar": {
              "outlinewidth": 0,
              "ticks": ""
             }
            },
            "type": "parcoords"
           }
          ],
          "pie": [
           {
            "automargin": true,
            "type": "pie"
           }
          ],
          "scatter": [
           {
            "fillpattern": {
             "fillmode": "overlay",
             "size": 10,
             "solidity": 0.2
            },
            "type": "scatter"
           }
          ],
          "scatter3d": [
           {
            "line": {
             "colorbar": {
              "outlinewidth": 0,
              "ticks": ""
             }
            },
            "marker": {
             "colorbar": {
              "outlinewidth": 0,
              "ticks": ""
             }
            },
            "type": "scatter3d"
           }
          ],
          "scattercarpet": [
           {
            "marker": {
             "colorbar": {
              "outlinewidth": 0,
              "ticks": ""
             }
            },
            "type": "scattercarpet"
           }
          ],
          "scattergeo": [
           {
            "marker": {
             "colorbar": {
              "outlinewidth": 0,
              "ticks": ""
             }
            },
            "type": "scattergeo"
           }
          ],
          "scattergl": [
           {
            "marker": {
             "colorbar": {
              "outlinewidth": 0,
              "ticks": ""
             }
            },
            "type": "scattergl"
           }
          ],
          "scattermapbox": [
           {
            "marker": {
             "colorbar": {
              "outlinewidth": 0,
              "ticks": ""
             }
            },
            "type": "scattermapbox"
           }
          ],
          "scatterpolar": [
           {
            "marker": {
             "colorbar": {
              "outlinewidth": 0,
              "ticks": ""
             }
            },
            "type": "scatterpolar"
           }
          ],
          "scatterpolargl": [
           {
            "marker": {
             "colorbar": {
              "outlinewidth": 0,
              "ticks": ""
             }
            },
            "type": "scatterpolargl"
           }
          ],
          "scatterternary": [
           {
            "marker": {
             "colorbar": {
              "outlinewidth": 0,
              "ticks": ""
             }
            },
            "type": "scatterternary"
           }
          ],
          "surface": [
           {
            "colorbar": {
             "outlinewidth": 0,
             "ticks": ""
            },
            "colorscale": [
             [
              0,
              "#0d0887"
             ],
             [
              0.1111111111111111,
              "#46039f"
             ],
             [
              0.2222222222222222,
              "#7201a8"
             ],
             [
              0.3333333333333333,
              "#9c179e"
             ],
             [
              0.4444444444444444,
              "#bd3786"
             ],
             [
              0.5555555555555556,
              "#d8576b"
             ],
             [
              0.6666666666666666,
              "#ed7953"
             ],
             [
              0.7777777777777778,
              "#fb9f3a"
             ],
             [
              0.8888888888888888,
              "#fdca26"
             ],
             [
              1,
              "#f0f921"
             ]
            ],
            "type": "surface"
           }
          ],
          "table": [
           {
            "cells": {
             "fill": {
              "color": "#EBF0F8"
             },
             "line": {
              "color": "white"
             }
            },
            "header": {
             "fill": {
              "color": "#C8D4E3"
             },
             "line": {
              "color": "white"
             }
            },
            "type": "table"
           }
          ]
         },
         "layout": {
          "annotationdefaults": {
           "arrowcolor": "#2a3f5f",
           "arrowhead": 0,
           "arrowwidth": 1
          },
          "autotypenumbers": "strict",
          "coloraxis": {
           "colorbar": {
            "outlinewidth": 0,
            "ticks": ""
           }
          },
          "colorscale": {
           "diverging": [
            [
             0,
             "#8e0152"
            ],
            [
             0.1,
             "#c51b7d"
            ],
            [
             0.2,
             "#de77ae"
            ],
            [
             0.3,
             "#f1b6da"
            ],
            [
             0.4,
             "#fde0ef"
            ],
            [
             0.5,
             "#f7f7f7"
            ],
            [
             0.6,
             "#e6f5d0"
            ],
            [
             0.7,
             "#b8e186"
            ],
            [
             0.8,
             "#7fbc41"
            ],
            [
             0.9,
             "#4d9221"
            ],
            [
             1,
             "#276419"
            ]
           ],
           "sequential": [
            [
             0,
             "#0d0887"
            ],
            [
             0.1111111111111111,
             "#46039f"
            ],
            [
             0.2222222222222222,
             "#7201a8"
            ],
            [
             0.3333333333333333,
             "#9c179e"
            ],
            [
             0.4444444444444444,
             "#bd3786"
            ],
            [
             0.5555555555555556,
             "#d8576b"
            ],
            [
             0.6666666666666666,
             "#ed7953"
            ],
            [
             0.7777777777777778,
             "#fb9f3a"
            ],
            [
             0.8888888888888888,
             "#fdca26"
            ],
            [
             1,
             "#f0f921"
            ]
           ],
           "sequentialminus": [
            [
             0,
             "#0d0887"
            ],
            [
             0.1111111111111111,
             "#46039f"
            ],
            [
             0.2222222222222222,
             "#7201a8"
            ],
            [
             0.3333333333333333,
             "#9c179e"
            ],
            [
             0.4444444444444444,
             "#bd3786"
            ],
            [
             0.5555555555555556,
             "#d8576b"
            ],
            [
             0.6666666666666666,
             "#ed7953"
            ],
            [
             0.7777777777777778,
             "#fb9f3a"
            ],
            [
             0.8888888888888888,
             "#fdca26"
            ],
            [
             1,
             "#f0f921"
            ]
           ]
          },
          "colorway": [
           "#636efa",
           "#EF553B",
           "#00cc96",
           "#ab63fa",
           "#FFA15A",
           "#19d3f3",
           "#FF6692",
           "#B6E880",
           "#FF97FF",
           "#FECB52"
          ],
          "font": {
           "color": "#2a3f5f"
          },
          "geo": {
           "bgcolor": "white",
           "lakecolor": "white",
           "landcolor": "#E5ECF6",
           "showlakes": true,
           "showland": true,
           "subunitcolor": "white"
          },
          "hoverlabel": {
           "align": "left"
          },
          "hovermode": "closest",
          "mapbox": {
           "style": "light"
          },
          "paper_bgcolor": "white",
          "plot_bgcolor": "#E5ECF6",
          "polar": {
           "angularaxis": {
            "gridcolor": "white",
            "linecolor": "white",
            "ticks": ""
           },
           "bgcolor": "#E5ECF6",
           "radialaxis": {
            "gridcolor": "white",
            "linecolor": "white",
            "ticks": ""
           }
          },
          "scene": {
           "xaxis": {
            "backgroundcolor": "#E5ECF6",
            "gridcolor": "white",
            "gridwidth": 2,
            "linecolor": "white",
            "showbackground": true,
            "ticks": "",
            "zerolinecolor": "white"
           },
           "yaxis": {
            "backgroundcolor": "#E5ECF6",
            "gridcolor": "white",
            "gridwidth": 2,
            "linecolor": "white",
            "showbackground": true,
            "ticks": "",
            "zerolinecolor": "white"
           },
           "zaxis": {
            "backgroundcolor": "#E5ECF6",
            "gridcolor": "white",
            "gridwidth": 2,
            "linecolor": "white",
            "showbackground": true,
            "ticks": "",
            "zerolinecolor": "white"
           }
          },
          "shapedefaults": {
           "line": {
            "color": "#2a3f5f"
           }
          },
          "ternary": {
           "aaxis": {
            "gridcolor": "white",
            "linecolor": "white",
            "ticks": ""
           },
           "baxis": {
            "gridcolor": "white",
            "linecolor": "white",
            "ticks": ""
           },
           "bgcolor": "#E5ECF6",
           "caxis": {
            "gridcolor": "white",
            "linecolor": "white",
            "ticks": ""
           }
          },
          "title": {
           "x": 0.05
          },
          "xaxis": {
           "automargin": true,
           "gridcolor": "white",
           "linecolor": "white",
           "ticks": "",
           "title": {
            "standoff": 15
           },
           "zerolinecolor": "white",
           "zerolinewidth": 2
          },
          "yaxis": {
           "automargin": true,
           "gridcolor": "white",
           "linecolor": "white",
           "ticks": "",
           "title": {
            "standoff": 15
           },
           "zerolinecolor": "white",
           "zerolinewidth": 2
          }
         }
        },
        "title": {
         "text": "IBC por ano das regiões"
        },
        "xaxis": {
         "anchor": "y",
         "domain": [
          0,
          1
         ],
         "title": {
          "text": "Região"
         }
        },
        "yaxis": {
         "anchor": "x",
         "categoryorder": "total ascending",
         "domain": [
          0,
          1
         ],
         "title": {
          "text": "Anos"
         }
        }
       }
      }
     },
     "metadata": {},
     "output_type": "display_data"
    }
   ],
   "source": [
    "#Criando a consulta com a média da região a cada ano\n",
    "query = \"\"\"\n",
    "SELECT \n",
    "    regiao,\n",
    "    AVG(CASE WHEN ano = 2021 THEN ibc END) AS ibc_2021,\n",
    "    AVG(CASE WHEN ano = 2022 THEN ibc END) AS ibc_2022,\n",
    "    AVG(CASE WHEN ano = 2023 THEN ibc END) AS ibc_2023,\n",
    "    AVG(CASE WHEN ano = 2024 THEN ibc END) AS ibc_2024\n",
    "FROM\n",
    "    df\n",
    "GROUP BY\n",
    "    regiao\n",
    "ORDER BY\n",
    "    regiao DESC;\n",
    "\"\"\"\n",
    "resultado = sqldf(query)\n",
    "#Convertendo o DF para o formato longo\n",
    "resultado_longo = pd.melt(\n",
    "    resultado,\n",
    "    id_vars=['regiao'],\n",
    "    value_vars = ['ibc_2021','ibc_2022','ibc_2023','ibc_2024'],\n",
    "    var_name ='ano',\n",
    "    value_name='ibc_ano'\n",
    ")\n",
    "resultado_longo['ano'] = resultado_longo['ano'].str.replace('ibc_', '')\n",
    "# Mapa de Cores\n",
    "mapa_de_cores = {\n",
    "    '2021': '#230491',  \n",
    "    '2022': '#860491',      \n",
    "    '2023': '#910404',\n",
    "    '2024': '#04918a' \n",
    "}\n",
    "# Gráfico\n",
    "fig = px.bar(\n",
    "    resultado_longo,\n",
    "    x = 'regiao',\n",
    "    y = 'ibc_ano',\n",
    "    color = 'ano',\n",
    "    barmode = 'group',\n",
    "    color_discrete_map = mapa_de_cores,\n",
    "    labels={'ibc_ano':\"Anos\",'regiao':\"Região\"},\n",
    "    title = 'IBC por ano das regiões'\n",
    ")\n",
    "fig.update_layout(\n",
    "    yaxis={'categoryorder': 'total ascending'}\n",
    ")\n",
    "fig.show()"
   ]
  },
  {
   "cell_type": "markdown",
   "metadata": {},
   "source": [
    "* Podemos ver no gráfico que o **IBC médio aumentou nas regiões Sul e Sudeste**\n",
    "* Na região Norte vemos que o ano de 2024 foi aonde se teve uma **queda acentuada no IBC saindo de 43 para 38**, bem como na região **Centro-Oeste temos o mesmo movimento saindo de 52 para 48**\n",
    "* A Região Nordeste não mudou muito o valor de seu IBC, sendo assim não indicando nem mesmo um crescimento ou decrescimento notável.\n",
    "* Fica evidente também que a região Sul se manteve na liderança na média do IBC durante todos os anos analisados."
   ]
  },
  {
   "cell_type": "markdown",
   "metadata": {},
   "source": [
    "## Analise IBC Capitais"
   ]
  },
  {
   "cell_type": "code",
   "execution_count": 26,
   "metadata": {
    "execution": {
     "iopub.execute_input": "2025-10-04T18:23:41.449747Z",
     "iopub.status.busy": "2025-10-04T18:23:41.449379Z",
     "iopub.status.idle": "2025-10-04T18:23:41.863583Z",
     "shell.execute_reply": "2025-10-04T18:23:41.862412Z",
     "shell.execute_reply.started": "2025-10-04T18:23:41.449716Z"
    },
    "trusted": true
   },
   "outputs": [
    {
     "name": "stdout",
     "output_type": "stream",
     "text": [
      "    nome_municipio  ibc_2021  ibc_2022  ibc_2023  ibc_2024\n",
      "0          Aracaju     69.51     72.45     71.61     78.55\n",
      "1   Belo Horizonte     70.94     73.95     73.50     82.76\n",
      "2            Belém     68.07     69.87     69.36     74.26\n",
      "3        Boa Vista     63.84     67.49     64.60     55.49\n",
      "4         Brasília     70.33     72.89     72.43     77.41\n",
      "5     Campo Grande     69.87     73.00     72.17     68.02\n",
      "6           Cuiabá     70.33     72.11     71.55     71.68\n",
      "7         Curitiba     71.86     75.73     74.38     85.15\n",
      "8    Florianópolis     73.96     76.81     76.05     86.35\n",
      "9        Fortaleza     70.14     73.01     71.33     78.34\n",
      "10         Goiânia     70.98     74.18     73.69     81.45\n",
      "11     João Pessoa     71.45     72.99     71.74     78.44\n",
      "12          Macapá     63.96     68.37     68.69     62.47\n",
      "13          Maceió     67.93     69.89     68.95     69.42\n",
      "14          Manaus     67.69     69.90     69.51     62.73\n",
      "15           Natal     69.93     73.24     71.94     80.11\n",
      "16          Palmas     68.60     72.99     71.32     72.12\n",
      "17    Porto Alegre     71.07     75.13     73.70     82.36\n",
      "18     Porto Velho     65.17     68.66     68.25     61.89\n",
      "19          Recife     68.32     70.36     71.17     75.19\n",
      "20      Rio Branco     64.87     69.19     68.34     62.75\n",
      "21  Rio de Janeiro     69.57     71.96     71.22     76.90\n",
      "22        Salvador     69.57     71.08     69.93     75.60\n",
      "23        São Luís     69.23     70.55     69.43     66.14\n",
      "24       São Paulo     70.30     73.23     72.01     80.32\n",
      "25        Teresina     70.33     71.97     70.46     73.03\n",
      "26         Vitória     69.95     73.39     72.72     83.81\n",
      "\n",
      "------------------------------------\n",
      "Média geral: ibc_2021    69.18\n",
      "ibc_2022    72.01\n",
      "ibc_2023    71.11\n",
      "ibc_2024    74.18\n",
      "dtype: float64\n"
     ]
    }
   ],
   "source": [
    "# Analisando o evolutivo ano a ano das capitais\n",
    "query = \"\"\"\n",
    "SELECT \n",
    "    nome_municipio,\n",
    "    MAX(CASE WHEN ano = 2021 THEN ibc END) AS ibc_2021,\n",
    "    MAX(CASE WHEN ano = 2022 THEN ibc END) AS ibc_2022,\n",
    "    MAX(CASE WHEN ano = 2023 THEN ibc END) AS ibc_2023,\n",
    "    MAX(CASE WHEN ano = 2024 THEN ibc END) AS ibc_2024\n",
    "FROM \n",
    "    df\n",
    "WHERE \n",
    "    capital_uf = 1 \n",
    "GROUP BY \n",
    "    nome_municipio\n",
    "ORDER BY \n",
    "    nome_municipio;\n",
    "\"\"\"\n",
    "resultado = sqldf(query)\n",
    "print(resultado)\n",
    "# Calculo da Média geral das capitais por ano\n",
    "media_geral = resultado[['ibc_2021','ibc_2022','ibc_2023','ibc_2024']].mean().round(2)\n",
    "print(\"\\n------------------------------------\")\n",
    "print(f\"Média geral: {media_geral}\")\n"
   ]
  },
  {
   "cell_type": "code",
   "execution_count": 27,
   "metadata": {
    "execution": {
     "iopub.execute_input": "2025-10-04T18:23:41.864922Z",
     "iopub.status.busy": "2025-10-04T18:23:41.864604Z",
     "iopub.status.idle": "2025-10-04T18:23:41.894133Z",
     "shell.execute_reply": "2025-10-04T18:23:41.893040Z",
     "shell.execute_reply.started": "2025-10-04T18:23:41.864899Z"
    },
    "trusted": true
   },
   "outputs": [
    {
     "name": "stdout",
     "output_type": "stream",
     "text": [
      "\n",
      "--- Variação do IBC por Ano ---\n",
      "    nome_municipio  ibc_2021  ibc_2021  ibc_2022 var_2022_vs_2021_%  ibc_2023  \\\n",
      "0          Aracaju     69.51       NaN     72.45              4.23%     71.61   \n",
      "1   Belo Horizonte     70.94       NaN     73.95              4.24%     73.50   \n",
      "2            Belém     68.07       NaN     69.87              2.64%     69.36   \n",
      "3        Boa Vista     63.84       NaN     67.49              5.72%     64.60   \n",
      "4         Brasília     70.33       NaN     72.89              3.64%     72.43   \n",
      "5     Campo Grande     69.87       NaN     73.00              4.48%     72.17   \n",
      "6           Cuiabá     70.33       NaN     72.11              2.53%     71.55   \n",
      "7         Curitiba     71.86       NaN     75.73              5.39%     74.38   \n",
      "8    Florianópolis     73.96       NaN     76.81              3.85%     76.05   \n",
      "9        Fortaleza     70.14       NaN     73.01              4.09%     71.33   \n",
      "10         Goiânia     70.98       NaN     74.18              4.51%     73.69   \n",
      "11     João Pessoa     71.45       NaN     72.99              2.16%     71.74   \n",
      "12          Macapá     63.96       NaN     68.37              6.89%     68.69   \n",
      "13          Maceió     67.93       NaN     69.89              2.89%     68.95   \n",
      "14          Manaus     67.69       NaN     69.90              3.26%     69.51   \n",
      "15           Natal     69.93       NaN     73.24              4.73%     71.94   \n",
      "16          Palmas     68.60       NaN     72.99              6.40%     71.32   \n",
      "17    Porto Alegre     71.07       NaN     75.13              5.71%     73.70   \n",
      "18     Porto Velho     65.17       NaN     68.66              5.36%     68.25   \n",
      "19          Recife     68.32       NaN     70.36              2.99%     71.17   \n",
      "20      Rio Branco     64.87       NaN     69.19              6.66%     68.34   \n",
      "21  Rio de Janeiro     69.57       NaN     71.96              3.44%     71.22   \n",
      "22        Salvador     69.57       NaN     71.08              2.17%     69.93   \n",
      "23        São Luís     69.23       NaN     70.55              1.91%     69.43   \n",
      "24       São Paulo     70.30       NaN     73.23              4.17%     72.01   \n",
      "25        Teresina     70.33       NaN     71.97              2.33%     70.46   \n",
      "26         Vitória     69.95       NaN     73.39              4.92%     72.72   \n",
      "\n",
      "   var_2023_vs_2022_%  ibc_2024 var_2024_vs_2023_%  \n",
      "0              -1.16%     78.55              9.69%  \n",
      "1              -0.61%     82.76             12.60%  \n",
      "2              -0.73%     74.26              7.06%  \n",
      "3              -4.28%     55.49            -14.10%  \n",
      "4              -0.63%     77.41              6.88%  \n",
      "5              -1.14%     68.02             -5.75%  \n",
      "6              -0.78%     71.68              0.18%  \n",
      "7              -1.78%     85.15             14.48%  \n",
      "8              -0.99%     86.35             13.54%  \n",
      "9              -2.30%     78.34              9.83%  \n",
      "10             -0.66%     81.45             10.53%  \n",
      "11             -1.71%     78.44              9.34%  \n",
      "12              0.47%     62.47             -9.06%  \n",
      "13             -1.34%     69.42              0.68%  \n",
      "14             -0.56%     62.73             -9.75%  \n",
      "15             -1.77%     80.11             11.36%  \n",
      "16             -2.29%     72.12              1.12%  \n",
      "17             -1.90%     82.36             11.75%  \n",
      "18             -0.60%     61.89             -9.32%  \n",
      "19              1.15%     75.19              5.65%  \n",
      "20             -1.23%     62.75             -8.18%  \n",
      "21             -1.03%     76.90              7.98%  \n",
      "22             -1.62%     75.60              8.11%  \n",
      "23             -1.59%     66.14             -4.74%  \n",
      "24             -1.67%     80.32             11.54%  \n",
      "25             -2.10%     73.03              3.65%  \n",
      "26             -0.91%     83.81             15.25%  \n"
     ]
    }
   ],
   "source": [
    "# Criando um código para trazer a variação ano a ano de cada capital\n",
    "colunas_ibc = [col for col in resultado.columns if 'ibc_' in col]\n",
    "df_ibc_apenas = resultado[colunas_ibc]\n",
    "\n",
    "df_variacoes = df_ibc_apenas.pct_change(axis=1) * 100\n",
    "\n",
    "# Renomeando as colunas\n",
    "novos_nomes_variacao = {}\n",
    "for i in range(1, len(colunas_ibc)):\n",
    "    ano_atual = colunas_ibc[i].split('_')[1]\n",
    "    ano_anterior = colunas_ibc[i-1].split('_')[1]\n",
    "    novos_nomes_variacao[colunas_ibc[i]] = f'var_{ano_atual}_vs_{ano_anterior}_%'\n",
    "\n",
    "df_variacoes = df_variacoes.rename(columns=novos_nomes_variacao)\n",
    "# Juntando\n",
    "df_completo = pd.concat([resultado, df_variacoes], axis=1)\n",
    "ordem_final = ['nome_municipio']\n",
    "for col_ibc in colunas_ibc:\n",
    "    ordem_final.append(col_ibc) \n",
    "    nome_var = f\"var_{col_ibc.split('_')[1]}_vs_{int(col_ibc.split('_')[1])-1}_%\"\n",
    "    if nome_var in df_completo.columns:\n",
    "        ordem_final.append(nome_var)\n",
    "\n",
    "df_final_ordenado = df_completo[ordem_final]\n",
    "# Formatação\n",
    "formatadores = {}\n",
    "for col in df_final_ordenado.columns:\n",
    "    if '%' in col:\n",
    "        # Formata colunas de porcentagem para 2 casas decimais e adiciona '%'\n",
    "        formatadores[col] = '{:,.2f}%'.format\n",
    "\n",
    "df_apresentacao = df_final_ordenado.style.format(formatadores, na_rep='-')\n",
    "\n",
    "for col, fmt in formatadores.items():\n",
    "    df_final_ordenado[col] = df_final_ordenado[col].apply(lambda x: fmt(x) if pd.notnull(x) else '-')\n",
    "\n",
    "\n",
    "print(\"\\n--- Variação do IBC por Ano ---\")\n",
    "print(df_final_ordenado)"
   ]
  },
  {
   "cell_type": "markdown",
   "metadata": {},
   "source": [
    "* Com as tabelas conseguimos ver que os três maiores IBC's absolutos foram de Florianópolis, Curitiba e Vitoria. Justamente três capitais pertencentes ao **Sul ou Sudeste**.\n",
    "* Também vemos que **a maioria das capitais obtiveram crescimento em seus IBC's no período analisado** ,uma vez que vemos que a média geral das capitais aumentou de 2021 para 2024, com o valor médio passando de 69.18 para 74.18, o que pode denotar que ao menos nas capitais as cidades estão de fato conseguindo se tornam mais conectadas e com maiores competições entre as empresas. Algo que de fato é esperado, uma vez que temos uma quantidade de UI's (Unidades Imobiliárias) alta em capitais, pelo fato de essas cidades terem um maior adensamento urbano, sendo assim mais clientes para as operadoras. Além disso, capitais possuem a maior presença de pessoas jurídicas, ou seja, empresas, o que atrai operadoras para consolidar clientes B2B. Bem como, essa maior diversidade de operadoras, principalmente na fibra (FTTH), pode se traduzir em menores preços, ou maior qualidade no serviço oferecido, uma vez que as empresas buscam se diferenciar para atrair os consumidores, assim sendo reduzindo o índice HHI o que é positivo\n",
    "* Olhando para a maior capital do Brasil, **São Paulo, vemos que ela obteve as seguintes variações anuais 4.17%, -1,67% e 11.54% evidenciando que a cidade tem sido efetiva em ter uma conectividade maior**. O que é positivo, uma vez que a cidade é conhecida por ser a principal capital financeira e econômica do Brasil, com isso sendo um passo importante para a capital adentrar até mesmo em projetos futuros de Internet das Coisas, o IoT."
   ]
  },
  {
   "cell_type": "code",
   "execution_count": 28,
   "metadata": {
    "execution": {
     "iopub.execute_input": "2025-10-04T18:23:41.895992Z",
     "iopub.status.busy": "2025-10-04T18:23:41.895651Z",
     "iopub.status.idle": "2025-10-04T18:23:42.306308Z",
     "shell.execute_reply": "2025-10-04T18:23:42.305122Z",
     "shell.execute_reply.started": "2025-10-04T18:23:41.895964Z"
    },
    "trusted": true
   },
   "outputs": [
    {
     "name": "stdout",
     "output_type": "stream",
     "text": [
      "Média IBCs das Capitais\n",
      "    nome_municipio        regiao  media_ibc\n",
      "0    Florianópolis           Sul    78.2925\n",
      "1         Curitiba           Sul    76.7800\n",
      "2     Porto Alegre           Sul    75.5650\n",
      "3   Belo Horizonte       Sudeste    75.2875\n",
      "4          Goiânia  Centro-Oeste    75.0750\n",
      "5          Vitória       Sudeste    74.9675\n",
      "6        São Paulo       Sudeste    73.9650\n",
      "7            Natal      Nordeste    73.8050\n",
      "8      João Pessoa      Nordeste    73.6550\n",
      "9         Brasília  Centro-Oeste    73.2650\n",
      "10       Fortaleza      Nordeste    73.2050\n",
      "11         Aracaju      Nordeste    73.0300\n",
      "12  Rio de Janeiro       Sudeste    72.4125\n",
      "13        Salvador      Nordeste    71.5450\n",
      "14        Teresina      Nordeste    71.4475\n",
      "15          Cuiabá  Centro-Oeste    71.4175\n",
      "16          Recife      Nordeste    71.2600\n",
      "17          Palmas         Norte    71.2575\n",
      "18    Campo Grande  Centro-Oeste    70.7650\n",
      "19           Belém         Norte    70.3900\n",
      "20          Maceió      Nordeste    69.0475\n",
      "21        São Luís      Nordeste    68.8375\n",
      "22          Manaus         Norte    67.4575\n",
      "23      Rio Branco         Norte    66.2875\n",
      "24     Porto Velho         Norte    65.9925\n",
      "25          Macapá         Norte    65.8725\n",
      "26       Boa Vista         Norte    62.8550\n",
      "\n",
      "----- Média Geral das Capitais ---\n",
      "71.62\n"
     ]
    }
   ],
   "source": [
    "# Calculando a média do IBC das capitais\n",
    "query = \"\"\"\n",
    "SELECT\n",
    "nome_municipio,regiao,AVG(ibc) AS media_ibc\n",
    "FROM \n",
    "    df\n",
    "WHERE \n",
    "    capital_uf = 1\n",
    "GROUP BY \n",
    "    nome_municipio\n",
    "ORDER BY \n",
    "    media_ibc DESC\n",
    "\"\"\"\n",
    "\n",
    "resultado = sqldf(query)\n",
    "print('Média IBCs das Capitais')\n",
    "print(resultado)\n",
    "# Média Geral\n",
    "\n",
    "media_geral = resultado['media_ibc'].mean().round(2)\n",
    "print('\\n----- Média Geral das Capitais ---')\n",
    "print(media_geral)"
   ]
  },
  {
   "cell_type": "markdown",
   "metadata": {},
   "source": [
    "* Das cinco melhores capitais **Apenas um pertence ao Centro-Oeste, três ao Sul e uma ao Sudeste.**\n",
    "* **Nas cinco piores capitais, todas pertencem à região Norte do país**, evidenciando o problema de conectividade dessa região.\n",
    "* **As capitais tem uma média maior do IBC para o período analisado se comparado com a média do Brasil**, com uma média de 71.62 frente aos 50.71 da média do país, o que evidencia que as capitais no Brasil por via de regra tem uma boa conectividade frente a outras cidades do país algo que de certa forma é esperado, uma vez que as capitais concentram e atraem mais investimentos das empresas para tais lugares"
   ]
  },
  {
   "cell_type": "markdown",
   "metadata": {},
   "source": [
    "# **Analise Cobertura 4G/5G (em porcentagem)**"
   ]
  },
  {
   "cell_type": "markdown",
   "metadata": {},
   "source": [
    "## Cobertura média por Estado"
   ]
  },
  {
   "cell_type": "code",
   "execution_count": 29,
   "metadata": {
    "execution": {
     "iopub.execute_input": "2025-10-04T18:23:42.307861Z",
     "iopub.status.busy": "2025-10-04T18:23:42.307464Z",
     "iopub.status.idle": "2025-10-04T18:23:42.861024Z",
     "shell.execute_reply": "2025-10-04T18:23:42.859785Z",
     "shell.execute_reply.started": "2025-10-04T18:23:42.307805Z"
    },
    "trusted": true
   },
   "outputs": [
    {
     "name": "stdout",
     "output_type": "stream",
     "text": [
      "Média cobertura movel por estado\n",
      "            nome_estado        regiao  media_movel\n",
      "0      Distrito Federal  Centro-Oeste    99.715875\n",
      "1             São Paulo       Sudeste    95.450769\n",
      "2        Rio de Janeiro       Sudeste    93.181112\n",
      "3               Sergipe      Nordeste    90.451647\n",
      "4   Rio Grande do Norte      Nordeste    85.344836\n",
      "5        Espírito Santo       Sudeste    85.267044\n",
      "6                Paraná           Sul    84.871018\n",
      "7            Pernambuco      Nordeste    84.491105\n",
      "8                 Ceará      Nordeste    83.822441\n",
      "9               Alagoas      Nordeste    83.651979\n",
      "10              Paraíba      Nordeste    83.571044\n",
      "11         Minas Gerais       Sudeste    82.825360\n",
      "12                Goiás  Centro-Oeste    80.854502\n",
      "13       Santa Catarina           Sul    80.416655\n",
      "14    Rio Grande do Sul           Sul    80.254785\n",
      "15   Mato Grosso do Sul  Centro-Oeste    75.217183\n",
      "16            Tocantins         Norte    71.430693\n",
      "17                Bahia      Nordeste    69.409889\n",
      "18                Amapá         Norte    68.788234\n",
      "19          Mato Grosso  Centro-Oeste    68.573923\n",
      "20             Maranhão      Nordeste    65.250318\n",
      "21                 Pará         Norte    64.421298\n",
      "22                Piauí      Nordeste    62.117998\n",
      "23                 Acre         Norte    57.987732\n",
      "24             Rondônia         Norte    57.947489\n",
      "25             Amazonas         Norte    57.795581\n",
      "26              Roraima         Norte    43.803670\n",
      "\n",
      "------------------------------------\n",
      "Média geral: 76.18\n"
     ]
    }
   ],
   "source": [
    "# Calculo da Média por Estado\n",
    "query = \"\"\"\n",
    "SELECT\n",
    "    nome_estado,regiao, AVG(cobertura_pop_4g5g) AS media_movel\n",
    "FROM \n",
    "    df\n",
    "GROUP BY \n",
    "    nome_estado\n",
    "ORDER BY \n",
    "    media_movel DESC;\n",
    "\"\"\"\n",
    "resultado = sqldf(query)\n",
    "print('Média cobertura movel por estado')\n",
    "print(resultado)\n",
    "# Calculando a Média Geral\n",
    "media_geral = resultado['media_movel'].mean().round(2)\n",
    "print(\"\\n------------------------------------\")\n",
    "print(f\"Média geral: {media_geral}\")"
   ]
  },
  {
   "cell_type": "markdown",
   "metadata": {},
   "source": [
    "* O Distrito Federal foi o Estado com melhores média de cobertura Móvel, com cerca de 99%, isso se deve claro ao fato de ser o polo do poder político do país, bem como ter uma extensão territorial diminuta\n",
    "* Nos 5 melhores Estados se destaca a presença de **Sergipe e Rio Grande do Norte, com uma média para o período analisado de 90% e 85% respectivamente**, representando a região Nordeste com as melhores coberturas da região\n",
    "* A região Norte se destaca com **4 dos 5 piores estados em questão de porcentagem de conectividade** além disso, com **Roraima** obtendo uma média de conectividade na rede móvel menor que 50% sendo o **único** estado do Brasil abaixo desse valor, o que evidencia um problema crucial para o estado, uma vez que com poucas pessoas tendo acesso ao 4G ou 5G pode impactar em rotinas de trabalho que demandam um sinal móvel mais presente, além disso, coloca enormes desafios para o estado se desenvolver para o IoT.\n",
    "* Contudo, vemos que a cobertura de 4G/5G é satisfatória na maioria dos estados, com cerca de **15 estados brasileiros obtendo uma média maior que 80% de cobertura** em seus municipios"
   ]
  },
  {
   "cell_type": "markdown",
   "metadata": {},
   "source": [
    "## Cobertura média por região"
   ]
  },
  {
   "cell_type": "code",
   "execution_count": 30,
   "metadata": {
    "execution": {
     "iopub.execute_input": "2025-10-04T18:23:42.862324Z",
     "iopub.status.busy": "2025-10-04T18:23:42.862016Z",
     "iopub.status.idle": "2025-10-04T18:23:43.268911Z",
     "shell.execute_reply": "2025-10-04T18:23:43.267913Z",
     "shell.execute_reply.started": "2025-10-04T18:23:42.862301Z"
    },
    "trusted": true
   },
   "outputs": [
    {
     "name": "stdout",
     "output_type": "stream",
     "text": [
      "Cobertura móvel média\n",
      "         regiao  Media_Movel\n",
      "0       Sudeste    88.392848\n",
      "1           Sul    81.841375\n",
      "2  Centro-Oeste    76.233413\n",
      "3      Nordeste    75.962745\n",
      "4         Norte    64.078946\n",
      "\n",
      "------------------------------------\n",
      "77.0\n"
     ]
    }
   ],
   "source": [
    "# Calculo da Média por Região\n",
    "query = \"\"\"\n",
    "SELECT \n",
    "    regiao,AVG(cobertura_pop_4g5g) AS Media_Movel\n",
    "FROM \n",
    "    df\n",
    "GROUP BY \n",
    "    regiao\n",
    "ORDER BY\n",
    "    Media_Movel DESC\n",
    ";\n",
    "\"\"\"\n",
    "resultado = sqldf(query)\n",
    "print('Cobertura móvel média')\n",
    "print(resultado)\n",
    "# Calculo média geral \n",
    "Media_regiao_movel = resultado['Media_Movel'].mean().round()\n",
    "\n",
    "print(\"\\n------------------------------------\")\n",
    "print(Media_regiao_movel)"
   ]
  },
  {
   "cell_type": "markdown",
   "metadata": {},
   "source": [
    "* Na cobertura de móvel temos uma **cobertura média maior que 50% em todas as regiões**\n",
    "* **A região Sudeste se destaca em cobertura de rede móvel com uma média de 88%** ou seja a região atualmente está bem cobertura seja com tecnologias 4G ou 5G.\n",
    "* **A região Norte se destaca com a cobertura de rede móvel mais baixa com cerca de 64%**, evidenciando a baixa cobertura de rede 4G e 5G se comparado com outras regiões do Brasil, sendo assim utilizando redes mais antigas como 3G ou 2G.\n",
    "* **A média geral da cobertura por regiões ficou em 77%** um resultado satisfatorio evidenciando que o Brasil está no geral com uma boa conectividade ao menos considerando o 4G e o 5G conjuntamente."
   ]
  },
  {
   "cell_type": "markdown",
   "metadata": {},
   "source": [
    "# **Analise da Cobertura de Fibra**"
   ]
  },
  {
   "cell_type": "markdown",
   "metadata": {},
   "source": [
    "## Quantidade de cidades com cobertura ausente, parcial ou completa de fibra"
   ]
  },
  {
   "cell_type": "code",
   "execution_count": 31,
   "metadata": {
    "execution": {
     "iopub.execute_input": "2025-10-04T18:23:43.270226Z",
     "iopub.status.busy": "2025-10-04T18:23:43.269745Z",
     "iopub.status.idle": "2025-10-04T18:23:43.739633Z",
     "shell.execute_reply": "2025-10-04T18:23:43.738293Z",
     "shell.execute_reply.started": "2025-10-04T18:23:43.270201Z"
    },
    "trusted": true
   },
   "outputs": [
    {
     "name": "stdout",
     "output_type": "stream",
     "text": [
      "Quantidade de Municipios e Tipo de Cobertura - Anual\n",
      "             tipo_cobertura  2021  2022  2023  2024\n",
      "0    Cobertura Satisfatoria  4677  4283  4283  3113\n",
      "1         Cobertura Parcial     0     0     0  1250\n",
      "2  Cobertura Insatisfatoria   893  1287  1287  1207\n"
     ]
    }
   ],
   "source": [
    "# Calculando a quantidade de cidades por tipo de cobertura\n",
    "query = \"\"\"\n",
    "SELECT\n",
    "    CASE\n",
    "        WHEN fibra = 0 THEN 'Cobertura Insatisfatoria'\n",
    "        WHEN fibra = 50 THEN 'Cobertura Parcial'\n",
    "        WHEN fibra = 100 THEN 'Cobertura Satisfatoria'\n",
    "    END AS tipo_cobertura,\n",
    "        COUNT(CASE WHEN ano = 2021 THEN 1 END) AS '2021',\n",
    "        COUNT(CASE WHEN ano = 2022 THEN 1 END) AS '2022',\n",
    "        COUNT(CASE WHEN ano = 2023 THEN 1 END) AS '2023',\n",
    "        COUNT(CASE WHEN ano = 2024 THEN 1 END) AS '2024'\n",
    "FROM\n",
    "    df\n",
    "WHERE \n",
    "fibra IN (0,50,100)\n",
    "GROUP BY\n",
    "    tipo_cobertura\n",
    "ORDER BY\n",
    "    CASE \n",
    "        WHEN tipo_cobertura = 'Cobertura Satisfatoria' THEN 1\n",
    "        WHEN tipo_cobertura = 'Cobertura Parcial' THEN 2\n",
    "        ELSE 3\n",
    "    END;\n",
    "\"\"\"\n",
    "resultado = sqldf(query)\n",
    "print(\"Quantidade de Municipios e Tipo de Cobertura - Anual\")\n",
    "print(resultado)"
   ]
  },
  {
   "cell_type": "markdown",
   "metadata": {},
   "source": [
    "* O Brasil conta hoje com 5570 municipios\n",
    "* Desses 5570 municipios a porcentagem de coberturas de fibra categorizada como insatisfatoria ao longo dos anos de **2021 a 2024 foram de 16%,23%,23% e 21%**\n",
    "* A denominação cobertura parcial é adotada a partir de 2024, com cerca de **22% dos municipios sendo classificados como coberturas parciais**\n",
    "* Já a denominação Cobertura Satisfatoria, apresenta os valores na série temporal de **84%,77%,77% e 55% entre 2021 e 2024**, o que enfatiza que obtemos uma **queda na cobertura de fibra nas cidades** ao longo do tempo. Isso pode se dar tanto pela utilização da nova classificação adotada pela anatel como cobertura parcial, quanto como operadoras que decidiram deixar alguns municipios nos anos de 2021 a 2022.\n",
    "* Contudo, isso evidencia que para muitas cidades a rede fibra ainda não é comum, com muitas provavelmente utilizando redes antigas como por exemplo o cabo coaxial."
   ]
  },
  {
   "cell_type": "markdown",
   "metadata": {},
   "source": [
    "## Quantidade de cidades por tipo de cobertura e por Estado"
   ]
  },
  {
   "cell_type": "code",
   "execution_count": 32,
   "metadata": {
    "execution": {
     "iopub.execute_input": "2025-10-04T18:23:43.740864Z",
     "iopub.status.busy": "2025-10-04T18:23:43.740502Z",
     "iopub.status.idle": "2025-10-04T18:23:44.324257Z",
     "shell.execute_reply": "2025-10-04T18:23:44.322954Z",
     "shell.execute_reply.started": "2025-10-04T18:23:43.740836Z"
    },
    "trusted": true
   },
   "outputs": [
    {
     "name": "stdout",
     "output_type": "stream",
     "text": [
      "Situação da cobertura de fibra por Estado\n",
      "                                              2021  2022  2023  2024\n",
      "nome_estado         tipo_cobertura                                  \n",
      "Acre                Cobertura Satisfatoria      18    18    18    16\n",
      "                    Cobertura Parcial            0     0     0     2\n",
      "                    Cobertura Insatisfatoria     4     4     4     4\n",
      "Alagoas             Cobertura Satisfatoria      99    60    60    37\n",
      "                    Cobertura Parcial            0     0     0    26\n",
      "                    Cobertura Insatisfatoria     3    42    42    39\n",
      "Amapá               Cobertura Satisfatoria       9    11    11    10\n",
      "                    Cobertura Parcial            0     0     0     2\n",
      "                    Cobertura Insatisfatoria     7     5     5     4\n",
      "Amazonas            Cobertura Satisfatoria      28    23    23    19\n",
      "                    Cobertura Parcial            0     0     0     6\n",
      "                    Cobertura Insatisfatoria    34    39    39    37\n",
      "Bahia               Cobertura Satisfatoria     370   275   275   169\n",
      "                    Cobertura Parcial            0     0     0   107\n",
      "                    Cobertura Insatisfatoria    47   142   142   141\n",
      "Ceará               Cobertura Satisfatoria     176   168   168   110\n",
      "                    Cobertura Parcial            0     0     0    45\n",
      "                    Cobertura Insatisfatoria     8    16    16    29\n",
      "Distrito Federal    Cobertura Satisfatoria       1     1     1     1\n",
      "Espírito Santo      Cobertura Satisfatoria      66    72    72    67\n",
      "                    Cobertura Parcial            0     0     0     5\n",
      "                    Cobertura Insatisfatoria    12     6     6     6\n",
      "Goiás               Cobertura Satisfatoria     177   205   205   133\n",
      "                    Cobertura Parcial            0     0     0    62\n",
      "                    Cobertura Insatisfatoria    69    41    41    51\n",
      "Maranhão            Cobertura Satisfatoria     169   152   152   122\n",
      "                    Cobertura Parcial            0     0     0    57\n",
      "                    Cobertura Insatisfatoria    48    65    65    38\n",
      "Mato Grosso         Cobertura Satisfatoria     134   108   108    69\n",
      "                    Cobertura Parcial            0     0     0    39\n",
      "                    Cobertura Insatisfatoria     7    33    33    33\n",
      "Mato Grosso do Sul  Cobertura Satisfatoria      72    66    66    60\n",
      "                    Cobertura Parcial            0     0     0    10\n",
      "                    Cobertura Insatisfatoria     7    13    13     9\n",
      "Minas Gerais        Cobertura Satisfatoria     662   559   559   360\n",
      "                    Cobertura Parcial            0     0     0   223\n",
      "                    Cobertura Insatisfatoria   191   294   294   270\n",
      "Paraná              Cobertura Satisfatoria     399   357   357   313\n",
      "                    Cobertura Parcial            0     0     0    63\n",
      "                    Cobertura Insatisfatoria     0    42    42    23\n",
      "Paraíba             Cobertura Satisfatoria     160   147   147    55\n",
      "                    Cobertura Parcial            0     0     0    63\n",
      "                    Cobertura Insatisfatoria    63    76    76   105\n",
      "Pará                Cobertura Satisfatoria     107   103   103    79\n",
      "                    Cobertura Parcial            0     0     0    15\n",
      "                    Cobertura Insatisfatoria    37    41    41    50\n",
      "Pernambuco          Cobertura Satisfatoria     152   137   137    83\n",
      "                    Cobertura Parcial            0     0     0    51\n",
      "                    Cobertura Insatisfatoria    33    48    48    51\n",
      "Piauí               Cobertura Satisfatoria      87   136   136   121\n",
      "                    Cobertura Parcial            0     0     0    78\n",
      "                    Cobertura Insatisfatoria   137    88    88    25\n",
      "Rio Grande do Norte Cobertura Satisfatoria     117    77    77    31\n",
      "                    Cobertura Parcial            0     0     0    31\n",
      "                    Cobertura Insatisfatoria    50    90    90   105\n",
      "Rio Grande do Sul   Cobertura Satisfatoria     454   433   433   308\n",
      "                    Cobertura Parcial            0     0     0   123\n",
      "                    Cobertura Insatisfatoria    43    64    64    66\n",
      "Rio de Janeiro      Cobertura Satisfatoria      92    92    92    91\n",
      "                    Cobertura Insatisfatoria     0     0     0     1\n",
      "Rondônia            Cobertura Satisfatoria      45    36    36    31\n",
      "                    Cobertura Parcial            0     0     0    16\n",
      "                    Cobertura Insatisfatoria     7    16    16     5\n",
      "Roraima             Cobertura Satisfatoria      13     8     8     5\n",
      "                    Cobertura Parcial            0     0     0     4\n",
      "                    Cobertura Insatisfatoria     2     7     7     6\n",
      "Santa Catarina      Cobertura Satisfatoria     295   291   291   246\n",
      "                    Cobertura Parcial            0     0     0    48\n",
      "                    Cobertura Insatisfatoria     0     4     4     1\n",
      "Sergipe             Cobertura Satisfatoria      66    60    60    40\n",
      "                    Cobertura Parcial            0     0     0    21\n",
      "                    Cobertura Insatisfatoria     9    15    15    14\n",
      "São Paulo           Cobertura Satisfatoria     617   615   615   485\n",
      "                    Cobertura Parcial            0     0     0   130\n",
      "                    Cobertura Insatisfatoria    28    30    30    30\n",
      "Tocantins           Cobertura Satisfatoria      92    73    73    52\n",
      "                    Cobertura Parcial            0     0     0    23\n",
      "                    Cobertura Insatisfatoria    47    66    66    64\n"
     ]
    }
   ],
   "source": [
    "# Calculando a quantidade de cidades por tipo de cobertura e por estado\n",
    "query = \"\"\"\n",
    "SELECT\n",
    "    nome_estado,\n",
    "    CASE\n",
    "        WHEN fibra = 0 THEN 'Cobertura Insatisfatoria'\n",
    "        WHEN fibra = 50 THEN 'Cobertura Parcial'\n",
    "        WHEN fibra = 100 THEN 'Cobertura Satisfatoria'\n",
    "    END AS tipo_cobertura,\n",
    "        COUNT(CASE WHEN ano = 2021 THEN 1 END) AS '2021',\n",
    "        COUNT(CASE WHEN ano = 2022 THEN 1 END) AS '2022',\n",
    "        COUNT(CASE WHEN ano = 2023 THEN 1 END) AS '2023',\n",
    "        COUNT(CASE WHEN ano = 2024 THEN 1 END) AS '2024'\n",
    "FROM\n",
    "    df\n",
    "WHERE \n",
    "fibra IN (0,50,100)\n",
    "GROUP BY\n",
    "    nome_estado,\n",
    "    tipo_cobertura\n",
    "ORDER BY\n",
    "    nome_estado,\n",
    "    CASE \n",
    "        WHEN tipo_cobertura = 'Cobertura Satisfatoria' THEN 1\n",
    "        WHEN tipo_cobertura = 'Cobertura Parcial' THEN 2\n",
    "        ELSE 3\n",
    "    END;\n",
    "\"\"\"\n",
    "resultado = sqldf(query)\n",
    "# Tratando em Python para melhor visualização\n",
    "resultado_f = resultado.set_index(['nome_estado','tipo_cobertura'])\n",
    "print('Situação da cobertura de fibra por Estado')\n",
    "pd.set_option('display.max_rows',500)\n",
    "print(resultado_f)"
   ]
  },
  {
   "cell_type": "markdown",
   "metadata": {},
   "source": [
    "* Fica evidente que a nova classificação fez muitas cidades sairem da categoria de cobertura satisfatoria indo para a insatisfatoria no intervalo entre 2023 e 2024, evidenciando que essa nova categoria faz a correção de distorções\n",
    "* Além disso, vemos que **durante o periodo de 2021 para 2022 tivemos aumentos na maioria dos estados na quantidade de municipios classificados como cobertura insatisfatoria**\n",
    "* O Estado mais populoso do Brasil,São Paulo, apresenta 77% dos municipios com cobertura satisfatoria e 20% com cobertura parcial. Isso mostra que o estado de São Paulo esta sendo efetivo na questão da cobertura de fibra"
   ]
  },
  {
   "cell_type": "markdown",
   "metadata": {},
   "source": [
    "## Quantidade de cidades por tipo de cobertura e região"
   ]
  },
  {
   "cell_type": "code",
   "execution_count": 33,
   "metadata": {
    "execution": {
     "iopub.execute_input": "2025-10-04T18:23:44.326017Z",
     "iopub.status.busy": "2025-10-04T18:23:44.325651Z",
     "iopub.status.idle": "2025-10-04T18:23:44.752291Z",
     "shell.execute_reply": "2025-10-04T18:23:44.750782Z",
     "shell.execute_reply.started": "2025-10-04T18:23:44.325993Z"
    },
    "trusted": true
   },
   "outputs": [
    {
     "name": "stdout",
     "output_type": "stream",
     "text": [
      "                                     2021  2022  2023  2024\n",
      "regiao       tipo_cobertura                                \n",
      "Centro-Oeste Cobertura Satisfatoria   384   380   380   263\n",
      "             Cobertura Parcial          0     0     0   111\n",
      "             Ausencia de Cobertura     83    87    87    93\n",
      "Nordeste     Cobertura Satisfatoria  1396  1212  1212   768\n",
      "             Cobertura Parcial          0     0     0   479\n",
      "             Ausencia de Cobertura    398   582   582   547\n",
      "Norte        Cobertura Satisfatoria   312   272   272   212\n",
      "             Cobertura Parcial          0     0     0    68\n",
      "             Ausencia de Cobertura    138   178   178   170\n",
      "Sudeste      Cobertura Satisfatoria  1437  1338  1338  1003\n",
      "             Cobertura Parcial          0     0     0   358\n",
      "             Ausencia de Cobertura    231   330   330   307\n",
      "Sul          Cobertura Satisfatoria  1148  1081  1081   867\n",
      "             Cobertura Parcial          0     0     0   234\n",
      "             Ausencia de Cobertura     43   110   110    90\n"
     ]
    }
   ],
   "source": [
    "#Calculo da quantidade de cidades por tipo de cobertura e região\n",
    "query = \"\"\"\n",
    "SELECT\n",
    "    regiao,\n",
    "    CASE\n",
    "        WHEN fibra = 0 THEN 'Ausencia de Cobertura'\n",
    "        WHEN fibra = 50 THEN 'Cobertura Parcial'\n",
    "        WHEN fibra = 100 THEN 'Cobertura Satisfatoria'\n",
    "    END as tipo_cobertura,\n",
    "    COUNT(CASE WHEN ano=2021 THEN 1 END) AS '2021',\n",
    "    COUNT(CASE WHEN ano=2022 THEN 1 END) AS '2022',\n",
    "    COUNT(CASE WHEN ano=2023 THEN 1 END) AS '2023',\n",
    "    COUNT(CASE WHEN ano=2024 THEN 1 END) AS '2024'\n",
    "FROM\n",
    "    df\n",
    "WHERE \n",
    "    fibra IN (0,50,100)\n",
    "GROUP BY\n",
    "    regiao,\n",
    "    tipo_cobertura\n",
    "ORDER BY\n",
    "    regiao,\n",
    "    CASE \n",
    "        WHEN tipo_cobertura = 'Cobertura Satisfatoria' THEN 1\n",
    "        WHEN tipo_cobertura = 'Cobertura Parcial' THEN 2\n",
    "        ELSE 3\n",
    "    END;\n",
    "\"\"\"\n",
    "resultado = sqldf(query)\n",
    "# Criando melhor visualização com Python\n",
    "resultado_f = resultado.set_index(['regiao','tipo_cobertura'])\n",
    "print(resultado_f)"
   ]
  },
  {
   "cell_type": "markdown",
   "metadata": {},
   "source": [
    "* Na região **Centro-Oeste tivemos um aumento** no número de municípios com **ausência de cobertura**.\n",
    "* Nas demais regiões a ausência de cobertura diminui no período analisado\n",
    "* Podemos ver que com a introdução da categoria Cobertura Parcial em 2024 todas as regiões tiveram um decréscimo em cobertura satisfatória, bem como com exceção do centro-oeste também houve uma diminuição das cidades com ausência de cobertura, com algumas delas passando para cobertura parcial de 2023 a 2024. Isso evidencia, que alguns municípios não têm realmente uma ausência da tecnologia fibra, contudo a totalidade ou grande parte dela ainda não é coberta pelas tecnologias de fibra óptica. "
   ]
  },
  {
   "cell_type": "code",
   "execution_count": 34,
   "metadata": {
    "execution": {
     "iopub.execute_input": "2025-10-04T18:23:44.753593Z",
     "iopub.status.busy": "2025-10-04T18:23:44.753339Z",
     "iopub.status.idle": "2025-10-04T18:23:44.775537Z",
     "shell.execute_reply": "2025-10-04T18:23:44.773955Z",
     "shell.execute_reply.started": "2025-10-04T18:23:44.753572Z"
    },
    "trusted": true
   },
   "outputs": [
    {
     "name": "stdout",
     "output_type": "stream",
     "text": [
      "% de Municipios por tipo de cobertura\n",
      "                                    Porcentagem\n",
      "regiao       tipo_cobertura                    \n",
      "Centro-Oeste Cobertura Satisfatoria      56.32%\n",
      "             Cobertura Parcial           23.77%\n",
      "             Ausencia de Cobertura       19.91%\n",
      "Nordeste     Cobertura Satisfatoria      42.81%\n",
      "             Cobertura Parcial           26.70%\n",
      "             Ausencia de Cobertura       30.49%\n",
      "Norte        Cobertura Satisfatoria      47.11%\n",
      "             Cobertura Parcial           15.11%\n",
      "             Ausencia de Cobertura       37.78%\n",
      "Sudeste      Cobertura Satisfatoria      60.13%\n",
      "             Cobertura Parcial           21.46%\n",
      "             Ausencia de Cobertura       18.41%\n",
      "Sul          Cobertura Satisfatoria      72.80%\n",
      "             Cobertura Parcial           19.65%\n",
      "             Ausencia de Cobertura        7.56%\n"
     ]
    },
    {
     "name": "stderr",
     "output_type": "stream",
     "text": [
      "C:\\Users\\gabri\\AppData\\Local\\Temp\\ipykernel_16048\\3500959281.py:4: SettingWithCopyWarning:\n",
      "\n",
      "\n",
      "A value is trying to be set on a copy of a slice from a DataFrame.\n",
      "Try using .loc[row_indexer,col_indexer] = value instead\n",
      "\n",
      "See the caveats in the documentation: https://pandas.pydata.org/pandas-docs/stable/user_guide/indexing.html#returning-a-view-versus-a-copy\n",
      "\n",
      "C:\\Users\\gabri\\AppData\\Local\\Temp\\ipykernel_16048\\3500959281.py:5: SettingWithCopyWarning:\n",
      "\n",
      "\n",
      "A value is trying to be set on a copy of a slice from a DataFrame.\n",
      "Try using .loc[row_indexer,col_indexer] = value instead\n",
      "\n",
      "See the caveats in the documentation: https://pandas.pydata.org/pandas-docs/stable/user_guide/indexing.html#returning-a-view-versus-a-copy\n",
      "\n"
     ]
    }
   ],
   "source": [
    "# Criando um Dataframe para analise somente do ano de 2024 em %\n",
    "df_2024 = resultado_f[['2024']]\n",
    "total_por_regiao = df_2024.groupby(level='regiao')['2024'].transform('sum')\n",
    "df_2024['total_por_regiao'] = total_por_regiao\n",
    "df_2024['Porcentagem'] = (df_2024['2024']/df_2024['total_por_regiao'])*100\n",
    "df_2024 = df_2024.rename(columns={'2024': 'Municipios_2024'})\n",
    "df_2024['Porcentagem'] = df_2024['Porcentagem'].map('{:.2f}%'.format)\n",
    "df_f = df_2024.drop(columns=['total_por_regiao','Municipios_2024'])\n",
    "print('% de Municipios por tipo de cobertura')\n",
    "print(df_f)"
   ]
  },
  {
   "cell_type": "markdown",
   "metadata": {},
   "source": [
    "## Gráfico municípios com cobertura de fibra(2024)"
   ]
  },
  {
   "cell_type": "code",
   "execution_count": 35,
   "metadata": {
    "execution": {
     "iopub.execute_input": "2025-10-04T18:23:44.777208Z",
     "iopub.status.busy": "2025-10-04T18:23:44.776790Z",
     "iopub.status.idle": "2025-10-04T18:23:44.889673Z",
     "shell.execute_reply": "2025-10-04T18:23:44.888259Z",
     "shell.execute_reply.started": "2025-10-04T18:23:44.777177Z"
    },
    "trusted": true
   },
   "outputs": [
    {
     "name": "stderr",
     "output_type": "stream",
     "text": [
      "C:\\Users\\gabri\\AppData\\Local\\Temp\\ipykernel_16048\\815024745.py:4: SettingWithCopyWarning:\n",
      "\n",
      "\n",
      "A value is trying to be set on a copy of a slice from a DataFrame.\n",
      "Try using .loc[row_indexer,col_indexer] = value instead\n",
      "\n",
      "See the caveats in the documentation: https://pandas.pydata.org/pandas-docs/stable/user_guide/indexing.html#returning-a-view-versus-a-copy\n",
      "\n",
      "C:\\Users\\gabri\\AppData\\Local\\Temp\\ipykernel_16048\\815024745.py:5: SettingWithCopyWarning:\n",
      "\n",
      "\n",
      "A value is trying to be set on a copy of a slice from a DataFrame.\n",
      "Try using .loc[row_indexer,col_indexer] = value instead\n",
      "\n",
      "See the caveats in the documentation: https://pandas.pydata.org/pandas-docs/stable/user_guide/indexing.html#returning-a-view-versus-a-copy\n",
      "\n"
     ]
    },
    {
     "data": {
      "application/vnd.plotly.v1+json": {
       "config": {
        "plotlyServerURL": "https://plot.ly"
       },
       "data": [
        {
         "alignmentgroup": "True",
         "customdata": [
          [
           263
          ],
          [
           768
          ],
          [
           212
          ],
          [
           1003
          ],
          [
           867
          ]
         ],
         "hovertemplate": "Cobertura de Fibra=Cobertura Satisfatoria<br>Porcentagem de Municípios (%)=%{x:.2f}<br>Região=%{y}<br>text=%{text}<br>Municipios_2024=%{customdata[0]}<extra></extra>",
         "legendgroup": "Cobertura Satisfatoria",
         "marker": {
          "color": "#00062e",
          "pattern": {
           "shape": ""
          }
         },
         "name": "Cobertura Satisfatoria",
         "offsetgroup": "Cobertura Satisfatoria",
         "orientation": "h",
         "showlegend": true,
         "text": [
          "56.32%",
          "42.81%",
          "47.11%",
          "60.13%",
          "72.80%"
         ],
         "textfont": {
          "size": 12
         },
         "textposition": "inside",
         "type": "bar",
         "x": [
          56.3169164882227,
          42.80936454849498,
          47.11111111111111,
          60.13189448441247,
          72.79596977329975
         ],
         "xaxis": "x",
         "y": [
          "Centro-Oeste",
          "Nordeste",
          "Norte",
          "Sudeste",
          "Sul"
         ],
         "yaxis": "y"
        },
        {
         "alignmentgroup": "True",
         "customdata": [
          [
           111
          ],
          [
           479
          ],
          [
           68
          ],
          [
           358
          ],
          [
           234
          ]
         ],
         "hovertemplate": "Cobertura de Fibra=Cobertura Parcial<br>Porcentagem de Municípios (%)=%{x:.2f}<br>Região=%{y}<br>text=%{text}<br>Municipios_2024=%{customdata[0]}<extra></extra>",
         "legendgroup": "Cobertura Parcial",
         "marker": {
          "color": "#1d2247",
          "pattern": {
           "shape": ""
          }
         },
         "name": "Cobertura Parcial",
         "offsetgroup": "Cobertura Parcial",
         "orientation": "h",
         "showlegend": true,
         "text": [
          "23.77%",
          "26.70%",
          "15.11%",
          "21.46%",
          "19.65%"
         ],
         "textfont": {
          "size": 12
         },
         "textposition": "inside",
         "type": "bar",
         "x": [
          23.768736616702355,
          26.700111482720178,
          15.11111111111111,
          21.46282973621103,
          19.64735516372796
         ],
         "xaxis": "x",
         "y": [
          "Centro-Oeste",
          "Nordeste",
          "Norte",
          "Sudeste",
          "Sul"
         ],
         "yaxis": "y"
        },
        {
         "alignmentgroup": "True",
         "customdata": [
          [
           93
          ],
          [
           547
          ],
          [
           170
          ],
          [
           307
          ],
          [
           90
          ]
         ],
         "hovertemplate": "Cobertura de Fibra=Ausencia de Cobertura<br>Porcentagem de Municípios (%)=%{x:.2f}<br>Região=%{y}<br>text=%{text}<br>Municipios_2024=%{customdata[0]}<extra></extra>",
         "legendgroup": "Ausencia de Cobertura",
         "marker": {
          "color": "#18181a",
          "pattern": {
           "shape": ""
          }
         },
         "name": "Ausencia de Cobertura",
         "offsetgroup": "Ausencia de Cobertura",
         "orientation": "h",
         "showlegend": true,
         "text": [
          "19.91%",
          "30.49%",
          "37.78%",
          "18.41%",
          "7.56%"
         ],
         "textfont": {
          "size": 12
         },
         "textposition": "inside",
         "type": "bar",
         "x": [
          19.914346895074946,
          30.49052396878484,
          37.77777777777778,
          18.4052757793765,
          7.5566750629722925
         ],
         "xaxis": "x",
         "y": [
          "Centro-Oeste",
          "Nordeste",
          "Norte",
          "Sudeste",
          "Sul"
         ],
         "yaxis": "y"
        }
       ],
       "layout": {
        "barmode": "relative",
        "legend": {
         "title": {
          "text": "Cobertura de Fibra"
         },
         "tracegroupgap": 0
        },
        "template": {
         "data": {
          "bar": [
           {
            "error_x": {
             "color": "#2a3f5f"
            },
            "error_y": {
             "color": "#2a3f5f"
            },
            "marker": {
             "line": {
              "color": "#E5ECF6",
              "width": 0.5
             },
             "pattern": {
              "fillmode": "overlay",
              "size": 10,
              "solidity": 0.2
             }
            },
            "type": "bar"
           }
          ],
          "barpolar": [
           {
            "marker": {
             "line": {
              "color": "#E5ECF6",
              "width": 0.5
             },
             "pattern": {
              "fillmode": "overlay",
              "size": 10,
              "solidity": 0.2
             }
            },
            "type": "barpolar"
           }
          ],
          "carpet": [
           {
            "aaxis": {
             "endlinecolor": "#2a3f5f",
             "gridcolor": "white",
             "linecolor": "white",
             "minorgridcolor": "white",
             "startlinecolor": "#2a3f5f"
            },
            "baxis": {
             "endlinecolor": "#2a3f5f",
             "gridcolor": "white",
             "linecolor": "white",
             "minorgridcolor": "white",
             "startlinecolor": "#2a3f5f"
            },
            "type": "carpet"
           }
          ],
          "choropleth": [
           {
            "colorbar": {
             "outlinewidth": 0,
             "ticks": ""
            },
            "type": "choropleth"
           }
          ],
          "contour": [
           {
            "colorbar": {
             "outlinewidth": 0,
             "ticks": ""
            },
            "colorscale": [
             [
              0,
              "#0d0887"
             ],
             [
              0.1111111111111111,
              "#46039f"
             ],
             [
              0.2222222222222222,
              "#7201a8"
             ],
             [
              0.3333333333333333,
              "#9c179e"
             ],
             [
              0.4444444444444444,
              "#bd3786"
             ],
             [
              0.5555555555555556,
              "#d8576b"
             ],
             [
              0.6666666666666666,
              "#ed7953"
             ],
             [
              0.7777777777777778,
              "#fb9f3a"
             ],
             [
              0.8888888888888888,
              "#fdca26"
             ],
             [
              1,
              "#f0f921"
             ]
            ],
            "type": "contour"
           }
          ],
          "contourcarpet": [
           {
            "colorbar": {
             "outlinewidth": 0,
             "ticks": ""
            },
            "type": "contourcarpet"
           }
          ],
          "heatmap": [
           {
            "colorbar": {
             "outlinewidth": 0,
             "ticks": ""
            },
            "colorscale": [
             [
              0,
              "#0d0887"
             ],
             [
              0.1111111111111111,
              "#46039f"
             ],
             [
              0.2222222222222222,
              "#7201a8"
             ],
             [
              0.3333333333333333,
              "#9c179e"
             ],
             [
              0.4444444444444444,
              "#bd3786"
             ],
             [
              0.5555555555555556,
              "#d8576b"
             ],
             [
              0.6666666666666666,
              "#ed7953"
             ],
             [
              0.7777777777777778,
              "#fb9f3a"
             ],
             [
              0.8888888888888888,
              "#fdca26"
             ],
             [
              1,
              "#f0f921"
             ]
            ],
            "type": "heatmap"
           }
          ],
          "heatmapgl": [
           {
            "colorbar": {
             "outlinewidth": 0,
             "ticks": ""
            },
            "colorscale": [
             [
              0,
              "#0d0887"
             ],
             [
              0.1111111111111111,
              "#46039f"
             ],
             [
              0.2222222222222222,
              "#7201a8"
             ],
             [
              0.3333333333333333,
              "#9c179e"
             ],
             [
              0.4444444444444444,
              "#bd3786"
             ],
             [
              0.5555555555555556,
              "#d8576b"
             ],
             [
              0.6666666666666666,
              "#ed7953"
             ],
             [
              0.7777777777777778,
              "#fb9f3a"
             ],
             [
              0.8888888888888888,
              "#fdca26"
             ],
             [
              1,
              "#f0f921"
             ]
            ],
            "type": "heatmapgl"
           }
          ],
          "histogram": [
           {
            "marker": {
             "pattern": {
              "fillmode": "overlay",
              "size": 10,
              "solidity": 0.2
             }
            },
            "type": "histogram"
           }
          ],
          "histogram2d": [
           {
            "colorbar": {
             "outlinewidth": 0,
             "ticks": ""
            },
            "colorscale": [
             [
              0,
              "#0d0887"
             ],
             [
              0.1111111111111111,
              "#46039f"
             ],
             [
              0.2222222222222222,
              "#7201a8"
             ],
             [
              0.3333333333333333,
              "#9c179e"
             ],
             [
              0.4444444444444444,
              "#bd3786"
             ],
             [
              0.5555555555555556,
              "#d8576b"
             ],
             [
              0.6666666666666666,
              "#ed7953"
             ],
             [
              0.7777777777777778,
              "#fb9f3a"
             ],
             [
              0.8888888888888888,
              "#fdca26"
             ],
             [
              1,
              "#f0f921"
             ]
            ],
            "type": "histogram2d"
           }
          ],
          "histogram2dcontour": [
           {
            "colorbar": {
             "outlinewidth": 0,
             "ticks": ""
            },
            "colorscale": [
             [
              0,
              "#0d0887"
             ],
             [
              0.1111111111111111,
              "#46039f"
             ],
             [
              0.2222222222222222,
              "#7201a8"
             ],
             [
              0.3333333333333333,
              "#9c179e"
             ],
             [
              0.4444444444444444,
              "#bd3786"
             ],
             [
              0.5555555555555556,
              "#d8576b"
             ],
             [
              0.6666666666666666,
              "#ed7953"
             ],
             [
              0.7777777777777778,
              "#fb9f3a"
             ],
             [
              0.8888888888888888,
              "#fdca26"
             ],
             [
              1,
              "#f0f921"
             ]
            ],
            "type": "histogram2dcontour"
           }
          ],
          "mesh3d": [
           {
            "colorbar": {
             "outlinewidth": 0,
             "ticks": ""
            },
            "type": "mesh3d"
           }
          ],
          "parcoords": [
           {
            "line": {
             "colorbar": {
              "outlinewidth": 0,
              "ticks": ""
             }
            },
            "type": "parcoords"
           }
          ],
          "pie": [
           {
            "automargin": true,
            "type": "pie"
           }
          ],
          "scatter": [
           {
            "fillpattern": {
             "fillmode": "overlay",
             "size": 10,
             "solidity": 0.2
            },
            "type": "scatter"
           }
          ],
          "scatter3d": [
           {
            "line": {
             "colorbar": {
              "outlinewidth": 0,
              "ticks": ""
             }
            },
            "marker": {
             "colorbar": {
              "outlinewidth": 0,
              "ticks": ""
             }
            },
            "type": "scatter3d"
           }
          ],
          "scattercarpet": [
           {
            "marker": {
             "colorbar": {
              "outlinewidth": 0,
              "ticks": ""
             }
            },
            "type": "scattercarpet"
           }
          ],
          "scattergeo": [
           {
            "marker": {
             "colorbar": {
              "outlinewidth": 0,
              "ticks": ""
             }
            },
            "type": "scattergeo"
           }
          ],
          "scattergl": [
           {
            "marker": {
             "colorbar": {
              "outlinewidth": 0,
              "ticks": ""
             }
            },
            "type": "scattergl"
           }
          ],
          "scattermapbox": [
           {
            "marker": {
             "colorbar": {
              "outlinewidth": 0,
              "ticks": ""
             }
            },
            "type": "scattermapbox"
           }
          ],
          "scatterpolar": [
           {
            "marker": {
             "colorbar": {
              "outlinewidth": 0,
              "ticks": ""
             }
            },
            "type": "scatterpolar"
           }
          ],
          "scatterpolargl": [
           {
            "marker": {
             "colorbar": {
              "outlinewidth": 0,
              "ticks": ""
             }
            },
            "type": "scatterpolargl"
           }
          ],
          "scatterternary": [
           {
            "marker": {
             "colorbar": {
              "outlinewidth": 0,
              "ticks": ""
             }
            },
            "type": "scatterternary"
           }
          ],
          "surface": [
           {
            "colorbar": {
             "outlinewidth": 0,
             "ticks": ""
            },
            "colorscale": [
             [
              0,
              "#0d0887"
             ],
             [
              0.1111111111111111,
              "#46039f"
             ],
             [
              0.2222222222222222,
              "#7201a8"
             ],
             [
              0.3333333333333333,
              "#9c179e"
             ],
             [
              0.4444444444444444,
              "#bd3786"
             ],
             [
              0.5555555555555556,
              "#d8576b"
             ],
             [
              0.6666666666666666,
              "#ed7953"
             ],
             [
              0.7777777777777778,
              "#fb9f3a"
             ],
             [
              0.8888888888888888,
              "#fdca26"
             ],
             [
              1,
              "#f0f921"
             ]
            ],
            "type": "surface"
           }
          ],
          "table": [
           {
            "cells": {
             "fill": {
              "color": "#EBF0F8"
             },
             "line": {
              "color": "white"
             }
            },
            "header": {
             "fill": {
              "color": "#C8D4E3"
             },
             "line": {
              "color": "white"
             }
            },
            "type": "table"
           }
          ]
         },
         "layout": {
          "annotationdefaults": {
           "arrowcolor": "#2a3f5f",
           "arrowhead": 0,
           "arrowwidth": 1
          },
          "autotypenumbers": "strict",
          "coloraxis": {
           "colorbar": {
            "outlinewidth": 0,
            "ticks": ""
           }
          },
          "colorscale": {
           "diverging": [
            [
             0,
             "#8e0152"
            ],
            [
             0.1,
             "#c51b7d"
            ],
            [
             0.2,
             "#de77ae"
            ],
            [
             0.3,
             "#f1b6da"
            ],
            [
             0.4,
             "#fde0ef"
            ],
            [
             0.5,
             "#f7f7f7"
            ],
            [
             0.6,
             "#e6f5d0"
            ],
            [
             0.7,
             "#b8e186"
            ],
            [
             0.8,
             "#7fbc41"
            ],
            [
             0.9,
             "#4d9221"
            ],
            [
             1,
             "#276419"
            ]
           ],
           "sequential": [
            [
             0,
             "#0d0887"
            ],
            [
             0.1111111111111111,
             "#46039f"
            ],
            [
             0.2222222222222222,
             "#7201a8"
            ],
            [
             0.3333333333333333,
             "#9c179e"
            ],
            [
             0.4444444444444444,
             "#bd3786"
            ],
            [
             0.5555555555555556,
             "#d8576b"
            ],
            [
             0.6666666666666666,
             "#ed7953"
            ],
            [
             0.7777777777777778,
             "#fb9f3a"
            ],
            [
             0.8888888888888888,
             "#fdca26"
            ],
            [
             1,
             "#f0f921"
            ]
           ],
           "sequentialminus": [
            [
             0,
             "#0d0887"
            ],
            [
             0.1111111111111111,
             "#46039f"
            ],
            [
             0.2222222222222222,
             "#7201a8"
            ],
            [
             0.3333333333333333,
             "#9c179e"
            ],
            [
             0.4444444444444444,
             "#bd3786"
            ],
            [
             0.5555555555555556,
             "#d8576b"
            ],
            [
             0.6666666666666666,
             "#ed7953"
            ],
            [
             0.7777777777777778,
             "#fb9f3a"
            ],
            [
             0.8888888888888888,
             "#fdca26"
            ],
            [
             1,
             "#f0f921"
            ]
           ]
          },
          "colorway": [
           "#636efa",
           "#EF553B",
           "#00cc96",
           "#ab63fa",
           "#FFA15A",
           "#19d3f3",
           "#FF6692",
           "#B6E880",
           "#FF97FF",
           "#FECB52"
          ],
          "font": {
           "color": "#2a3f5f"
          },
          "geo": {
           "bgcolor": "white",
           "lakecolor": "white",
           "landcolor": "#E5ECF6",
           "showlakes": true,
           "showland": true,
           "subunitcolor": "white"
          },
          "hoverlabel": {
           "align": "left"
          },
          "hovermode": "closest",
          "mapbox": {
           "style": "light"
          },
          "paper_bgcolor": "white",
          "plot_bgcolor": "#E5ECF6",
          "polar": {
           "angularaxis": {
            "gridcolor": "white",
            "linecolor": "white",
            "ticks": ""
           },
           "bgcolor": "#E5ECF6",
           "radialaxis": {
            "gridcolor": "white",
            "linecolor": "white",
            "ticks": ""
           }
          },
          "scene": {
           "xaxis": {
            "backgroundcolor": "#E5ECF6",
            "gridcolor": "white",
            "gridwidth": 2,
            "linecolor": "white",
            "showbackground": true,
            "ticks": "",
            "zerolinecolor": "white"
           },
           "yaxis": {
            "backgroundcolor": "#E5ECF6",
            "gridcolor": "white",
            "gridwidth": 2,
            "linecolor": "white",
            "showbackground": true,
            "ticks": "",
            "zerolinecolor": "white"
           },
           "zaxis": {
            "backgroundcolor": "#E5ECF6",
            "gridcolor": "white",
            "gridwidth": 2,
            "linecolor": "white",
            "showbackground": true,
            "ticks": "",
            "zerolinecolor": "white"
           }
          },
          "shapedefaults": {
           "line": {
            "color": "#2a3f5f"
           }
          },
          "ternary": {
           "aaxis": {
            "gridcolor": "white",
            "linecolor": "white",
            "ticks": ""
           },
           "baxis": {
            "gridcolor": "white",
            "linecolor": "white",
            "ticks": ""
           },
           "bgcolor": "#E5ECF6",
           "caxis": {
            "gridcolor": "white",
            "linecolor": "white",
            "ticks": ""
           }
          },
          "title": {
           "x": 0.05
          },
          "xaxis": {
           "automargin": true,
           "gridcolor": "white",
           "linecolor": "white",
           "ticks": "",
           "title": {
            "standoff": 15
           },
           "zerolinecolor": "white",
           "zerolinewidth": 2
          },
          "yaxis": {
           "automargin": true,
           "gridcolor": "white",
           "linecolor": "white",
           "ticks": "",
           "title": {
            "standoff": 15
           },
           "zerolinecolor": "white",
           "zerolinewidth": 2
          }
         }
        },
        "title": {
         "text": "Distribuição da Cobertura por Fibra por Região (2024)"
        },
        "xaxis": {
         "anchor": "y",
         "domain": [
          0,
          1
         ],
         "title": {
          "text": "Porcentagem de Municípios (%)"
         }
        },
        "yaxis": {
         "anchor": "x",
         "domain": [
          0,
          1
         ],
         "title": {
          "text": "Região"
         }
        }
       }
      }
     },
     "metadata": {},
     "output_type": "display_data"
    }
   ],
   "source": [
    "#Criando o DF para plotar\n",
    "df_2024 = resultado_f[['2024']]\n",
    "total_por_regiao = df_2024.groupby(level='regiao')['2024'].transform('sum')\n",
    "df_2024['total_por_regiao'] = total_por_regiao\n",
    "df_2024['Porcentagem'] = (df_2024['2024']/df_2024['total_por_regiao'])*100\n",
    "df_2024 = df_2024.rename(columns={'2024': 'Municipios_2024'})\n",
    "\n",
    "df_grafico = df_2024.reset_index()\n",
    "# Criando mapa de cores\n",
    "mapa_cores = {\n",
    "    'Cobertura Satisfatoria': '#00062e',\n",
    "    'Cobertura Parcial': '#1d2247',\n",
    "    'Ausencia de Cobertura': '#18181a'\n",
    "}\n",
    "#Criando Gráfico\n",
    "fig = px.bar(\n",
    "    df_grafico,\n",
    "    x = 'Porcentagem',\n",
    "    y = 'regiao',\n",
    "    color = 'tipo_cobertura',\n",
    "    orientation = 'h',\n",
    "    color_discrete_map = mapa_cores,\n",
    "    title = 'Distribuição da Cobertura por Fibra por Região (2024)',\n",
    "    labels={'regiao': 'Região', 'Porcentagem': 'Porcentagem de Municípios (%)','tipo_cobertura': 'Cobertura de Fibra'},\n",
    "    text=df_grafico['Porcentagem'].map('{:.2f}%'.format),\n",
    "    hover_data={'Municipios_2024': True, 'Porcentagem': ':.2f'}\n",
    ")\n",
    "fig.update_traces(textposition='inside', textfont_size=12)\n",
    "fig.show()"
   ]
  },
  {
   "cell_type": "markdown",
   "metadata": {},
   "source": [
    "* Quando pegamos o recorte de 2024, vemos que as regiões Sul, Sudeste e Centro-Oeste possuem a melhor cobertura de fibra, com cada região apresentando, os valores de 72.8%,60.13% e 56.32% de municípios na categoria de Cobertura Satisfatória do total de municípios. Dessa forma, vemos mais uma vez à região Sul e Sudeste do país obtendo principalmente os melhores indicadores de cobertura.\n",
    "* Já em Ausência de Cobertura as três piores regiões foram em ordem decrescente, a região Norte, Nordeste e Centro-Oeste, com 37.78%,30.49% e 19.21%, respectivamente. Isso evidencia justamente a disparidade das regiões Norte e Nordeste no quesito cobertura de fibra óptica, com ambas possuindo porcentagens muito maiores que a região do Centro-Oeste.  "
   ]
  },
  {
   "cell_type": "markdown",
   "metadata": {},
   "source": [
    "# **Analise do HHI**"
   ]
  },
  {
   "cell_type": "markdown",
   "metadata": {},
   "source": [
    "## Os maiores índices médios de HHI móvel por cidade"
   ]
  },
  {
   "cell_type": "code",
   "execution_count": 36,
   "metadata": {
    "execution": {
     "iopub.execute_input": "2025-10-04T18:23:44.891010Z",
     "iopub.status.busy": "2025-10-04T18:23:44.890702Z",
     "iopub.status.idle": "2025-10-04T18:23:45.326725Z",
     "shell.execute_reply": "2025-10-04T18:23:45.325768Z",
     "shell.execute_reply.started": "2025-10-04T18:23:44.890989Z"
    },
    "trusted": true
   },
   "outputs": [
    {
     "name": "stdout",
     "output_type": "stream",
     "text": [
      "            nome_municipio  HHI_medio    regiao\n",
      "0               Novo Xingu       0.00       Sul\n",
      "1                Pai Pedro       0.00   Sudeste\n",
      "2               Apicum-Açu       0.25  Nordeste\n",
      "3  Campo Alegre do Fidalgo       0.25  Nordeste\n",
      "4               Campo Azul       0.25   Sudeste\n",
      "5             Olhos-d'Água       0.25   Sudeste\n",
      "6            Santa Cecília       0.25  Nordeste\n",
      "7    Serranópolis de Minas       0.25   Sudeste\n",
      "8      Riacho dos Machados       0.50   Sudeste\n",
      "9                Seritinga       0.50   Sudeste\n"
     ]
    }
   ],
   "source": [
    "# Analisando os menores índices HHI movel\n",
    "query = \"\"\"\n",
    "SELECT\n",
    "    nome_municipio,\n",
    "    AVG(hhi_smp) AS HHI_medio,\n",
    "    regiao\n",
    "FROM\n",
    "    df\n",
    "GROUP BY\n",
    "    nome_municipio,regiao\n",
    "ORDER BY\n",
    "    HHI_medio ASC\n",
    "LIMIT 10;\n",
    "\"\"\"\n",
    "resultado = sqldf(query)\n",
    "print(resultado)    "
   ]
  },
  {
   "cell_type": "markdown",
   "metadata": {},
   "source": [
    "* Entre as cidades com menores índices HHI se destaca o fato de serem cidades pequenas, sendo assim com uma baixa concentração de mercado entre as empresas de telefonia móvel\n",
    "* Também vemos que a maioria das cidades pertencem a região Sudeste e Nordeste do país."
   ]
  },
  {
   "cell_type": "code",
   "execution_count": 37,
   "metadata": {
    "execution": {
     "iopub.execute_input": "2025-10-04T18:23:45.328407Z",
     "iopub.status.busy": "2025-10-04T18:23:45.328092Z",
     "iopub.status.idle": "2025-10-04T18:23:45.748640Z",
     "shell.execute_reply": "2025-10-04T18:23:45.747604Z",
     "shell.execute_reply.started": "2025-10-04T18:23:45.328385Z"
    },
    "trusted": true
   },
   "outputs": [
    {
     "name": "stdout",
     "output_type": "stream",
     "text": [
      "          nome_municipio  HHI_medio        regiao\n",
      "0                Uberaba      93.75       Sudeste\n",
      "1             Uberlândia      92.50       Sudeste\n",
      "2                 Santos      90.00       Sudeste\n",
      "3                  Delta      89.50       Sudeste\n",
      "4                  Bauru      89.25       Sudeste\n",
      "5               Londrina      89.25           Sul\n",
      "6          Buriti Alegre      88.50  Centro-Oeste\n",
      "7                    Poá      88.00       Sudeste\n",
      "8  São José do Rio Preto      88.00       Sudeste\n",
      "9             Alagoinhas      87.75      Nordeste\n"
     ]
    }
   ],
   "source": [
    "# Analisando os maiores índices HHI movel\n",
    "query = \"\"\"\n",
    "SELECT\n",
    "    nome_municipio,\n",
    "    AVG(hhi_smp) AS HHI_medio,\n",
    "    regiao\n",
    "FROM\n",
    "    df\n",
    "GROUP BY\n",
    "    nome_municipio,regiao\n",
    "ORDER BY\n",
    "    HHI_medio DESC\n",
    "LIMIT 10;\n",
    "\"\"\"\n",
    "resultado = sqldf(query)\n",
    "print(resultado) \n"
   ]
  },
  {
   "cell_type": "markdown",
   "metadata": {},
   "source": [
    "* Já para os os maiores índices HHI temos novamente o Sudeste aparecendo como também uma região com cidades altamente pouco competitivas.\n",
    "* Contudo aqui já aparecem cidades maiores como por exemplo Uberlândia, Uberada, Santos, Bauru etc\n",
    "* Essa diferença entre o índice HHI se deve justamente ao tamanho da população, aonde cidades com populações em torno de mil a dez mil podem receber um índice HHI muito menor se comparado com cidades com populações mais significativas, uma vez que o HHI leva em conta o market share, e isso depende indiretamente da população, já que só há market share se houve um consumidor. "
   ]
  },
  {
   "cell_type": "markdown",
   "metadata": {},
   "source": [
    "## Os maiores índices médios de HHI de Fibra por cidade"
   ]
  },
  {
   "cell_type": "code",
   "execution_count": 38,
   "metadata": {
    "execution": {
     "iopub.execute_input": "2025-10-04T18:23:45.750091Z",
     "iopub.status.busy": "2025-10-04T18:23:45.749613Z",
     "iopub.status.idle": "2025-10-04T18:23:46.331775Z",
     "shell.execute_reply": "2025-10-04T18:23:46.330788Z",
     "shell.execute_reply.started": "2025-10-04T18:23:45.750066Z"
    },
    "trusted": true
   },
   "outputs": [
    {
     "name": "stdout",
     "output_type": "stream",
     "text": [
      "         nome_municipio  HHI_medio        regiao\n",
      "0           Vieirópolis       1.00      Nordeste\n",
      "1      Colônia do Piauí       3.00      Nordeste\n",
      "2             Heliodora       3.00       Sudeste\n",
      "3             Primavera       3.50      Nordeste\n",
      "4        Protásio Alves       3.75           Sul\n",
      "5  São Joaquim do Monte       4.00      Nordeste\n",
      "6             São Simão       4.00  Centro-Oeste\n",
      "7          Baía Formosa       5.00      Nordeste\n",
      "8               Ibititá       5.00      Nordeste\n",
      "9                Ituaçu       5.00      Nordeste\n"
     ]
    }
   ],
   "source": [
    "# Analisando os menores índices HHI fibra\n",
    "query = \"\"\"\n",
    "SELECT\n",
    "    nome_municipio,\n",
    "    AVG(hhi_scm) AS HHI_medio,\n",
    "    regiao\n",
    "FROM\n",
    "    df\n",
    "WHERE\n",
    "    fibra IN (50,100)\n",
    "GROUP BY\n",
    "    nome_municipio,regiao\n",
    "ORDER BY\n",
    "    HHI_medio ASC\n",
    "LIMIT 10;\n",
    "\"\"\"\n",
    "resultado = sqldf(query)\n",
    "print(resultado) "
   ]
  },
  {
   "cell_type": "markdown",
   "metadata": {},
   "source": [
    "* As cidades que apresentaram os melhores índices de competitividade na fibra foram novamente aquelas cidades menores com menos de dez mil habitantes.\n",
    "* Se destacam muitas cidades do nordeste obtendo desempenhos de competitividade na fibra melhor do que a região sul"
   ]
  },
  {
   "cell_type": "code",
   "execution_count": 39,
   "metadata": {
    "execution": {
     "iopub.execute_input": "2025-10-04T18:23:46.332720Z",
     "iopub.status.busy": "2025-10-04T18:23:46.332472Z",
     "iopub.status.idle": "2025-10-04T18:23:46.746203Z",
     "shell.execute_reply": "2025-10-04T18:23:46.745250Z",
     "shell.execute_reply.started": "2025-10-04T18:23:46.332701Z"
    },
    "trusted": true
   },
   "outputs": [
    {
     "name": "stdout",
     "output_type": "stream",
     "text": [
      "            nome_municipio  HHI_medio    regiao\n",
      "0         Feira de Santana      97.25  Nordeste\n",
      "1               Esmeraldas      95.25   Sudeste\n",
      "2                Maracanaú      94.50  Nordeste\n",
      "3      São José de Ribamar      94.25  Nordeste\n",
      "4                    Içara      94.00       Sul\n",
      "5                 Criciúma      93.25       Sul\n",
      "6                   Caxias      93.00  Nordeste\n",
      "7             Simões Filho      93.00  Nordeste\n",
      "8  Cabo de Santo Agostinho      92.75  Nordeste\n",
      "9                Arapiraca      92.50  Nordeste\n"
     ]
    }
   ],
   "source": [
    "# Analisando os maiores índices HHI fibra\n",
    "query = \"\"\"\n",
    "SELECT\n",
    "    nome_municipio,\n",
    "    AVG(hhi_scm) AS HHI_medio,\n",
    "    regiao\n",
    "FROM\n",
    "    df\n",
    "WHERE\n",
    "    fibra IN (50,100)\n",
    "GROUP BY\n",
    "    nome_municipio,regiao\n",
    "ORDER BY\n",
    "    HHI_medio DESC\n",
    "LIMIT 10;\n",
    "\"\"\"\n",
    "resultado = sqldf(query)\n",
    "print(resultado) "
   ]
  },
  {
   "cell_type": "markdown",
   "metadata": {},
   "source": [
    "* Nos piores índices do HHI temos cidades em sua maioria do Nordeste, contudo novamente cidades com uma baixa população\n",
    "* **Sendo assim vale ressaltar que o HHI para ser visto município a município talvez não seja um indicador interresante, contudo ele pode se tornar útil agora na proxima seção aonde analisaremos a competitividade em um nível macro analisando os estados e as regiões**"
   ]
  },
  {
   "cell_type": "markdown",
   "metadata": {},
   "source": [
    "## Os índices HHI de Fibra e Móvel por Estado"
   ]
  },
  {
   "cell_type": "code",
   "execution_count": 40,
   "metadata": {
    "execution": {
     "iopub.execute_input": "2025-10-04T18:23:46.747491Z",
     "iopub.status.busy": "2025-10-04T18:23:46.747203Z",
     "iopub.status.idle": "2025-10-04T18:23:47.163174Z",
     "shell.execute_reply": "2025-10-04T18:23:47.162223Z",
     "shell.execute_reply.started": "2025-10-04T18:23:46.747470Z"
    },
    "trusted": true
   },
   "outputs": [
    {
     "name": "stdout",
     "output_type": "stream",
     "text": [
      "            nome_estado        regiao  HHI_Medio\n",
      "0      Distrito Federal  Centro-Oeste  84.000000\n",
      "1        Rio de Janeiro       Sudeste  71.067935\n",
      "2        Santa Catarina           Sul  61.048305\n",
      "3                 Ceará      Nordeste  58.158967\n",
      "4            Pernambuco      Nordeste  55.833784\n",
      "5                Paraná           Sul  55.343985\n",
      "6             São Paulo       Sudeste  54.585271\n",
      "7                  Acre         Norte  53.715909\n",
      "8    Mato Grosso do Sul  Centro-Oeste  51.680380\n",
      "9              Rondônia         Norte  51.221154\n",
      "10                 Pará         Norte  49.977431\n",
      "11              Alagoas      Nordeste  48.622549\n",
      "12                Bahia      Nordeste  46.929856\n",
      "13             Amazonas         Norte  46.709677\n",
      "14         Minas Gerais       Sudeste  46.532532\n",
      "15             Maranhão      Nordeste  46.156682\n",
      "16          Mato Grosso  Centro-Oeste  44.281915\n",
      "17                Goiás  Centro-Oeste  43.705285\n",
      "18                Amapá         Norte  43.531250\n",
      "19    Rio Grande do Sul           Sul  41.142354\n",
      "20              Roraima         Norte  39.450000\n",
      "21  Rio Grande do Norte      Nordeste  38.407186\n",
      "22            Tocantins         Norte  35.046763\n",
      "23              Paraíba      Nordeste  34.221973\n",
      "24              Sergipe      Nordeste  31.533333\n",
      "25                Piauí      Nordeste  29.454241\n",
      "26       Espírito Santo       Sudeste  27.496795\n"
     ]
    }
   ],
   "source": [
    "# Calculando o HHI de telefonia móvel médio dos estados\n",
    "query = \"\"\"\n",
    "SELECT \n",
    "    nome_estado,\n",
    "    regiao,\n",
    "    AVG(hhi_smp) AS HHI_Medio\n",
    "FROM \n",
    "    df\n",
    "GROUP BY \n",
    "    nome_estado,regiao\n",
    "ORDER BY\n",
    "    HHI_Medio DESC;\n",
    "\"\"\"\n",
    "resultado = sqldf(query)\n",
    "print(resultado)\n",
    "    "
   ]
  },
  {
   "cell_type": "markdown",
   "metadata": {},
   "source": [
    "* O Estado com pior HHI é o **Distrito Federal, apresentando uma concentração de mercado extremamente alta com cerca de 84 pontos**\n",
    "* Outro Estado destoando do resto é o de **Santa Catarina com um HHI de 71 pontos** também indicando um mercado muito concentrado\n",
    "* Vale ressaltar que na móvel nenhum dos estados conseguiu um HHI menor que 25, ou seja, abaixo dos 2500 pontos, **isso indica que em todos os estados temos uma concentração grande do mercado**, uma vez que isso é um fato facilmente verificado de maneira empírica, normalmente as pessoas têm telefonias moveis das operadoras Vivo, Claro e TIM o que caracteriza o mercado extremamente concentrado nessas operadoras e uma especie de oligopólio, aonde as operadoras tentam hoje se diferenciar em serviços e em alguns momentos em preços."
   ]
  },
  {
   "cell_type": "code",
   "execution_count": 41,
   "metadata": {
    "execution": {
     "iopub.execute_input": "2025-10-04T18:23:47.164652Z",
     "iopub.status.busy": "2025-10-04T18:23:47.164306Z",
     "iopub.status.idle": "2025-10-04T18:23:47.572140Z",
     "shell.execute_reply": "2025-10-04T18:23:47.570965Z",
     "shell.execute_reply.started": "2025-10-04T18:23:47.164624Z"
    },
    "trusted": true
   },
   "outputs": [
    {
     "name": "stdout",
     "output_type": "stream",
     "text": [
      "            nome_estado        regiao  HHI_Medio\n",
      "0      Distrito Federal  Centro-Oeste  82.250000\n",
      "1               Roraima         Norte  68.633333\n",
      "2        Rio de Janeiro       Sudeste  64.676630\n",
      "3    Mato Grosso do Sul  Centro-Oeste  63.949367\n",
      "4                Paraná           Sul  62.107143\n",
      "5        Espírito Santo       Sudeste  61.400641\n",
      "6           Mato Grosso  Centro-Oeste  60.101064\n",
      "7             São Paulo       Sudeste  59.517054\n",
      "8               Alagoas      Nordeste  59.450980\n",
      "9                  Pará         Norte  59.361111\n",
      "10             Amazonas         Norte  58.330645\n",
      "11       Santa Catarina           Sul  57.783051\n",
      "12                Goiás  Centro-Oeste  57.617886\n",
      "13            Tocantins         Norte  57.498201\n",
      "14             Maranhão      Nordeste  56.870968\n",
      "15    Rio Grande do Sul           Sul  56.664487\n",
      "16                 Acre         Norte  56.147727\n",
      "17                Ceará      Nordeste  55.660326\n",
      "18             Rondônia         Norte  55.197115\n",
      "19         Minas Gerais       Sudeste  54.186987\n",
      "20                Bahia      Nordeste  52.949640\n",
      "21           Pernambuco      Nordeste  52.635135\n",
      "22                Piauí      Nordeste  51.803571\n",
      "23                Amapá         Norte  48.718750\n",
      "24              Sergipe      Nordeste  48.406667\n",
      "25              Paraíba      Nordeste  46.914798\n",
      "26  Rio Grande do Norte      Nordeste  45.532934\n"
     ]
    }
   ],
   "source": [
    "# Calculando o HHI de telefonia fixa médio dos estados\n",
    "query = \"\"\"\n",
    "SELECT \n",
    "    nome_estado,\n",
    "    regiao,\n",
    "    AVG(hhi_scm) AS HHI_Medio\n",
    "FROM \n",
    "    df\n",
    "GROUP BY \n",
    "    nome_estado,regiao\n",
    "ORDER BY\n",
    "    HHI_Medio DESC;\n",
    "\"\"\"\n",
    "resultado = sqldf(query)\n",
    "print(resultado)"
   ]
  },
  {
   "cell_type": "markdown",
   "metadata": {},
   "source": [
    "* Novamente temos no índice HHI de fibra o Distrito Federal como o estado mais concentrado com 82 pontos.\n",
    "* Vemos também que a variação do HHI se da entre 68 a 45 excluindo-se o Distrito Federal, isso evidencia justamente uma maior concentração de mercado no que tange a telefonia fixa.\n",
    "* Isso pode se dar devido justamente que no caso da fibra é comum algumas cidades possuírem muitas empresas atuando na cidade, contudo nem todas possuem a mesma área de cobertura. Um exemplo é em Santa Maria–RS aonde a Oi detêm uma cobertura completa da área de cobertura de fibra da cidade, e outras operadoras como a Vivo e a Claro detêm coberturas parciais, bem como outros provedores menores que concentram em bairros específicos. Dessa forma apesar de terem mais empresas se comparado com a móvel nem todas elas competem uma determinada área da cidade, além disso, nem todos os apartamentos são adequados para receber todas as operadoras de banda larga, por exemplo, a área maior da Oi em Santa Maria–RS se traduz em um market share de aproximadamente 18%, sendo a líder na cidade.\n",
    "* Dessa forma vemos que a concentração de mercado também no que tange Banda Larga fixa é extremamente alta para todos os estados brasileiros, caracterizando um oligopólio."
   ]
  },
  {
   "cell_type": "markdown",
   "metadata": {},
   "source": [
    "## Os índices HHI de Fibra e Móvel por Região"
   ]
  },
  {
   "cell_type": "code",
   "execution_count": 42,
   "metadata": {
    "execution": {
     "iopub.execute_input": "2025-10-04T18:23:47.573482Z",
     "iopub.status.busy": "2025-10-04T18:23:47.573140Z",
     "iopub.status.idle": "2025-10-04T18:23:48.123222Z",
     "shell.execute_reply": "2025-10-04T18:23:48.121984Z",
     "shell.execute_reply.started": "2025-10-04T18:23:47.573458Z"
    },
    "trusted": true
   },
   "outputs": [
    {
     "name": "stdout",
     "output_type": "stream",
     "text": [
      "         regiao  HHI_Medio\n",
      "0           Sul  50.830605\n",
      "1       Sudeste  50.109562\n",
      "2  Centro-Oeste  45.314775\n",
      "3         Norte  44.661667\n",
      "4      Nordeste  43.803790\n",
      "\n",
      "---------------------------\n",
      "Média Geral:46.94\n",
      "Desvio Padrão:3.27302669709794\n"
     ]
    }
   ],
   "source": [
    "# Calculando o HHI de telefonia móvel médio das regiões\n",
    "query = \"\"\"\n",
    "SELECT \n",
    "    regiao,\n",
    "    AVG(hhi_smp) AS HHI_Medio\n",
    "FROM \n",
    "    df\n",
    "GROUP BY \n",
    "    regiao\n",
    "ORDER BY\n",
    "    HHI_Medio DESC;\n",
    "\"\"\"\n",
    "resultado = sqldf(query)\n",
    "print(resultado)\n",
    "media_geral = resultado['HHI_Medio'].mean().round(2)\n",
    "desv_pad = resultado['HHI_Medio'].std()\n",
    "print('\\n---------------------------')\n",
    "print(f\"Média Geral:{media_geral}\")\n",
    "print(f\"Desvio Padrão:{desv_pad}\")"
   ]
  },
  {
   "cell_type": "markdown",
   "metadata": {},
   "source": [
    "* As regiões do Sul e Sudeste são as que mais tem concentração de poucas empresas com grandes participações no mercado.\n",
    "* Contudo, vemos que todas as regiões não ficam muito longe da média, com um desvio padrão de cerca de 3.27 o que indica que **todas as regiões possuem altas concentrações do mercado com poucas empresas**, o que mais uma vez é o esperado"
   ]
  },
  {
   "cell_type": "code",
   "execution_count": 43,
   "metadata": {
    "execution": {
     "iopub.execute_input": "2025-10-04T18:23:48.133061Z",
     "iopub.status.busy": "2025-10-04T18:23:48.132518Z",
     "iopub.status.idle": "2025-10-04T18:23:48.545062Z",
     "shell.execute_reply": "2025-10-04T18:23:48.544135Z",
     "shell.execute_reply.started": "2025-10-04T18:23:48.133031Z"
    },
    "trusted": true
   },
   "outputs": [
    {
     "name": "stdout",
     "output_type": "stream",
     "text": [
      "         regiao  HHI_Medio\n",
      "0  Centro-Oeste  59.491435\n",
      "1           Sul  58.764903\n",
      "2         Norte  57.936111\n",
      "3       Sudeste  57.163969\n",
      "4      Nordeste  52.265608\n",
      "\n",
      "---------------------------\n",
      "Média Geral:57.12\n",
      "Desvio Padrão:2.8531740727848836\n"
     ]
    }
   ],
   "source": [
    "# Calculando o HHI de telefonia fixa médio das regiões\n",
    "query = \"\"\"\n",
    "SELECT \n",
    "    regiao,\n",
    "    AVG(hhi_scm) AS HHI_Medio\n",
    "FROM \n",
    "    df\n",
    "GROUP BY \n",
    "    regiao\n",
    "ORDER BY\n",
    "    HHI_Medio DESC;\n",
    "\"\"\"\n",
    "resultado = sqldf(query)\n",
    "print(resultado)\n",
    "media_geral = resultado['HHI_Medio'].mean().round(2)\n",
    "desv_pad = resultado['HHI_Medio'].std()\n",
    "print('\\n---------------------------')\n",
    "print(f\"Média Geral:{media_geral}\")\n",
    "print(f\"Desvio Padrão:{desv_pad}\")"
   ]
  },
  {
   "cell_type": "markdown",
   "metadata": {},
   "source": [
    "* O índice HHI na fixa tem como todas as regiões estando muitos próximos uma das outras em valores médios para o período analisado, com a média geral de 57.12, evidenciando a concentração alta também no mercado de telefonia fixa, bem como um desvio padrão baixo de 2.85\n",
    "* A região que tem um valor um pouco menor se comparado com as outras regiões foi a região do Nordeste com cerca de 52.26 pontos no índice, sendo ela a região que mais se distancia da média, mas ainda, sim, denota uma concentração de mercado alta."
   ]
  },
  {
   "cell_type": "markdown",
   "metadata": {},
   "source": [
    "## Os índices HHI de Fibra e Móvel nas capitais"
   ]
  },
  {
   "cell_type": "code",
   "execution_count": 44,
   "metadata": {
    "execution": {
     "iopub.execute_input": "2025-10-04T18:23:48.546312Z",
     "iopub.status.busy": "2025-10-04T18:23:48.546045Z",
     "iopub.status.idle": "2025-10-04T18:23:48.942317Z",
     "shell.execute_reply": "2025-10-04T18:23:48.940654Z",
     "shell.execute_reply.started": "2025-10-04T18:23:48.546292Z"
    },
    "trusted": true
   },
   "outputs": [
    {
     "name": "stdout",
     "output_type": "stream",
     "text": [
      "    nome_municipio        regiao  HHI_Medio\n",
      "0    Florianópolis           Sul      87.75\n",
      "1   Belo Horizonte       Sudeste      86.75\n",
      "2   Rio de Janeiro       Sudeste      85.50\n",
      "3        São Paulo       Sudeste      85.25\n",
      "4      João Pessoa      Nordeste      84.75\n",
      "5         Brasília  Centro-Oeste      84.00\n",
      "6           Maceió      Nordeste      83.75\n",
      "7          Goiânia  Centro-Oeste      83.75\n",
      "8         Curitiba           Sul      83.75\n",
      "9           Recife      Nordeste      83.50\n",
      "10           Natal      Nordeste      83.50\n",
      "11           Belém         Norte      83.50\n",
      "12        Teresina      Nordeste      83.25\n",
      "13       Fortaleza      Nordeste      83.25\n",
      "14          Macapá         Norte      82.75\n",
      "15        Salvador      Nordeste      82.25\n",
      "16        São Luís      Nordeste      82.00\n",
      "17    Porto Alegre           Sul      82.00\n",
      "18          Cuiabá  Centro-Oeste      80.50\n",
      "19          Palmas         Norte      77.00\n",
      "20      Rio Branco         Norte      76.25\n",
      "21          Manaus         Norte      76.25\n",
      "22    Campo Grande  Centro-Oeste      76.25\n",
      "23         Aracaju      Nordeste      75.50\n",
      "24       Boa Vista         Norte      72.25\n",
      "25     Porto Velho         Norte      70.00\n",
      "26         Vitória       Sudeste      68.00\n",
      "\n",
      "---------------------------\n",
      "Média Geral:80.86\n",
      "Desvio Padrão:5.108125753928609\n"
     ]
    }
   ],
   "source": [
    "# Calculando o índice HHI de telefonia movel para as capitais\n",
    "query = \"\"\"\n",
    "SELECT\n",
    "    nome_municipio,\n",
    "    regiao,\n",
    "    AVG(hhi_smp) AS HHI_Medio\n",
    "FROM\n",
    "    df\n",
    "WHERE\n",
    "    capital_uf = 1\n",
    "GROUP BY\n",
    "    nome_municipio\n",
    "ORDER BY\n",
    "    HHI_Medio DESC;\n",
    "\"\"\"\n",
    "resultado = sqldf(query)\n",
    "print(resultado)\n",
    "media_geral = resultado['HHI_Medio'].mean().round(2)\n",
    "desv_pad = resultado['HHI_Medio'].std()\n",
    "print('\\n---------------------------')\n",
    "print(f\"Média Geral:{media_geral}\")\n",
    "print(f\"Desvio Padrão:{desv_pad}\")"
   ]
  },
  {
   "cell_type": "markdown",
   "metadata": {},
   "source": [
    "* Nas capitais temos uma média geral do HHI de móvel maior que a média das regiões, evidenciando que o mercado de móvel nas capitais é ainda mais concentrado em poucas empresas\n",
    "* Isso se deve muito provavelmente que cada uma das três operadoras devem liderar com uma margem maior que as outras em cada respectiva cidade, fazendo com que uma operadora consiga um market share alto se comparado com as suas outras concorrentes."
   ]
  },
  {
   "cell_type": "code",
   "execution_count": 45,
   "metadata": {
    "execution": {
     "iopub.execute_input": "2025-10-04T18:23:48.943633Z",
     "iopub.status.busy": "2025-10-04T18:23:48.943353Z",
     "iopub.status.idle": "2025-10-04T18:23:49.479287Z",
     "shell.execute_reply": "2025-10-04T18:23:49.478299Z",
     "shell.execute_reply.started": "2025-10-04T18:23:48.943612Z"
    },
    "trusted": true
   },
   "outputs": [
    {
     "name": "stdout",
     "output_type": "stream",
     "text": [
      "    nome_municipio        regiao  HHI_Medio\n",
      "0        Fortaleza      Nordeste      92.25\n",
      "1         Teresina      Nordeste      90.25\n",
      "2          Aracaju      Nordeste      90.25\n",
      "3          Goiânia  Centro-Oeste      88.00\n",
      "4         Salvador      Nordeste      87.75\n",
      "5     Campo Grande  Centro-Oeste      85.75\n",
      "6           Palmas         Norte      84.75\n",
      "7           Recife      Nordeste      83.50\n",
      "8         Curitiba           Sul      83.00\n",
      "9         Brasília  Centro-Oeste      82.25\n",
      "10          Cuiabá  Centro-Oeste      81.75\n",
      "11          Manaus         Norte      81.25\n",
      "12        São Luís      Nordeste      77.75\n",
      "13           Natal      Nordeste      77.50\n",
      "14         Vitória       Sudeste      77.25\n",
      "15           Belém         Norte      76.50\n",
      "16  Belo Horizonte       Sudeste      75.75\n",
      "17     João Pessoa      Nordeste      75.50\n",
      "18   Florianópolis           Sul      75.25\n",
      "19          Maceió      Nordeste      75.00\n",
      "20    Porto Alegre           Sul      72.25\n",
      "21       São Paulo       Sudeste      71.50\n",
      "22  Rio de Janeiro       Sudeste      70.00\n",
      "23     Porto Velho         Norte      67.00\n",
      "24      Rio Branco         Norte      66.00\n",
      "25          Macapá         Norte      65.25\n",
      "26       Boa Vista         Norte      44.00\n",
      "\n",
      "---------------------------\n",
      "Média Geral:77.68\n",
      "Desvio Padrão:10.101126844702206\n"
     ]
    }
   ],
   "source": [
    "# Calculando o índice HHI de telefonia fixa para as capitais\n",
    "query = \"\"\"\n",
    "SELECT\n",
    "    nome_municipio,\n",
    "    regiao,\n",
    "    AVG(hhi_scm) AS HHI_Medio\n",
    "FROM\n",
    "    df\n",
    "WHERE\n",
    "    capital_uf = 1\n",
    "GROUP BY\n",
    "    nome_municipio\n",
    "ORDER BY\n",
    "    HHI_Medio DESC;\n",
    "\"\"\"\n",
    "resultado = sqldf(query)\n",
    "print(resultado)\n",
    "media_geral = resultado['HHI_Medio'].mean().round(2)\n",
    "desv_pad = resultado['HHI_Medio'].std()\n",
    "print('\\n---------------------------')\n",
    "print(f\"Média Geral:{media_geral}\")\n",
    "print(f\"Desvio Padrão:{desv_pad}\")"
   ]
  },
  {
   "cell_type": "markdown",
   "metadata": {},
   "source": [
    "* O cenário no que tange o HHI de telefonia fixa também não é diferente, com todas as capitais apresentando um índice HHI alto, superior aos 0,25 ou 25 pontos que denotam um mercado concentrado."
   ]
  },
  {
   "cell_type": "markdown",
   "metadata": {},
   "source": [
    "# **As Variáveis que afetam o IBC**"
   ]
  },
  {
   "cell_type": "markdown",
   "metadata": {},
   "source": [
    "Dados das tabelas:\n",
    "* PIB dos municípios Data 2021, Disponível em: https://www.ibge.gov.br/estatisticas/economicas/contas-nacionais/9088-produto-interno-bruto-dos-municipios.html?=&t=resultados\n",
    "* Area territorial dos municípios data 2024, Disponível em: https://www.ibge.gov.br/geociencias/organizacao-do-territorio/estrutura-territorial/15761-areas-dos-municipios.html?=&t=downloads\n",
    "* Área por recorte territorial data 2021, Disponível em: https://www.ibge.gov.br/geociencias/organizacao-do-territorio/tipologias-do-territorio/15789-areas-urbanizadas.html?=&t=downloads\n",
    "* Indice de Investimento IFGF data 2021, Disponivel em: https://firjan.com.br/ifgf/analises-e-rankings/"
   ]
  },
  {
   "cell_type": "code",
   "execution_count": null,
   "metadata": {
    "execution": {
     "iopub.execute_input": "2025-10-04T18:23:49.480551Z",
     "iopub.status.busy": "2025-10-04T18:23:49.480244Z",
     "iopub.status.idle": "2025-10-04T18:23:50.408525Z",
     "shell.execute_reply": "2025-10-04T18:23:50.407250Z",
     "shell.execute_reply.started": "2025-10-04T18:23:49.480528Z"
    },
    "trusted": true
   },
   "outputs": [],
   "source": [
    "#Carregando o df da população\n",
    "Populacao = pd.read_excel('/kaggle/input/populacao1/tabela10211.xlsx')\n",
    "Populacao.rename(columns={'Cód.': 'codigo','Município':'Municipio'},inplace=True)\n",
    "Dados_Mun = pd.read_excel('/kaggle/input/dados-municipios1/Municipios.xlsx')"
   ]
  },
  {
   "cell_type": "code",
   "execution_count": null,
   "metadata": {
    "execution": {
     "iopub.execute_input": "2025-10-04T18:23:50.410165Z",
     "iopub.status.busy": "2025-10-04T18:23:50.409774Z",
     "iopub.status.idle": "2025-10-04T18:23:51.189111Z",
     "shell.execute_reply": "2025-10-04T18:23:51.188089Z",
     "shell.execute_reply.started": "2025-10-04T18:23:50.410140Z"
    },
    "trusted": true
   },
   "outputs": [
    {
     "name": "stdout",
     "output_type": "stream",
     "text": [
      "              nome_municipio   ano    ibc  cobertura_pop_4g5g  id_municipio  \\\n",
      "0        Santa Luzia D'Oeste  2024  49.92             62.9831       1100296   \n",
      "1       Marechal Thaumaturgo  2024  16.28             30.3470       1200351   \n",
      "2                 Caapiranga  2024  29.17             50.9133       1300839   \n",
      "3                      Juruá  2024  20.06             53.3310       1302207   \n",
      "4                      Baião  2024  34.08             52.8200       1501204   \n",
      "...                      ...   ...    ...                 ...           ...   \n",
      "22275     Água Fria de Goiás  2021  25.93             49.7511       5200175   \n",
      "22276           Brazabrantes  2021  51.96             75.9803       5203609   \n",
      "22277                Itapaci  2021  58.97             92.1169       5210901   \n",
      "22278              Matrinchã  2021  22.04             63.3863       5212956   \n",
      "22279  Santa Tereza de Goiás  2021  53.46             86.2609       5219605   \n",
      "\n",
      "       populacao         PIB  Area_municipio  Areas_Urbanizadas_Densas  \\\n",
      "0           7419  213556.003        1197.796                    2.1918   \n",
      "1          17093  256864.842        8185.635                    1.2567   \n",
      "2          13469  177894.147        9455.539                    1.5203   \n",
      "3          10742  138073.554       19438.805                    1.2561   \n",
      "4          51641  562146.663        3760.000                    4.6586   \n",
      "...          ...         ...             ...                       ...   \n",
      "22275       4954  533232.876        2023.636                    1.4083   \n",
      "22276       3992   93833.426         125.326                    1.2684   \n",
      "22277      21087  547546.319         952.998                    5.9626   \n",
      "22278       4042  170651.585        1150.503                    1.3249   \n",
      "22279       3293   87562.719         789.544                    1.5948   \n",
      "\n",
      "       Areas_Urbanizadas_pouco_densas  Total_de_areas_urbanizadas  \\\n",
      "0                              0.0770                      2.2688   \n",
      "1                              3.1219                      4.3786   \n",
      "2                              0.8200                      2.3403   \n",
      "3                              0.7758                      2.0319   \n",
      "4                              3.6162                      8.2748   \n",
      "...                               ...                         ...   \n",
      "22275                          0.1339                      1.5422   \n",
      "22276                          0.1275                      1.3959   \n",
      "22277                          0.0807                      6.0433   \n",
      "22278                          0.2138                      1.5387   \n",
      "22279                          0.0000                      1.5948   \n",
      "\n",
      "                IFGF_Inv  \n",
      "0      0.211869686343903  \n",
      "1      0.603527386775293  \n",
      "2      0.639902390318558  \n",
      "3      0.961867596831429  \n",
      "4                     nd  \n",
      "...                  ...  \n",
      "22275  0.466773936959564  \n",
      "22276  0.395563107138561  \n",
      "22277  0.614190161355302  \n",
      "22278                 nd  \n",
      "22279   0.36370648476677  \n",
      "\n",
      "[22280 rows x 12 columns]\n"
     ]
    }
   ],
   "source": [
    "# Criando uma consulta com os dados necessarios para a criação da regressão\n",
    "query = \"\"\"\n",
    "SELECT\n",
    "    d.nome_municipio,\n",
    "    d.ano,\n",
    "    d.ibc,\n",
    "    d.cobertura_pop_4g5g,\n",
    "    d.id_municipio,\n",
    "    p.Total AS populacao,\n",
    "    i.PIB,\n",
    "    i.Area_municipio,\n",
    "    i.Areas_Urbanizadas_Densas,\n",
    "    i.Areas_Urbanizadas_pouco_densas,\n",
    "    i.Total_de_areas_urbanizadas,\n",
    "    i.IFGF_Inv\n",
    "FROM\n",
    "    df AS d\n",
    "LEFT JOIN \n",
    "    Populacao AS p \n",
    "ON \n",
    "    d.id_municipio = p.codigo \n",
    "LEFT JOIN\n",
    "    Dados_Mun AS i\n",
    "ON d.id_municipio = i.Codigo\n",
    "\"\"\"\n",
    "df_r = sqldf(query)\n",
    "print(df_r)"
   ]
  },
  {
   "cell_type": "code",
   "execution_count": null,
   "metadata": {
    "execution": {
     "iopub.execute_input": "2025-10-04T18:23:51.190529Z",
     "iopub.status.busy": "2025-10-04T18:23:51.190165Z",
     "iopub.status.idle": "2025-10-04T18:23:51.546559Z",
     "shell.execute_reply": "2025-10-04T18:23:51.545383Z",
     "shell.execute_reply.started": "2025-10-04T18:23:51.190501Z"
    },
    "trusted": true
   },
   "outputs": [],
   "source": [
    "query = \"\"\"\n",
    "SELECT\n",
    "    ibc,\n",
    "    populacao,\n",
    "    cobertura_pop_4g5g,\n",
    "    PIB,\n",
    "    Area_municipio,\n",
    "    Areas_Urbanizadas_Densas,\n",
    "    Areas_Urbanizadas_pouco_densas,\n",
    "    Total_de_areas_urbanizadas,\n",
    "    IFGF_Inv\n",
    "FROM\n",
    "    df_r\n",
    "WHERE\n",
    "    ano = 2021\n",
    "\"\"\"\n",
    "df_r1 = sqldf(query)"
   ]
  },
  {
   "cell_type": "code",
   "execution_count": null,
   "metadata": {
    "execution": {
     "iopub.execute_input": "2025-10-04T18:23:51.547948Z",
     "iopub.status.busy": "2025-10-04T18:23:51.547612Z",
     "iopub.status.idle": "2025-10-04T18:23:51.552574Z",
     "shell.execute_reply": "2025-10-04T18:23:51.551499Z",
     "shell.execute_reply.started": "2025-10-04T18:23:51.547907Z"
    },
    "trusted": true
   },
   "outputs": [],
   "source": [
    "import statsmodels.api as sm\n",
    "import statsmodels.formula.api as smf"
   ]
  },
  {
   "cell_type": "markdown",
   "metadata": {},
   "source": [
    "## Primeira Regressão\n",
    "* Em uma primeira análise vamos ver se o impacto do tamanho da população afeta o IBC, uma vez que é esperado que as operadoras de telecomunicação tenham uma preferência em oferecer seus produtos primeiro para cidades com maiores populações, uma vez que ela dispõe nessas cidades existem mais consumidores.\n",
    "* Além disso também veremos se o PIB do município afeta também o IBC, uma vez que é interesante para as operadoras levarem serviços mais modernos a cidades mais prosperar economicamente."
   ]
  },
  {
   "cell_type": "code",
   "execution_count": null,
   "metadata": {
    "execution": {
     "iopub.execute_input": "2025-10-04T18:23:51.554244Z",
     "iopub.status.busy": "2025-10-04T18:23:51.553715Z",
     "iopub.status.idle": "2025-10-04T18:23:51.593847Z",
     "shell.execute_reply": "2025-10-04T18:23:51.592768Z",
     "shell.execute_reply.started": "2025-10-04T18:23:51.554211Z"
    },
    "trusted": true
   },
   "outputs": [
    {
     "name": "stdout",
     "output_type": "stream",
     "text": [
      "                            OLS Regression Results                            \n",
      "==============================================================================\n",
      "Dep. Variable:                    ibc   R-squared:                       0.028\n",
      "Model:                            OLS   Adj. R-squared:                  0.028\n",
      "Method:                 Least Squares   F-statistic:                     80.65\n",
      "Date:                Sat, 04 Oct 2025   Prob (F-statistic):           2.98e-35\n",
      "Time:                        18:23:51   Log-Likelihood:                -21912.\n",
      "No. Observations:                5570   AIC:                         4.383e+04\n",
      "Df Residuals:                    5567   BIC:                         4.385e+04\n",
      "Df Model:                           2                                         \n",
      "Covariance Type:            nonrobust                                         \n",
      "==============================================================================\n",
      "                 coef    std err          t      P>|t|      [0.025      0.975]\n",
      "------------------------------------------------------------------------------\n",
      "Intercept     50.0690      0.171    293.051      0.000      49.734      50.404\n",
      "populacao   2.094e-05   2.76e-06      7.585      0.000    1.55e-05    2.64e-05\n",
      "PIB        -1.778e-07   4.14e-08     -4.295      0.000   -2.59e-07   -9.66e-08\n",
      "==============================================================================\n",
      "Omnibus:                      598.385   Durbin-Watson:                   1.450\n",
      "Prob(Omnibus):                  0.000   Jarque-Bera (JB):              804.411\n",
      "Skew:                          -0.907   Prob(JB):                    2.11e-175\n",
      "Kurtosis:                       3.418   Cond. No.                     1.43e+07\n",
      "==============================================================================\n",
      "\n",
      "Notes:\n",
      "[1] Standard Errors assume that the covariance matrix of the errors is correctly specified.\n",
      "[2] The condition number is large, 1.43e+07. This might indicate that there are\n",
      "strong multicollinearity or other numerical problems.\n"
     ]
    }
   ],
   "source": [
    "#Primeira regressão com população e PIB por municipio\n",
    "resultado = smf.ols('ibc ~ populacao + PIB',data = df_r1).fit()\n",
    "print(resultado.summary())"
   ]
  },
  {
   "cell_type": "markdown",
   "metadata": {},
   "source": [
    "## Resultado Primeira Regressão\n",
    "* Notamos que as variáveis população e PIB são muito significativas para explicar o IBC, obtendo p valores próximos a 0.000, dessa forma obtendo significância estatística\n",
    "* Contudo o modelo obteve um R-Quadrado baixo, o que indica que o nosso modelo não cobre variáveis importantes para o modelo\n",
    "* Além disso, verifica-se que o modelo tem a presença de multicolinearidade com o condition number apresentando um valor de 1.43*10^-7\n",
    "* O próximo passo será transformar o PIB em PIB per capita e substituir a população pera densidade populacional da cidade para vermos os efeitos dessa mudança, bem como, pois podemos imaginar que seja mais interresante para uma empresa levar um serviço de fibra, por exemplo, para cidades mais adensadas do que cidades menos adensadas, além disso também para municípios com um PIB per capita maior, uma vez que isso pode nos indicar que as pessoas do município podem ter mais poder de comprar para adquirir tais serviços das companhias, sejam eles a internet fibra como produto principal, mas também outros produtos como serviços digitais e celulares     "
   ]
  },
  {
   "cell_type": "code",
   "execution_count": null,
   "metadata": {
    "execution": {
     "iopub.execute_input": "2025-10-04T18:23:51.595618Z",
     "iopub.status.busy": "2025-10-04T18:23:51.595246Z",
     "iopub.status.idle": "2025-10-04T18:23:51.603172Z",
     "shell.execute_reply": "2025-10-04T18:23:51.601665Z",
     "shell.execute_reply.started": "2025-10-04T18:23:51.595589Z"
    },
    "trusted": true
   },
   "outputs": [],
   "source": [
    "#Criando coluna PIB per Capita e Densidade Populacional por municipio\n",
    "df_r1['PIB_per_Capita'] = df_r1['PIB'] / df_r1['populacao']\n",
    "df_r1['Densidade_Populacional'] = df_r1['populacao'] / df_r1['Area_municipio']"
   ]
  },
  {
   "cell_type": "markdown",
   "metadata": {},
   "source": [
    "## Segunda Regressão"
   ]
  },
  {
   "cell_type": "code",
   "execution_count": null,
   "metadata": {
    "execution": {
     "iopub.execute_input": "2025-10-04T18:23:51.604935Z",
     "iopub.status.busy": "2025-10-04T18:23:51.604537Z",
     "iopub.status.idle": "2025-10-04T18:23:51.649420Z",
     "shell.execute_reply": "2025-10-04T18:23:51.648264Z",
     "shell.execute_reply.started": "2025-10-04T18:23:51.604908Z"
    },
    "trusted": true
   },
   "outputs": [
    {
     "name": "stdout",
     "output_type": "stream",
     "text": [
      "                            OLS Regression Results                            \n",
      "==============================================================================\n",
      "Dep. Variable:                    ibc   R-squared:                       0.088\n",
      "Model:                            OLS   Adj. R-squared:                  0.087\n",
      "Method:                 Least Squares   F-statistic:                     267.4\n",
      "Date:                Sat, 04 Oct 2025   Prob (F-statistic):          1.25e-111\n",
      "Time:                        18:23:51   Log-Likelihood:                -21736.\n",
      "No. Observations:                5570   AIC:                         4.348e+04\n",
      "Df Residuals:                    5567   BIC:                         4.350e+04\n",
      "Df Model:                           2                                         \n",
      "Covariance Type:            nonrobust                                         \n",
      "==========================================================================================\n",
      "                             coef    std err          t      P>|t|      [0.025      0.975]\n",
      "------------------------------------------------------------------------------------------\n",
      "Intercept                 47.6772      0.214    222.372      0.000      47.257      48.098\n",
      "Densidade_Populacional     0.0040      0.000     14.660      0.000       0.003       0.004\n",
      "PIB_per_Capita             0.0699      0.004     17.204      0.000       0.062       0.078\n",
      "==============================================================================\n",
      "Omnibus:                      626.653   Durbin-Watson:                   1.561\n",
      "Prob(Omnibus):                  0.000   Jarque-Bera (JB):              854.791\n",
      "Skew:                          -0.943   Prob(JB):                    2.42e-186\n",
      "Kurtosis:                       3.352   Cond. No.                         809.\n",
      "==============================================================================\n",
      "\n",
      "Notes:\n",
      "[1] Standard Errors assume that the covariance matrix of the errors is correctly specified.\n"
     ]
    }
   ],
   "source": [
    "# Regressão com Densidade Populacional e PIB per Capita\n",
    "resultado = smf.ols('ibc ~ Densidade_Populacional + PIB_per_Capita',data = df_r1).fit()\n",
    "print(resultado.summary())"
   ]
  },
  {
   "cell_type": "markdown",
   "metadata": {},
   "source": [
    "## Resultado Segunda Regressão\n",
    "* Ao utilizarmos o PIB per capita e a Densidade de populacional, vemos que ambas as estimativas do parâmetro são significativas a menos de 1% de significância\n",
    "* Além disso, vemos que o R-quadrado da regressão aumentou de 2.8% para 8.8%, bem como a regressão em si é significativa a 1% de significância\n",
    "* Também vemos que a multicolinearidade foi corrigida, contudo, cabe fazermos mais testes para atestarmos o mesmo\n",
    "* No quesito autocorrelação vemos que essa regressão também não possui grandes problemas, uma vez que o teste de Durbin-Watson atestou de 1.561 o que está dentro do intervalo que atesta que não possuímos autocorrelação nos resíduos.\n",
    "* Contudo agora faremos uma última regressão com as duas variáveis explicativas anteriores, bem como adicionar mais duas variáveis explicativas"
   ]
  },
  {
   "cell_type": "code",
   "execution_count": null,
   "metadata": {
    "execution": {
     "iopub.execute_input": "2025-10-04T18:23:51.650694Z",
     "iopub.status.busy": "2025-10-04T18:23:51.650431Z",
     "iopub.status.idle": "2025-10-04T18:23:51.665665Z",
     "shell.execute_reply": "2025-10-04T18:23:51.664350Z",
     "shell.execute_reply.started": "2025-10-04T18:23:51.650674Z"
    },
    "trusted": true
   },
   "outputs": [],
   "source": [
    "#Limpando alguns dados faltantes relacionados ao IFGF\n",
    "import numpy as np\n",
    "df_r1.replace('nd', np.nan, inplace = True)\n",
    "df_r1.replace('#N/D', np.nan, inplace = True)\n",
    "df_r1.dropna(subset=['IFGF_Inv'],inplace = True)"
   ]
  },
  {
   "cell_type": "code",
   "execution_count": null,
   "metadata": {
    "execution": {
     "iopub.execute_input": "2025-10-04T18:23:51.667534Z",
     "iopub.status.busy": "2025-10-04T18:23:51.667149Z",
     "iopub.status.idle": "2025-10-04T18:23:51.689445Z",
     "shell.execute_reply": "2025-10-04T18:23:51.688195Z",
     "shell.execute_reply.started": "2025-10-04T18:23:51.667492Z"
    },
    "trusted": true
   },
   "outputs": [
    {
     "name": "stdout",
     "output_type": "stream",
     "text": [
      "float64\n"
     ]
    }
   ],
   "source": [
    "#Removendo dados NaN e faltantes do IFGF\n",
    "df_r1['IFGF_Inv'] = pd.to_numeric(df_r1['IFGF_Inv'], errors='coerce')\n",
    "print(df_r1['IFGF_Inv'].dtype)"
   ]
  },
  {
   "cell_type": "markdown",
   "metadata": {},
   "source": [
    "* **Por algumas cidades não possuírem um valor do IFGF, foi escolhido remover as mesmas, uma vez que essas cidades apresentam valor N/A**"
   ]
  },
  {
   "cell_type": "markdown",
   "metadata": {},
   "source": [
    "## Terceira Regressão\n",
    "* Foi feita a regressão com as seguintes variáveis: Densidade Populacional, PIB Per Capita, Total de Areas urbanizadas e o índice IFGF Investimento dos municípios\n",
    "* É esperado que todos os coeficientes das estimativas dos parâmetros apresentem uma relação positiva com o IBC"
   ]
  },
  {
   "cell_type": "code",
   "execution_count": null,
   "metadata": {
    "execution": {
     "iopub.execute_input": "2025-10-04T18:23:51.690549Z",
     "iopub.status.busy": "2025-10-04T18:23:51.690232Z",
     "iopub.status.idle": "2025-10-04T18:23:51.740553Z",
     "shell.execute_reply": "2025-10-04T18:23:51.739664Z",
     "shell.execute_reply.started": "2025-10-04T18:23:51.690527Z"
    },
    "trusted": true
   },
   "outputs": [
    {
     "name": "stdout",
     "output_type": "stream",
     "text": [
      "                            OLS Regression Results                            \n",
      "==============================================================================\n",
      "Dep. Variable:                    ibc   R-squared:                       0.130\n",
      "Model:                            OLS   Adj. R-squared:                  0.129\n",
      "Method:                 Least Squares   F-statistic:                     202.3\n",
      "Date:                Sat, 04 Oct 2025   Prob (F-statistic):          6.16e-162\n",
      "Time:                        18:23:51   Log-Likelihood:                -21035.\n",
      "No. Observations:                5426   AIC:                         4.208e+04\n",
      "Df Residuals:                    5421   BIC:                         4.211e+04\n",
      "Df Model:                           4                                         \n",
      "Covariance Type:            nonrobust                                         \n",
      "==============================================================================================\n",
      "                                 coef    std err          t      P>|t|      [0.025      0.975]\n",
      "----------------------------------------------------------------------------------------------\n",
      "Intercept                     47.9002      0.347    138.217      0.000      47.221      48.580\n",
      "Densidade_Populacional         0.0019      0.000      6.503      0.000       0.001       0.002\n",
      "PIB_per_Capita                 0.0641      0.004     15.988      0.000       0.056       0.072\n",
      "Total_de_areas_urbanizadas     0.1197      0.007     15.985      0.000       0.105       0.134\n",
      "IFGF_Inv                      -1.4978      0.597     -2.509      0.012      -2.668      -0.328\n",
      "==============================================================================\n",
      "Omnibus:                      993.364   Durbin-Watson:                   1.563\n",
      "Prob(Omnibus):                  0.000   Jarque-Bera (JB):             1850.679\n",
      "Skew:                          -1.136   Prob(JB):                         0.00\n",
      "Kurtosis:                       4.739   Cond. No.                     2.56e+03\n",
      "==============================================================================\n",
      "\n",
      "Notes:\n",
      "[1] Standard Errors assume that the covariance matrix of the errors is correctly specified.\n",
      "[2] The condition number is large, 2.56e+03. This might indicate that there are\n",
      "strong multicollinearity or other numerical problems.\n"
     ]
    }
   ],
   "source": [
    "# Regressão com as variaveis finais escolhidas\n",
    "resultado = smf.ols('ibc ~ Densidade_Populacional + PIB_per_Capita + Total_de_areas_urbanizadas + IFGF_Inv',data = df_r1).fit()\n",
    "print(resultado.summary())"
   ]
  },
  {
   "cell_type": "markdown",
   "metadata": {},
   "source": [
    "## Análise da Terceira Regressão\n",
    "* **Notamos que todas as estimativas dos parâmetros são significativas a 5% de significância**\n",
    "* Podemos olhar um leve aumento do R-quadrado, obtemos um valor de 13% o que ainda indica um R-quadrado baixo, **logo nossa regressão não explica ainda de maneira satisfatória a dinâmica do IBC**\n",
    "* Não aparentar ter autocorrelação nos resíduos, uma vez que o **Durbin-Watson deu o valor de 1.563**, dessa forma próximo de dois, o que indica **AUSÊNCIA de autocorrelação nos resíduos**\n",
    "* Contudo, **o modelo aparenta apresentar multicolinearidade**, dessa forma devemos analisar a matriz de correlação das variáveis e o Fator de Inflação da Variância(FIV) das mesmas\n",
    "* Outro fator que nos chama a atenção é que a estimativa IFGF_Inv obteve um coeficiente negativo, algo que pode ser contraintuitivo uma vez que o índice mede a parcela da receita dos municípios destinado aos investimentos, dessa forma é esperado que um município que destina mais aos investimentos atraia também mais investimentos do setor privado, assim empresas de telecomunicações ficariam interessadas em investir na infraestrutura dessas cidades. Contudo, esse sinal pode ser devido a presença de multicolinearidade, com a variavel apresentando um FIV alto, mas também alguma relação real que não foi pressuposta no ínicio da analise. Dessa forma, devemos eliminar primeiro a suposição de a multicolinearidade estar afetando no sinal da variavel "
   ]
  },
  {
   "cell_type": "code",
   "execution_count": null,
   "metadata": {
    "execution": {
     "iopub.execute_input": "2025-10-04T18:23:51.741776Z",
     "iopub.status.busy": "2025-10-04T18:23:51.741526Z",
     "iopub.status.idle": "2025-10-04T18:23:52.072765Z",
     "shell.execute_reply": "2025-10-04T18:23:52.071798Z",
     "shell.execute_reply.started": "2025-10-04T18:23:51.741758Z"
    },
    "trusted": true
   },
   "outputs": [
    {
     "name": "stdout",
     "output_type": "stream",
     "text": [
      "\n",
      "--- Matriz de Correlação ---\n"
     ]
    },
    {
     "data": {
      "image/png": "[encoded data removed]",
      "text/plain": [
       "<Figure size 1000x800 with 2 Axes>"
      ]
     },
     "metadata": {},
     "output_type": "display_data"
    }
   ],
   "source": [
    "#Criando uma matriz de correlação para visualização de possiveis multicolinearidade\n",
    "variaveis_do_modelo = [\n",
    "    'ibc',\n",
    "    'Densidade_Populacional',\n",
    "    'PIB_per_Capita',\n",
    "    'Total_de_areas_urbanizadas',\n",
    "    'IFGF_Inv'\n",
    "]\n",
    "df_modelo = df_r1[variaveis_do_modelo]\n",
    "matriz_correlacao = df_modelo.corr()\n",
    "print(\"\\n--- Matriz de Correlação ---\")\n",
    "plt.figure(figsize=(10, 8))\n",
    "sns.heatmap(\n",
    "    matriz_correlacao,\n",
    "    annot=True,          \n",
    "    cmap='coolwarm',     \n",
    "    fmt='.2f',           \n",
    "    linewidths=.5        \n",
    ")\n",
    "\n",
    "plt.title('Matriz de Correlação das Variáveis do Modelo', fontsize=16)\n",
    "plt.show()"
   ]
  },
  {
   "cell_type": "markdown",
   "metadata": {},
   "source": [
    "**A Matriz de correlação aparentemente nos diz que não há uma multicolinearidade grande entre as variáveis do modelo**, contudo ainda sim cabe fazermos o teste mais formal e robusto por meio do calculo do Fator de Inflação da Variância (FIV)"
   ]
  },
  {
   "cell_type": "code",
   "execution_count": null,
   "metadata": {
    "execution": {
     "iopub.execute_input": "2025-10-04T18:23:52.074088Z",
     "iopub.status.busy": "2025-10-04T18:23:52.073738Z",
     "iopub.status.idle": "2025-10-04T18:23:52.094396Z",
     "shell.execute_reply": "2025-10-04T18:23:52.093350Z",
     "shell.execute_reply.started": "2025-10-04T18:23:52.074064Z"
    },
    "trusted": true
   },
   "outputs": [
    {
     "name": "stdout",
     "output_type": "stream",
     "text": [
      "                     variavel       VIF\n",
      "0      Densidade_Populacional  1.221126\n",
      "1              PIB_per_Capita  1.016173\n",
      "2  Total_de_areas_urbanizadas  1.234647\n",
      "3                    IFGF_Inv  1.011775\n",
      "4                   intercept  4.773352\n"
     ]
    },
    {
     "name": "stderr",
     "output_type": "stream",
     "text": [
      "/tmp/ipykernel_86/1348640607.py:6: SettingWithCopyWarning:\n",
      "\n",
      "\n",
      "A value is trying to be set on a copy of a slice from a DataFrame.\n",
      "Try using .loc[row_indexer,col_indexer] = value instead\n",
      "\n",
      "See the caveats in the documentation: https://pandas.pydata.org/pandas-docs/stable/user_guide/indexing.html#returning-a-view-versus-a-copy\n",
      "\n"
     ]
    }
   ],
   "source": [
    "# Calculando o Fator de Inflação da Variância para testar a Multicolinearidade\n",
    "from statsmodels.stats.outliers_influence import variance_inflation_factor\n",
    "\n",
    "variaveis_independentes = df_r1[['Densidade_Populacional', 'PIB_per_Capita', 'Total_de_areas_urbanizadas', 'IFGF_Inv']]\n",
    "\n",
    "variaveis_independentes['intercept'] = 1\n",
    "\n",
    "vif = pd.DataFrame()\n",
    "vif[\"variavel\"] = variaveis_independentes.columns\n",
    "vif[\"VIF\"] = [variance_inflation_factor(variaveis_independentes.values, i) for i in range(variaveis_independentes.shape[1])]\n",
    "\n",
    "print(vif)"
   ]
  },
  {
   "cell_type": "markdown",
   "metadata": {},
   "source": [
    "## Resultados e conclusões acerca da Terceira Regressão\n",
    "* Após analisar a matriz de correlação das variáveis, bem como FIV podemos *descartar a presença de multicolinearidade do nosso modelo*, uma vez que na matriz de correlação não possuímos correlações dois a dois entre as variáveis maiores do que 0.6, bem como no FIV todas as variáveis apresentaram valores próximos de 1 o que acaba descartando esse fator do modelo.\n",
    "* Com a possibilidade de multicolinearidade descartada, o valor negativo das variáveis IFGF_Inv se deve a alguma dinâmica que contraria o pressuposto inicial. Dessa forma, podemos criar um novo pressuposto que se baseia na seguinte concepção acerca dos investimentos: Municípios que possuem um IBC pior, podem ter um indicador de IGFG maior, uma vez que é esperado que esses municípios tenham um maior gasto no investimento e recebam até mesmo dinheiro do governo federal para o mesmo, além disso, cidades que possuem um IBC mais consolidado gastem menos em investimentos e sim mais renda em salários e direcionar parte da receita do município para cobrir gastos com a depreciação e manutenção da infraestrutura já existente.\n",
    "* Contudo, nosso modelo ainda carece de muitas variáveis explicativas que seriam relevantes ao modelo, um indicador disso é o R-quadrado extremamente baixo, *desse modo não podemos descartar a possibilidade de viés de variável omitida*\n",
    "* Dessa forma, eu estudos futuros sobre o tema, sabemos que a Densidade populacional, o PIB per Capita, o Total de Areas urbanizadas e indicadores de investimentos do município são relevantes para explicar o IBC, contudo somente estes ainda são insuficientes, logo cabendo ao pesquisador ou analista de mercado, mais variáveis e dados: tais como distancia do município de uma capital, uma vez que é mais fácil levar conectividade para cidades que estão em um entorno de um HUB de tecnologia, altitude de cada município, pois também é mais fácil levar conexões como fibra óptica para cidades com baixa altitude, outros fatores também podem ser descritos como sociais, por exemplo cidades com população mais idosa tem menos necessidade de tecnologia, bem como muitas dessas pessoas não vejam utilidade para conexão mais rápida, dado que elas não tem a tecnologia tão integrada em seu dia a dia"
   ]
  },
  {
   "cell_type": "markdown",
   "metadata": {},
   "source": [
    "# **Conclusões Gerais do Estudo**\n",
    "* As regiões que possuíram os melhores indicadores de conectividade são justamente as regiões Sul e Sudeste, com no caso do principal indicador, o IBC, essas regiões liderando com folga se comparado com outras regiões do país, além disso, vimos que a região Norte é a obteve os indicadores mais baixos, evidenciando-se o indicador geral e principal o IBC, isso justamente se deve ao fato de a região Norte sofrer com baixa infraestrutura no geral, bem como ter poucos polos de concentração de indústrias ou sedes de empresas de serviços na região, se comparado com o Sul e Sudeste. A exceção é para as capitais do País, uma vez que a maioria das capitais obtiveram IBC's bem maiores que a média do Brasil.\n",
    "* As coberturas 4G/5G na maior parte das regiões estão avançando, com o Brasil tendo uma cobertura satisfatória, contudo vale ressaltar que muito desse indicador ter valores positivos se deu ao fato de a ANATEL considerar a cobertura tanto do 4G quanto do 5G de maneira unida, dessa forma caso houvesse a distinção entre as duas tecnologias provavelmente teríamos uma cobertura 5G ainda muito abaixo. Porém, com base neste indicador podemos dizer que a maioria das regiões está com coberturas satisfatórias, com exceção da região norte.\n",
    "* No que tange a cobertura de Fibra (FTTH) a nossa conclusão é que as Regiões Sul e Sudeste estão com coberturas satisfatórias, bem como as regiões Norte e Nordeste são as que possuem as piores coberturas de fibra\n",
    "* O HHI nos revelou somente uma dinâmica já conhecida a da extrema concentração de mercado no país no setor de telecomunicações, isso se da, pois o mercado principalmente de telefonia móvel no Brasil é um Oligopólio, dessa forma todas as regiões obtiveram HHI's altos o que indicam alta concentração de mercado. O único fato curioso é que até mesmo as capitais apresentaram alta concentração de mercado, algo que não era tão esperado, uma vez que ao menos na fibra haveria mais competição entre as empresas de telefonia, porém isso não deve ocorrer, pois por mais que na fibra haja mais empresas disponibilizando serviços, o mercado ainda está concentrado na mão de poucas empresas tais como Vivo, Claro e Oi\n",
    "* Por fim, nossa regressão se mostrou insuficiente para determinar explicar toda a dinâmica que afeta o IBC, dessa forma não podendo ser usada para predizer os valores do IBC, porém ela é reveladora ao todas as variáveis presentes na regressão serem significativas a 5% de significância, o que como foi dito na seção anterior as variáveis como densidade populacional, PIB per capita, indicadores de investimento e total de áreas urbanas são relevantes para explicar a dinâmica do IBC."
   ]
  }
 ],
 "metadata": {
  "kaggle": {
   "accelerator": "none",
   "dataSources": [
    {
     "datasetId": 7983525,
     "sourceId": 12634307,
     "sourceType": "datasetVersion"
    },
    {
     "datasetId": 7983529,
     "sourceId": 12634312,
     "sourceType": "datasetVersion"
    },
    {
     "datasetId": 7983535,
     "sourceId": 12634319,
     "sourceType": "datasetVersion"
    },
    {
     "datasetId": 8184825,
     "sourceId": 12934303,
     "sourceType": "datasetVersion"
    },
    {
     "datasetId": 8197992,
     "sourceId": 12953648,
     "sourceType": "datasetVersion"
    }
   ],
   "dockerImageVersionId": 31089,
   "isGpuEnabled": false,
   "isInternetEnabled": true,
   "language": "python",
   "sourceType": "notebook"
  },
  "kernelspec": {
   "display_name": "base",
   "language": "python",
   "name": "python3"
  },
  "language_info": {
   "codemirror_mode": {
    "name": "ipython",
    "version": 3
   },
   "file_extension": ".py",
   "mimetype": "text/x-python",
   "name": "python",
   "nbconvert_exporter": "python",
   "pygments_lexer": "ipython3",
   "version": "3.12.4"
  }
 },
 "nbformat": 4,
 "nbformat_minor": 4
}
